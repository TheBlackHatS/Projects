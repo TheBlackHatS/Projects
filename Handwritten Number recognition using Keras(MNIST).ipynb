{
 "cells": [
  {
   "cell_type": "code",
   "execution_count": 1,
   "id": "adc54586",
   "metadata": {},
   "outputs": [
    {
     "name": "stdout",
     "output_type": "stream",
     "text": [
      "Requirement already satisfied: tensorflow in c:\\users\\ravishankar\\anaconda3\\lib\\site-packages (2.11.0)\n",
      "Requirement already satisfied: tensorflow-intel==2.11.0 in c:\\users\\ravishankar\\anaconda3\\lib\\site-packages (from tensorflow) (2.11.0)\n",
      "Requirement already satisfied: libclang>=13.0.0 in c:\\users\\ravishankar\\anaconda3\\lib\\site-packages (from tensorflow-intel==2.11.0->tensorflow) (15.0.6.1)\n",
      "Requirement already satisfied: setuptools in c:\\users\\ravishankar\\anaconda3\\lib\\site-packages (from tensorflow-intel==2.11.0->tensorflow) (58.0.4)\n",
      "Requirement already satisfied: typing-extensions>=3.6.6 in c:\\users\\ravishankar\\anaconda3\\lib\\site-packages (from tensorflow-intel==2.11.0->tensorflow) (3.10.0.2)\n",
      "Requirement already satisfied: google-pasta>=0.1.1 in c:\\users\\ravishankar\\anaconda3\\lib\\site-packages (from tensorflow-intel==2.11.0->tensorflow) (0.2.0)\n",
      "Requirement already satisfied: termcolor>=1.1.0 in c:\\users\\ravishankar\\anaconda3\\lib\\site-packages (from tensorflow-intel==2.11.0->tensorflow) (2.2.0)\n",
      "Requirement already satisfied: numpy>=1.20 in c:\\users\\ravishankar\\anaconda3\\lib\\site-packages (from tensorflow-intel==2.11.0->tensorflow) (1.20.3)\n",
      "Requirement already satisfied: wrapt>=1.11.0 in c:\\users\\ravishankar\\anaconda3\\lib\\site-packages (from tensorflow-intel==2.11.0->tensorflow) (1.12.1)\n",
      "Requirement already satisfied: tensorflow-io-gcs-filesystem>=0.23.1 in c:\\users\\ravishankar\\anaconda3\\lib\\site-packages (from tensorflow-intel==2.11.0->tensorflow) (0.30.0)\n",
      "Requirement already satisfied: opt-einsum>=2.3.2 in c:\\users\\ravishankar\\anaconda3\\lib\\site-packages (from tensorflow-intel==2.11.0->tensorflow) (3.3.0)\n",
      "Requirement already satisfied: gast<=0.4.0,>=0.2.1 in c:\\users\\ravishankar\\anaconda3\\lib\\site-packages (from tensorflow-intel==2.11.0->tensorflow) (0.4.0)\n",
      "Requirement already satisfied: protobuf<3.20,>=3.9.2 in c:\\users\\ravishankar\\anaconda3\\lib\\site-packages (from tensorflow-intel==2.11.0->tensorflow) (3.19.6)\n",
      "Requirement already satisfied: six>=1.12.0 in c:\\users\\ravishankar\\anaconda3\\lib\\site-packages (from tensorflow-intel==2.11.0->tensorflow) (1.16.0)\n",
      "Requirement already satisfied: grpcio<2.0,>=1.24.3 in c:\\users\\ravishankar\\anaconda3\\lib\\site-packages (from tensorflow-intel==2.11.0->tensorflow) (1.51.3)\n",
      "Requirement already satisfied: tensorflow-estimator<2.12,>=2.11.0 in c:\\users\\ravishankar\\anaconda3\\lib\\site-packages (from tensorflow-intel==2.11.0->tensorflow) (2.11.0)\n",
      "Requirement already satisfied: absl-py>=1.0.0 in c:\\users\\ravishankar\\anaconda3\\lib\\site-packages (from tensorflow-intel==2.11.0->tensorflow) (1.4.0)\n",
      "Requirement already satisfied: packaging in c:\\users\\ravishankar\\anaconda3\\lib\\site-packages (from tensorflow-intel==2.11.0->tensorflow) (21.0)\n",
      "Requirement already satisfied: keras<2.12,>=2.11.0 in c:\\users\\ravishankar\\anaconda3\\lib\\site-packages (from tensorflow-intel==2.11.0->tensorflow) (2.11.0)\n",
      "Requirement already satisfied: astunparse>=1.6.0 in c:\\users\\ravishankar\\anaconda3\\lib\\site-packages (from tensorflow-intel==2.11.0->tensorflow) (1.6.3)\n",
      "Requirement already satisfied: h5py>=2.9.0 in c:\\users\\ravishankar\\anaconda3\\lib\\site-packages (from tensorflow-intel==2.11.0->tensorflow) (3.2.1)\n",
      "Requirement already satisfied: flatbuffers>=2.0 in c:\\users\\ravishankar\\anaconda3\\lib\\site-packages (from tensorflow-intel==2.11.0->tensorflow) (23.1.21)\n",
      "Requirement already satisfied: tensorboard<2.12,>=2.11 in c:\\users\\ravishankar\\anaconda3\\lib\\site-packages (from tensorflow-intel==2.11.0->tensorflow) (2.11.2)\n",
      "Requirement already satisfied: wheel<1.0,>=0.23.0 in c:\\users\\ravishankar\\anaconda3\\lib\\site-packages (from astunparse>=1.6.0->tensorflow-intel==2.11.0->tensorflow) (0.37.0)\n",
      "Requirement already satisfied: tensorboard-plugin-wit>=1.6.0 in c:\\users\\ravishankar\\anaconda3\\lib\\site-packages (from tensorboard<2.12,>=2.11->tensorflow-intel==2.11.0->tensorflow) (1.8.1)\n",
      "Requirement already satisfied: google-auth<3,>=1.6.3 in c:\\users\\ravishankar\\anaconda3\\lib\\site-packages (from tensorboard<2.12,>=2.11->tensorflow-intel==2.11.0->tensorflow) (2.16.1)\n",
      "Requirement already satisfied: tensorboard-data-server<0.7.0,>=0.6.0 in c:\\users\\ravishankar\\anaconda3\\lib\\site-packages (from tensorboard<2.12,>=2.11->tensorflow-intel==2.11.0->tensorflow) (0.6.1)\n",
      "Requirement already satisfied: google-auth-oauthlib<0.5,>=0.4.1 in c:\\users\\ravishankar\\anaconda3\\lib\\site-packages (from tensorboard<2.12,>=2.11->tensorflow-intel==2.11.0->tensorflow) (0.4.6)\n",
      "Requirement already satisfied: werkzeug>=1.0.1 in c:\\users\\ravishankar\\anaconda3\\lib\\site-packages (from tensorboard<2.12,>=2.11->tensorflow-intel==2.11.0->tensorflow) (2.0.2)\n",
      "Requirement already satisfied: markdown>=2.6.8 in c:\\users\\ravishankar\\anaconda3\\lib\\site-packages (from tensorboard<2.12,>=2.11->tensorflow-intel==2.11.0->tensorflow) (3.4.1)\n",
      "Requirement already satisfied: requests<3,>=2.21.0 in c:\\users\\ravishankar\\anaconda3\\lib\\site-packages (from tensorboard<2.12,>=2.11->tensorflow-intel==2.11.0->tensorflow) (2.26.0)\n",
      "Requirement already satisfied: rsa<5,>=3.1.4 in c:\\users\\ravishankar\\anaconda3\\lib\\site-packages (from google-auth<3,>=1.6.3->tensorboard<2.12,>=2.11->tensorflow-intel==2.11.0->tensorflow) (4.9)\n",
      "Requirement already satisfied: cachetools<6.0,>=2.0.0 in c:\\users\\ravishankar\\anaconda3\\lib\\site-packages (from google-auth<3,>=1.6.3->tensorboard<2.12,>=2.11->tensorflow-intel==2.11.0->tensorflow) (5.3.0)\n",
      "Requirement already satisfied: pyasn1-modules>=0.2.1 in c:\\users\\ravishankar\\anaconda3\\lib\\site-packages (from google-auth<3,>=1.6.3->tensorboard<2.12,>=2.11->tensorflow-intel==2.11.0->tensorflow) (0.2.8)\n",
      "Requirement already satisfied: requests-oauthlib>=0.7.0 in c:\\users\\ravishankar\\anaconda3\\lib\\site-packages (from google-auth-oauthlib<0.5,>=0.4.1->tensorboard<2.12,>=2.11->tensorflow-intel==2.11.0->tensorflow) (1.3.1)\n",
      "Requirement already satisfied: importlib-metadata>=4.4 in c:\\users\\ravishankar\\anaconda3\\lib\\site-packages (from markdown>=2.6.8->tensorboard<2.12,>=2.11->tensorflow-intel==2.11.0->tensorflow) (4.8.1)\n",
      "Requirement already satisfied: zipp>=0.5 in c:\\users\\ravishankar\\anaconda3\\lib\\site-packages (from importlib-metadata>=4.4->markdown>=2.6.8->tensorboard<2.12,>=2.11->tensorflow-intel==2.11.0->tensorflow) (3.6.0)\n",
      "Requirement already satisfied: pyasn1<0.5.0,>=0.4.6 in c:\\users\\ravishankar\\anaconda3\\lib\\site-packages (from pyasn1-modules>=0.2.1->google-auth<3,>=1.6.3->tensorboard<2.12,>=2.11->tensorflow-intel==2.11.0->tensorflow) (0.4.8)\n",
      "Requirement already satisfied: charset-normalizer~=2.0.0 in c:\\users\\ravishankar\\anaconda3\\lib\\site-packages (from requests<3,>=2.21.0->tensorboard<2.12,>=2.11->tensorflow-intel==2.11.0->tensorflow) (2.0.4)\n",
      "Requirement already satisfied: urllib3<1.27,>=1.21.1 in c:\\users\\ravishankar\\anaconda3\\lib\\site-packages (from requests<3,>=2.21.0->tensorboard<2.12,>=2.11->tensorflow-intel==2.11.0->tensorflow) (1.26.7)\n",
      "Requirement already satisfied: certifi>=2017.4.17 in c:\\users\\ravishankar\\anaconda3\\lib\\site-packages (from requests<3,>=2.21.0->tensorboard<2.12,>=2.11->tensorflow-intel==2.11.0->tensorflow) (2021.10.8)\n",
      "Requirement already satisfied: idna<4,>=2.5 in c:\\users\\ravishankar\\anaconda3\\lib\\site-packages (from requests<3,>=2.21.0->tensorboard<2.12,>=2.11->tensorflow-intel==2.11.0->tensorflow) (3.2)\n",
      "Requirement already satisfied: oauthlib>=3.0.0 in c:\\users\\ravishankar\\anaconda3\\lib\\site-packages (from requests-oauthlib>=0.7.0->google-auth-oauthlib<0.5,>=0.4.1->tensorboard<2.12,>=2.11->tensorflow-intel==2.11.0->tensorflow) (3.2.2)\n",
      "Requirement already satisfied: pyparsing>=2.0.2 in c:\\users\\ravishankar\\anaconda3\\lib\\site-packages (from packaging->tensorflow-intel==2.11.0->tensorflow) (3.0.4)\n"
     ]
    }
   ],
   "source": [
    "!pip install tensorflow"
   ]
  },
  {
   "cell_type": "code",
   "execution_count": 2,
   "id": "3c8b0fe4",
   "metadata": {},
   "outputs": [
    {
     "name": "stdout",
     "output_type": "stream",
     "text": [
      "Requirement already satisfied: keras in c:\\users\\ravishankar\\anaconda3\\lib\\site-packages (2.11.0)\n"
     ]
    }
   ],
   "source": [
    "!pip install keras"
   ]
  },
  {
   "cell_type": "code",
   "execution_count": 3,
   "id": "d9f91226",
   "metadata": {},
   "outputs": [
    {
     "name": "stdout",
     "output_type": "stream",
     "text": [
      "Requirement already satisfied: pydot in c:\\users\\ravishankar\\anaconda3\\lib\\site-packages (1.4.2)\n",
      "Requirement already satisfied: pyparsing>=2.1.4 in c:\\users\\ravishankar\\anaconda3\\lib\\site-packages (from pydot) (3.0.4)\n"
     ]
    }
   ],
   "source": [
    "!pip install pydot"
   ]
  },
  {
   "cell_type": "code",
   "execution_count": 4,
   "id": "3636a032",
   "metadata": {},
   "outputs": [
    {
     "name": "stdout",
     "output_type": "stream",
     "text": [
      "Requirement already satisfied: graphviz in c:\\users\\ravishankar\\anaconda3\\lib\\site-packages (0.20.1)\n"
     ]
    }
   ],
   "source": [
    "!pip install graphviz"
   ]
  },
  {
   "cell_type": "code",
   "execution_count": 2,
   "id": "cd2c5a17",
   "metadata": {},
   "outputs": [],
   "source": [
    "import matplotlib.pyplot as plt\n",
    "from keras.layers import Dense, Flatten\n",
    "from keras.models import Sequential\n",
    "from keras.utils import to_categorical\n",
    "from keras.datasets import mnist\n",
    "from keras import utils\n"
   ]
  },
  {
   "cell_type": "code",
   "execution_count": 3,
   "id": "31cd44b2",
   "metadata": {},
   "outputs": [],
   "source": [
    "(x_train,y_train),(x_test,y_test)=mnist.load_data()"
   ]
  },
  {
   "cell_type": "code",
   "execution_count": 4,
   "id": "58587b37",
   "metadata": {},
   "outputs": [
    {
     "data": {
      "text/plain": [
       "(60000, 28, 28)"
      ]
     },
     "execution_count": 4,
     "metadata": {},
     "output_type": "execute_result"
    }
   ],
   "source": [
    "x_train.shape"
   ]
  },
  {
   "cell_type": "code",
   "execution_count": 5,
   "id": "d9b3785a",
   "metadata": {},
   "outputs": [
    {
     "data": {
      "text/plain": [
       "(60000,)"
      ]
     },
     "execution_count": 5,
     "metadata": {},
     "output_type": "execute_result"
    }
   ],
   "source": [
    "y_train.shape"
   ]
  },
  {
   "cell_type": "code",
   "execution_count": 6,
   "id": "c5a9bff8",
   "metadata": {},
   "outputs": [
    {
     "data": {
      "text/plain": [
       "(10000, 28, 28)"
      ]
     },
     "execution_count": 6,
     "metadata": {},
     "output_type": "execute_result"
    }
   ],
   "source": [
    "x_test.shape"
   ]
  },
  {
   "cell_type": "code",
   "execution_count": 7,
   "id": "966947a5",
   "metadata": {},
   "outputs": [
    {
     "data": {
      "text/plain": [
       "(10000,)"
      ]
     },
     "execution_count": 7,
     "metadata": {},
     "output_type": "execute_result"
    }
   ],
   "source": [
    "y_test.shape"
   ]
  },
  {
   "cell_type": "code",
   "execution_count": 8,
   "id": "0697c060",
   "metadata": {},
   "outputs": [
    {
     "data": {
      "text/plain": [
       "array([5, 0, 4, ..., 5, 6, 8], dtype=uint8)"
      ]
     },
     "execution_count": 8,
     "metadata": {},
     "output_type": "execute_result"
    }
   ],
   "source": [
    "y_train"
   ]
  },
  {
   "cell_type": "code",
   "execution_count": 9,
   "id": "a127c150",
   "metadata": {},
   "outputs": [
    {
     "data": {
      "image/png": "[encoded data removed]",
      "text/plain": [
       "<Figure size 1440x288 with 10 Axes>"
      ]
     },
     "metadata": {
      "needs_background": "light"
     },
     "output_type": "display_data"
    }
   ],
   "source": [
    "fig,axes=plt.subplots(ncols=10,sharex=False,sharey=True,figsize=(20,4))\n",
    "for i in range(10):\n",
    "    axes[i].set_title(y_train[i])\n",
    "    axes[i].imshow(x_train[i],cmap='gray')\n",
    "    axes[i].get_xaxis().set_visible(False)\n",
    "    axes[i].get_yaxis().set_visible(False)\n",
    "plt.show()   "
   ]
  },
  {
   "cell_type": "code",
   "execution_count": 10,
   "id": "c00e9038",
   "metadata": {},
   "outputs": [],
   "source": [
    "y_train=to_categorical(y_train)\n",
    "y_test=to_categorical(y_test)"
   ]
  },
  {
   "cell_type": "code",
   "execution_count": 11,
   "id": "07a9fb93",
   "metadata": {},
   "outputs": [
    {
     "data": {
      "text/plain": [
       "(10000, 10)"
      ]
     },
     "execution_count": 11,
     "metadata": {},
     "output_type": "execute_result"
    }
   ],
   "source": [
    "y_test.shape"
   ]
  },
  {
   "cell_type": "code",
   "execution_count": 12,
   "id": "38a41eaa",
   "metadata": {},
   "outputs": [
    {
     "data": {
      "text/plain": [
       "(60000, 10)"
      ]
     },
     "execution_count": 12,
     "metadata": {},
     "output_type": "execute_result"
    }
   ],
   "source": [
    "y_train.shape"
   ]
  },
  {
   "cell_type": "code",
   "execution_count": 13,
   "id": "7eaab8ad",
   "metadata": {},
   "outputs": [],
   "source": [
    "model=Sequential()\n",
    "model.add(Flatten(input_shape=(28,28)))\n",
    "model.add(Dense(10,activation='sigmoid'))\n",
    "model.add(Dense(5,activation='sigmoid'))\n",
    "model.add(Dense(10,activation='softmax'))"
   ]
  },
  {
   "cell_type": "code",
   "execution_count": 14,
   "id": "39056a06",
   "metadata": {},
   "outputs": [
    {
     "name": "stdout",
     "output_type": "stream",
     "text": [
      "Model: \"sequential\"\n",
      "_________________________________________________________________\n",
      " Layer (type)                Output Shape              Param #   \n",
      "=================================================================\n",
      " flatten (Flatten)           (None, 784)               0         \n",
      "                                                                 \n",
      " dense (Dense)               (None, 10)                7850      \n",
      "                                                                 \n",
      " dense_1 (Dense)             (None, 5)                 55        \n",
      "                                                                 \n",
      " dense_2 (Dense)             (None, 10)                60        \n",
      "                                                                 \n",
      "=================================================================\n",
      "Total params: 7,965\n",
      "Trainable params: 7,965\n",
      "Non-trainable params: 0\n",
      "_________________________________________________________________\n"
     ]
    }
   ],
   "source": [
    "model.summary()"
   ]
  },
  {
   "cell_type": "code",
   "execution_count": 14,
   "id": "af288a07",
   "metadata": {},
   "outputs": [
    {
     "data": {
      "image/png": "[encoded data removed]",
      "text/plain": [
       "<IPython.core.display.Image object>"
      ]
     },
     "execution_count": 14,
     "metadata": {},
     "output_type": "execute_result"
    }
   ],
   "source": [
    "utils.plot_model(model,show_shapes=True)"
   ]
  },
  {
   "cell_type": "code",
   "execution_count": 15,
   "id": "ad2f101a",
   "metadata": {},
   "outputs": [],
   "source": [
    "model.compile(loss='categorical_crossentropy',optimizer='adam',metrics=['acc'])"
   ]
  },
  {
   "cell_type": "code",
   "execution_count": 16,
   "id": "f568a788",
   "metadata": {},
   "outputs": [
    {
     "name": "stdout",
     "output_type": "stream",
     "text": [
      "Epoch 1/25\n",
      "1875/1875 [==============================] - 5s 2ms/step - loss: 1.7783 - acc: 0.4405 - val_loss: 1.3918 - val_acc: 0.6081\n",
      "Epoch 2/25\n",
      "1875/1875 [==============================] - 4s 2ms/step - loss: 1.1947 - acc: 0.6816 - val_loss: 1.0377 - val_acc: 0.6996\n",
      "Epoch 3/25\n",
      "1875/1875 [==============================] - 3s 2ms/step - loss: 0.9571 - acc: 0.7250 - val_loss: 0.8549 - val_acc: 0.7533\n",
      "Epoch 4/25\n",
      "1875/1875 [==============================] - 3s 2ms/step - loss: 0.8230 - acc: 0.7538 - val_loss: 0.7806 - val_acc: 0.7735\n",
      "Epoch 5/25\n",
      "1875/1875 [==============================] - 3s 2ms/step - loss: 0.7544 - acc: 0.7854 - val_loss: 0.7076 - val_acc: 0.7938\n",
      "Epoch 6/25\n",
      "1875/1875 [==============================] - 3s 2ms/step - loss: 0.7240 - acc: 0.8009 - val_loss: 0.7072 - val_acc: 0.8113\n",
      "Epoch 7/25\n",
      "1875/1875 [==============================] - 3s 2ms/step - loss: 0.6882 - acc: 0.8112 - val_loss: 0.6475 - val_acc: 0.8266\n",
      "Epoch 8/25\n",
      "1875/1875 [==============================] - 3s 2ms/step - loss: 0.6511 - acc: 0.8207 - val_loss: 0.6439 - val_acc: 0.8223\n",
      "Epoch 9/25\n",
      "1875/1875 [==============================] - 3s 2ms/step - loss: 0.6494 - acc: 0.8269 - val_loss: 0.6632 - val_acc: 0.8179\n",
      "Epoch 10/25\n",
      "1875/1875 [==============================] - 4s 2ms/step - loss: 0.6172 - acc: 0.8351 - val_loss: 0.5844 - val_acc: 0.8516\n",
      "Epoch 11/25\n",
      "1875/1875 [==============================] - 3s 2ms/step - loss: 0.5921 - acc: 0.8450 - val_loss: 0.5783 - val_acc: 0.8562\n",
      "Epoch 12/25\n",
      "1875/1875 [==============================] - 4s 2ms/step - loss: 0.5836 - acc: 0.8461 - val_loss: 0.6095 - val_acc: 0.8324\n",
      "Epoch 13/25\n",
      "1875/1875 [==============================] - 4s 2ms/step - loss: 0.5625 - acc: 0.8507 - val_loss: 0.5317 - val_acc: 0.8630\n",
      "Epoch 14/25\n",
      "1875/1875 [==============================] - 4s 2ms/step - loss: 0.5672 - acc: 0.8507 - val_loss: 0.6020 - val_acc: 0.8427\n",
      "Epoch 15/25\n",
      "1875/1875 [==============================] - 4s 2ms/step - loss: 0.5714 - acc: 0.8467 - val_loss: 0.5643 - val_acc: 0.8470\n",
      "Epoch 16/25\n",
      "1875/1875 [==============================] - 4s 2ms/step - loss: 0.5594 - acc: 0.8505 - val_loss: 0.5498 - val_acc: 0.8575\n",
      "Epoch 17/25\n",
      "1875/1875 [==============================] - 4s 2ms/step - loss: 0.5324 - acc: 0.8617 - val_loss: 0.5170 - val_acc: 0.8736\n",
      "Epoch 18/25\n",
      "1875/1875 [==============================] - 4s 2ms/step - loss: 0.5298 - acc: 0.8611 - val_loss: 0.5756 - val_acc: 0.8428\n",
      "Epoch 19/25\n",
      "1875/1875 [==============================] - 4s 2ms/step - loss: 0.5391 - acc: 0.8593 - val_loss: 0.5136 - val_acc: 0.8721\n",
      "Epoch 20/25\n",
      "1875/1875 [==============================] - 4s 2ms/step - loss: 0.5372 - acc: 0.8573 - val_loss: 0.5269 - val_acc: 0.8651\n",
      "Epoch 21/25\n",
      "1875/1875 [==============================] - 4s 2ms/step - loss: 0.5129 - acc: 0.8629 - val_loss: 0.5159 - val_acc: 0.8654\n",
      "Epoch 22/25\n",
      "1875/1875 [==============================] - 4s 2ms/step - loss: 0.4999 - acc: 0.8732 - val_loss: 0.4960 - val_acc: 0.8751\n",
      "Epoch 23/25\n",
      "1875/1875 [==============================] - 4s 2ms/step - loss: 0.5175 - acc: 0.8623 - val_loss: 0.5440 - val_acc: 0.8513\n",
      "Epoch 24/25\n",
      "1875/1875 [==============================] - 4s 2ms/step - loss: 0.5204 - acc: 0.8608 - val_loss: 0.5120 - val_acc: 0.8648\n",
      "Epoch 25/25\n",
      "1875/1875 [==============================] - 4s 2ms/step - loss: 0.5089 - acc: 0.8657 - val_loss: 0.5531 - val_acc: 0.8495\n"
     ]
    }
   ],
   "source": [
    "history=model.fit(x_train,y_train,epochs=25,validation_data=(x_test,y_test))"
   ]
  },
  {
   "cell_type": "code",
   "execution_count": 24,
   "id": "6a6db783",
   "metadata": {},
   "outputs": [],
   "source": [
    "model.save('mnist_model.h5')"
   ]
  },
  {
   "cell_type": "code",
   "execution_count": 25,
   "id": "233ff35f",
   "metadata": {},
   "outputs": [
    {
     "data": {
      "text/plain": [
       "{'loss': [1.7783247232437134,\n",
       "  1.1946758031845093,\n",
       "  0.9570901989936829,\n",
       "  0.8230149149894714,\n",
       "  0.7544180750846863,\n",
       "  0.7240067720413208,\n",
       "  0.6882115602493286,\n",
       "  0.6510818600654602,\n",
       "  0.6493738889694214,\n",
       "  0.617164134979248,\n",
       "  0.5920888781547546,\n",
       "  0.5835890769958496,\n",
       "  0.5625423789024353,\n",
       "  0.5672476291656494,\n",
       "  0.5714255571365356,\n",
       "  0.5593851804733276,\n",
       "  0.5324327349662781,\n",
       "  0.5298008918762207,\n",
       "  0.5390853881835938,\n",
       "  0.5372182726860046,\n",
       "  0.51287442445755,\n",
       "  0.4998743236064911,\n",
       "  0.517500102519989,\n",
       "  0.5203990340232849,\n",
       "  0.5088669061660767],\n",
       " 'acc': [0.4404999911785126,\n",
       "  0.6815833449363708,\n",
       "  0.7249666452407837,\n",
       "  0.7537833452224731,\n",
       "  0.7854499816894531,\n",
       "  0.8008666634559631,\n",
       "  0.8112000226974487,\n",
       "  0.8207499980926514,\n",
       "  0.8268833160400391,\n",
       "  0.8351333141326904,\n",
       "  0.8449833393096924,\n",
       "  0.8460833430290222,\n",
       "  0.8507000207901001,\n",
       "  0.8506500124931335,\n",
       "  0.8467166423797607,\n",
       "  0.8505499958992004,\n",
       "  0.8617166876792908,\n",
       "  0.861133337020874,\n",
       "  0.859333336353302,\n",
       "  0.8573333621025085,\n",
       "  0.8628833293914795,\n",
       "  0.8731833100318909,\n",
       "  0.8622833490371704,\n",
       "  0.8608166575431824,\n",
       "  0.8656833171844482],\n",
       " 'val_loss': [1.391811490058899,\n",
       "  1.0376919507980347,\n",
       "  0.8549060821533203,\n",
       "  0.7806339263916016,\n",
       "  0.7075724005699158,\n",
       "  0.7071768045425415,\n",
       "  0.6474683880805969,\n",
       "  0.6439070105552673,\n",
       "  0.663188636302948,\n",
       "  0.5843932628631592,\n",
       "  0.5783306360244751,\n",
       "  0.6094692349433899,\n",
       "  0.5316834449768066,\n",
       "  0.6019766926765442,\n",
       "  0.5643085837364197,\n",
       "  0.549796462059021,\n",
       "  0.5169779062271118,\n",
       "  0.5755707025527954,\n",
       "  0.5135647058486938,\n",
       "  0.5269300937652588,\n",
       "  0.51594078540802,\n",
       "  0.49596714973449707,\n",
       "  0.5439895987510681,\n",
       "  0.5120475888252258,\n",
       "  0.5531465411186218],\n",
       " 'val_acc': [0.6080999970436096,\n",
       "  0.6995999813079834,\n",
       "  0.7533000111579895,\n",
       "  0.7735000252723694,\n",
       "  0.7937999963760376,\n",
       "  0.8112999796867371,\n",
       "  0.8266000151634216,\n",
       "  0.8223000168800354,\n",
       "  0.8179000020027161,\n",
       "  0.8515999913215637,\n",
       "  0.8561999797821045,\n",
       "  0.8324000239372253,\n",
       "  0.8629999756813049,\n",
       "  0.8427000045776367,\n",
       "  0.847000002861023,\n",
       "  0.8575000166893005,\n",
       "  0.8736000061035156,\n",
       "  0.8428000211715698,\n",
       "  0.8720999956130981,\n",
       "  0.8651000261306763,\n",
       "  0.8654000163078308,\n",
       "  0.8751000165939331,\n",
       "  0.8513000011444092,\n",
       "  0.864799976348877,\n",
       "  0.8495000004768372]}"
      ]
     },
     "execution_count": 25,
     "metadata": {},
     "output_type": "execute_result"
    }
   ],
   "source": [
    "history.history"
   ]
  },
  {
   "cell_type": "code",
   "execution_count": 26,
   "id": "ad6a8fcb",
   "metadata": {},
   "outputs": [
    {
     "data": {
      "text/plain": [
       "<matplotlib.legend.Legend at 0x1e01ca1a430>"
      ]
     },
     "execution_count": 26,
     "metadata": {},
     "output_type": "execute_result"
    },
    {
     "data": {
      "image/png": "[encoded data removed]",
      "text/plain": [
       "<Figure size 432x288 with 1 Axes>"
      ]
     },
     "metadata": {
      "needs_background": "light"
     },
     "output_type": "display_data"
    }
   ],
   "source": [
    "plt.plot(history.history['loss'],label='Train Loss')\n",
    "plt.plot(history.history['val_loss'],label='validation Loss')\n",
    "plt.legend()"
   ]
  },
  {
   "cell_type": "code",
   "execution_count": 27,
   "id": "f85e5953",
   "metadata": {},
   "outputs": [
    {
     "data": {
      "text/plain": [
       "<matplotlib.legend.Legend at 0x1e01ca89250>"
      ]
     },
     "execution_count": 27,
     "metadata": {},
     "output_type": "execute_result"
    },
    {
     "data": {
      "image/png": "[encoded data removed]",
      "text/plain": [
       "<Figure size 432x288 with 1 Axes>"
      ]
     },
     "metadata": {
      "needs_background": "light"
     },
     "output_type": "display_data"
    }
   ],
   "source": [
    "plt.plot(history.history['acc'],label='Train acc')\n",
    "plt.plot(history.history['val_acc'],label='validation acc')\n",
    "plt.legend()"
   ]
  },
  {
   "cell_type": "code",
   "execution_count": 29,
   "id": "08bb02bd",
   "metadata": {},
   "outputs": [],
   "source": [
    "import keras\n",
    "import numpy as np"
   ]
  },
  {
   "cell_type": "code",
   "execution_count": 30,
   "id": "e3acf9b2",
   "metadata": {},
   "outputs": [],
   "source": [
    "model = keras.models.load_model('mnist_model.h5')"
   ]
  },
  {
   "cell_type": "code",
   "execution_count": 31,
   "id": "7160c6bf",
   "metadata": {},
   "outputs": [
    {
     "data": {
      "text/plain": [
       "<matplotlib.image.AxesImage at 0x1e01a568790>"
      ]
     },
     "execution_count": 31,
     "metadata": {},
     "output_type": "execute_result"
    },
    {
     "data": {
      "image/png": "[encoded data removed]",
      "text/plain": [
       "<Figure size 432x288 with 1 Axes>"
      ]
     },
     "metadata": {
      "needs_background": "light"
     },
     "output_type": "display_data"
    }
   ],
   "source": [
    "plt.imshow(x_test[0],cmap='gray')"
   ]
  },
  {
   "cell_type": "code",
   "execution_count": 32,
   "id": "3fac9bf3",
   "metadata": {},
   "outputs": [
    {
     "name": "stdout",
     "output_type": "stream",
     "text": [
      "1/1 [==============================] - 0s 97ms/step\n"
     ]
    },
    {
     "data": {
      "text/plain": [
       "7"
      ]
     },
     "execution_count": 32,
     "metadata": {},
     "output_type": "execute_result"
    }
   ],
   "source": [
    "x=np.reshape(x_test[0],(1,28,28))\n",
    "np.argmax(model.predict(x))"
   ]
  },
  {
   "cell_type": "code",
   "execution_count": 33,
   "id": "3a07dd1c",
   "metadata": {},
   "outputs": [
    {
     "name": "stdout",
     "output_type": "stream",
     "text": [
      "1/1 [==============================] - 0s 21ms/step\n"
     ]
    },
    {
     "data": {
      "text/plain": [
       "array([[1.3995460e-02, 5.7032099e-07, 3.0591540e-04, 3.0411307e-03,\n",
       "        2.9627100e-04, 1.2079796e-03, 1.5905098e-05, 9.5107156e-01,\n",
       "        9.3545043e-04, 2.9129693e-02]], dtype=float32)"
      ]
     },
     "execution_count": 33,
     "metadata": {},
     "output_type": "execute_result"
    }
   ],
   "source": [
    "model.predict(x)"
   ]
  }
 ],
 "metadata": {
  "kernelspec": {
   "display_name": "Python 3 (ipykernel)",
   "language": "python",
   "name": "python3"
  },
  "language_info": {
   "codemirror_mode": {
    "name": "ipython",
    "version": 3
   },
   "file_extension": ".py",
   "mimetype": "text/x-python",
   "name": "python",
   "nbconvert_exporter": "python",
   "pygments_lexer": "ipython3",
   "version": "3.9.7"
  }
 },
 "nbformat": 4,
 "nbformat_minor": 5
}
