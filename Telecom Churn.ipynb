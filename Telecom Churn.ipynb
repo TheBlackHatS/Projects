{
 "cells": [
  {
   "cell_type": "code",
   "execution_count": 3,
   "id": "ec92ac9e",
   "metadata": {},
   "outputs": [
    {
     "data": {
      "text/html": [
       "<style>.container { width:100% !important; }</style>"
      ],
      "text/plain": [
       "<IPython.core.display.HTML object>"
      ]
     },
     "metadata": {},
     "output_type": "display_data"
    }
   ],
   "source": [
    "from IPython.core.display import display,HTML\n",
    "display(HTML(\"<style>.container { width:100% !important; }</style>\"))"
   ]
  },
  {
   "cell_type": "markdown",
   "id": "5af31e23",
   "metadata": {},
   "source": [
    "# Importing the dataset:"
   ]
  },
  {
   "cell_type": "code",
   "execution_count": 4,
   "id": "490335fb",
   "metadata": {},
   "outputs": [],
   "source": [
    "import pandas as pd\n",
    "import numpy as np"
   ]
  },
  {
   "cell_type": "code",
   "execution_count": 5,
   "id": "9b60cd06",
   "metadata": {},
   "outputs": [],
   "source": [
    "df=pd.read_csv('Telecom_churn.csv')"
   ]
  },
  {
   "cell_type": "code",
   "execution_count": 6,
   "id": "599d225c",
   "metadata": {},
   "outputs": [
    {
     "data": {
      "text/plain": [
       "Index(['customerID', 'gender', 'SeniorCitizen', 'Partner', 'Dependents',\n",
       "       'tenure', 'PhoneService', 'MultipleLines', 'InternetService',\n",
       "       'OnlineSecurity', 'OnlineBackup', 'DeviceProtection', 'TechSupport',\n",
       "       'StreamingTV', 'StreamingMovies', 'Contract', 'PaperlessBilling',\n",
       "       'PaymentMethod', 'MonthlyCharges', 'TotalCharges', 'Churn'],\n",
       "      dtype='object')"
      ]
     },
     "execution_count": 6,
     "metadata": {},
     "output_type": "execute_result"
    }
   ],
   "source": [
    "df.columns"
   ]
  },
  {
   "cell_type": "code",
   "execution_count": 7,
   "id": "74a117b1",
   "metadata": {},
   "outputs": [
    {
     "data": {
      "text/html": [
       "<div>\n",
       "<style scoped>\n",
       "    .dataframe tbody tr th:only-of-type {\n",
       "        vertical-align: middle;\n",
       "    }\n",
       "\n",
       "    .dataframe tbody tr th {\n",
       "        vertical-align: top;\n",
       "    }\n",
       "\n",
       "    .dataframe thead th {\n",
       "        text-align: right;\n",
       "    }\n",
       "</style>\n",
       "<table border=\"1\" class=\"dataframe\">\n",
       "  <thead>\n",
       "    <tr style=\"text-align: right;\">\n",
       "      <th></th>\n",
       "      <th>customerID</th>\n",
       "      <th>gender</th>\n",
       "      <th>SeniorCitizen</th>\n",
       "      <th>Partner</th>\n",
       "      <th>Dependents</th>\n",
       "      <th>tenure</th>\n",
       "      <th>PhoneService</th>\n",
       "      <th>MultipleLines</th>\n",
       "      <th>InternetService</th>\n",
       "      <th>OnlineSecurity</th>\n",
       "      <th>...</th>\n",
       "      <th>DeviceProtection</th>\n",
       "      <th>TechSupport</th>\n",
       "      <th>StreamingTV</th>\n",
       "      <th>StreamingMovies</th>\n",
       "      <th>Contract</th>\n",
       "      <th>PaperlessBilling</th>\n",
       "      <th>PaymentMethod</th>\n",
       "      <th>MonthlyCharges</th>\n",
       "      <th>TotalCharges</th>\n",
       "      <th>Churn</th>\n",
       "    </tr>\n",
       "  </thead>\n",
       "  <tbody>\n",
       "    <tr>\n",
       "      <th>0</th>\n",
       "      <td>7590-VHVEG</td>\n",
       "      <td>Female</td>\n",
       "      <td>0</td>\n",
       "      <td>Yes</td>\n",
       "      <td>No</td>\n",
       "      <td>1</td>\n",
       "      <td>No</td>\n",
       "      <td>No phone service</td>\n",
       "      <td>DSL</td>\n",
       "      <td>No</td>\n",
       "      <td>...</td>\n",
       "      <td>No</td>\n",
       "      <td>No</td>\n",
       "      <td>No</td>\n",
       "      <td>No</td>\n",
       "      <td>Month-to-month</td>\n",
       "      <td>Yes</td>\n",
       "      <td>Electronic check</td>\n",
       "      <td>29.85</td>\n",
       "      <td>29.85</td>\n",
       "      <td>No</td>\n",
       "    </tr>\n",
       "    <tr>\n",
       "      <th>1</th>\n",
       "      <td>5575-GNVDE</td>\n",
       "      <td>Male</td>\n",
       "      <td>0</td>\n",
       "      <td>No</td>\n",
       "      <td>No</td>\n",
       "      <td>34</td>\n",
       "      <td>Yes</td>\n",
       "      <td>No</td>\n",
       "      <td>DSL</td>\n",
       "      <td>Yes</td>\n",
       "      <td>...</td>\n",
       "      <td>Yes</td>\n",
       "      <td>No</td>\n",
       "      <td>No</td>\n",
       "      <td>No</td>\n",
       "      <td>One year</td>\n",
       "      <td>No</td>\n",
       "      <td>Mailed check</td>\n",
       "      <td>56.95</td>\n",
       "      <td>1889.5</td>\n",
       "      <td>No</td>\n",
       "    </tr>\n",
       "    <tr>\n",
       "      <th>2</th>\n",
       "      <td>3668-QPYBK</td>\n",
       "      <td>Male</td>\n",
       "      <td>0</td>\n",
       "      <td>No</td>\n",
       "      <td>No</td>\n",
       "      <td>2</td>\n",
       "      <td>Yes</td>\n",
       "      <td>No</td>\n",
       "      <td>DSL</td>\n",
       "      <td>Yes</td>\n",
       "      <td>...</td>\n",
       "      <td>No</td>\n",
       "      <td>No</td>\n",
       "      <td>No</td>\n",
       "      <td>No</td>\n",
       "      <td>Month-to-month</td>\n",
       "      <td>Yes</td>\n",
       "      <td>Mailed check</td>\n",
       "      <td>53.85</td>\n",
       "      <td>108.15</td>\n",
       "      <td>Yes</td>\n",
       "    </tr>\n",
       "    <tr>\n",
       "      <th>3</th>\n",
       "      <td>7795-CFOCW</td>\n",
       "      <td>Male</td>\n",
       "      <td>0</td>\n",
       "      <td>No</td>\n",
       "      <td>No</td>\n",
       "      <td>45</td>\n",
       "      <td>No</td>\n",
       "      <td>No phone service</td>\n",
       "      <td>DSL</td>\n",
       "      <td>Yes</td>\n",
       "      <td>...</td>\n",
       "      <td>Yes</td>\n",
       "      <td>Yes</td>\n",
       "      <td>No</td>\n",
       "      <td>No</td>\n",
       "      <td>One year</td>\n",
       "      <td>No</td>\n",
       "      <td>Bank transfer (automatic)</td>\n",
       "      <td>42.30</td>\n",
       "      <td>1840.75</td>\n",
       "      <td>No</td>\n",
       "    </tr>\n",
       "    <tr>\n",
       "      <th>4</th>\n",
       "      <td>9237-HQITU</td>\n",
       "      <td>Female</td>\n",
       "      <td>0</td>\n",
       "      <td>No</td>\n",
       "      <td>No</td>\n",
       "      <td>2</td>\n",
       "      <td>Yes</td>\n",
       "      <td>No</td>\n",
       "      <td>Fiber optic</td>\n",
       "      <td>No</td>\n",
       "      <td>...</td>\n",
       "      <td>No</td>\n",
       "      <td>No</td>\n",
       "      <td>No</td>\n",
       "      <td>No</td>\n",
       "      <td>Month-to-month</td>\n",
       "      <td>Yes</td>\n",
       "      <td>Electronic check</td>\n",
       "      <td>70.70</td>\n",
       "      <td>151.65</td>\n",
       "      <td>Yes</td>\n",
       "    </tr>\n",
       "  </tbody>\n",
       "</table>\n",
       "<p>5 rows × 21 columns</p>\n",
       "</div>"
      ],
      "text/plain": [
       "   customerID  gender  SeniorCitizen Partner Dependents  tenure PhoneService  \\\n",
       "0  7590-VHVEG  Female              0     Yes         No       1           No   \n",
       "1  5575-GNVDE    Male              0      No         No      34          Yes   \n",
       "2  3668-QPYBK    Male              0      No         No       2          Yes   \n",
       "3  7795-CFOCW    Male              0      No         No      45           No   \n",
       "4  9237-HQITU  Female              0      No         No       2          Yes   \n",
       "\n",
       "      MultipleLines InternetService OnlineSecurity  ... DeviceProtection  \\\n",
       "0  No phone service             DSL             No  ...               No   \n",
       "1                No             DSL            Yes  ...              Yes   \n",
       "2                No             DSL            Yes  ...               No   \n",
       "3  No phone service             DSL            Yes  ...              Yes   \n",
       "4                No     Fiber optic             No  ...               No   \n",
       "\n",
       "  TechSupport StreamingTV StreamingMovies        Contract PaperlessBilling  \\\n",
       "0          No          No              No  Month-to-month              Yes   \n",
       "1          No          No              No        One year               No   \n",
       "2          No          No              No  Month-to-month              Yes   \n",
       "3         Yes          No              No        One year               No   \n",
       "4          No          No              No  Month-to-month              Yes   \n",
       "\n",
       "               PaymentMethod MonthlyCharges  TotalCharges Churn  \n",
       "0           Electronic check          29.85         29.85    No  \n",
       "1               Mailed check          56.95        1889.5    No  \n",
       "2               Mailed check          53.85        108.15   Yes  \n",
       "3  Bank transfer (automatic)          42.30       1840.75    No  \n",
       "4           Electronic check          70.70        151.65   Yes  \n",
       "\n",
       "[5 rows x 21 columns]"
      ]
     },
     "execution_count": 7,
     "metadata": {},
     "output_type": "execute_result"
    }
   ],
   "source": [
    "df.head()"
   ]
  },
  {
   "cell_type": "markdown",
   "id": "3d3fde29",
   "metadata": {},
   "source": [
    "# Checking Null Values"
   ]
  },
  {
   "cell_type": "code",
   "execution_count": 8,
   "id": "a3f41223",
   "metadata": {},
   "outputs": [
    {
     "data": {
      "text/plain": [
       "customerID          0\n",
       "gender              0\n",
       "SeniorCitizen       0\n",
       "Partner             0\n",
       "Dependents          0\n",
       "tenure              0\n",
       "PhoneService        0\n",
       "MultipleLines       0\n",
       "InternetService     0\n",
       "OnlineSecurity      0\n",
       "OnlineBackup        0\n",
       "DeviceProtection    0\n",
       "TechSupport         0\n",
       "StreamingTV         0\n",
       "StreamingMovies     0\n",
       "Contract            0\n",
       "PaperlessBilling    0\n",
       "PaymentMethod       0\n",
       "MonthlyCharges      0\n",
       "TotalCharges        0\n",
       "Churn               0\n",
       "dtype: int64"
      ]
     },
     "execution_count": 8,
     "metadata": {},
     "output_type": "execute_result"
    }
   ],
   "source": [
    "df.isnull().sum()"
   ]
  },
  {
   "cell_type": "code",
   "execution_count": 9,
   "id": "f87a4837",
   "metadata": {},
   "outputs": [
    {
     "data": {
      "text/plain": [
       "Index(['customerID', 'gender', 'SeniorCitizen', 'Partner', 'Dependents',\n",
       "       'tenure', 'PhoneService', 'MultipleLines', 'InternetService',\n",
       "       'OnlineSecurity', 'OnlineBackup', 'DeviceProtection', 'TechSupport',\n",
       "       'StreamingTV', 'StreamingMovies', 'Contract', 'PaperlessBilling',\n",
       "       'PaymentMethod', 'MonthlyCharges', 'TotalCharges', 'Churn'],\n",
       "      dtype='object')"
      ]
     },
     "execution_count": 9,
     "metadata": {},
     "output_type": "execute_result"
    }
   ],
   "source": [
    "df.columns"
   ]
  },
  {
   "cell_type": "markdown",
   "id": "5bc978d5",
   "metadata": {},
   "source": [
    "Since,there are no null values then We can proceed."
   ]
  },
  {
   "cell_type": "markdown",
   "id": "ef591272",
   "metadata": {},
   "source": [
    "# Checking the datatype of columns:"
   ]
  },
  {
   "cell_type": "code",
   "execution_count": 10,
   "id": "f48be146",
   "metadata": {},
   "outputs": [
    {
     "data": {
      "text/plain": [
       "customerID           object\n",
       "gender               object\n",
       "SeniorCitizen         int64\n",
       "Partner              object\n",
       "Dependents           object\n",
       "tenure                int64\n",
       "PhoneService         object\n",
       "MultipleLines        object\n",
       "InternetService      object\n",
       "OnlineSecurity       object\n",
       "OnlineBackup         object\n",
       "DeviceProtection     object\n",
       "TechSupport          object\n",
       "StreamingTV          object\n",
       "StreamingMovies      object\n",
       "Contract             object\n",
       "PaperlessBilling     object\n",
       "PaymentMethod        object\n",
       "MonthlyCharges      float64\n",
       "TotalCharges         object\n",
       "Churn                object\n",
       "dtype: object"
      ]
     },
     "execution_count": 10,
     "metadata": {},
     "output_type": "execute_result"
    }
   ],
   "source": [
    "df.dtypes"
   ]
  },
  {
   "cell_type": "markdown",
   "id": "076d7beb",
   "metadata": {},
   "source": [
    "We can observe that \"TotalCharges\" has continuous data but it is an object type.Let us handle this column."
   ]
  },
  {
   "cell_type": "code",
   "execution_count": 11,
   "id": "5f2dcc9d",
   "metadata": {},
   "outputs": [
    {
     "data": {
      "text/plain": [
       "array(['29.85', '1889.5', '108.15', ..., '346.45', '306.6', '6844.5'],\n",
       "      dtype=object)"
      ]
     },
     "execution_count": 11,
     "metadata": {},
     "output_type": "execute_result"
    }
   ],
   "source": [
    "df['TotalCharges'].unique()"
   ]
  },
  {
   "cell_type": "code",
   "execution_count": 12,
   "id": "9e3be8f8",
   "metadata": {},
   "outputs": [
    {
     "data": {
      "text/plain": [
       "6531"
      ]
     },
     "execution_count": 12,
     "metadata": {},
     "output_type": "execute_result"
    }
   ],
   "source": [
    "df['TotalCharges'].nunique()"
   ]
  },
  {
   "cell_type": "code",
   "execution_count": 13,
   "id": "0655b1a2",
   "metadata": {},
   "outputs": [
    {
     "data": {
      "text/plain": [
       "7043"
      ]
     },
     "execution_count": 13,
     "metadata": {},
     "output_type": "execute_result"
    }
   ],
   "source": [
    "df.shape[0]"
   ]
  },
  {
   "cell_type": "code",
   "execution_count": 14,
   "id": "25457931",
   "metadata": {},
   "outputs": [
    {
     "data": {
      "text/html": [
       "<div>\n",
       "<style scoped>\n",
       "    .dataframe tbody tr th:only-of-type {\n",
       "        vertical-align: middle;\n",
       "    }\n",
       "\n",
       "    .dataframe tbody tr th {\n",
       "        vertical-align: top;\n",
       "    }\n",
       "\n",
       "    .dataframe thead th {\n",
       "        text-align: right;\n",
       "    }\n",
       "</style>\n",
       "<table border=\"1\" class=\"dataframe\">\n",
       "  <thead>\n",
       "    <tr style=\"text-align: right;\">\n",
       "      <th></th>\n",
       "      <th>customerID</th>\n",
       "      <th>gender</th>\n",
       "      <th>SeniorCitizen</th>\n",
       "      <th>Partner</th>\n",
       "      <th>Dependents</th>\n",
       "      <th>tenure</th>\n",
       "      <th>PhoneService</th>\n",
       "      <th>MultipleLines</th>\n",
       "      <th>InternetService</th>\n",
       "      <th>OnlineSecurity</th>\n",
       "      <th>...</th>\n",
       "      <th>DeviceProtection</th>\n",
       "      <th>TechSupport</th>\n",
       "      <th>StreamingTV</th>\n",
       "      <th>StreamingMovies</th>\n",
       "      <th>Contract</th>\n",
       "      <th>PaperlessBilling</th>\n",
       "      <th>PaymentMethod</th>\n",
       "      <th>MonthlyCharges</th>\n",
       "      <th>TotalCharges</th>\n",
       "      <th>Churn</th>\n",
       "    </tr>\n",
       "  </thead>\n",
       "  <tbody>\n",
       "    <tr>\n",
       "      <th>488</th>\n",
       "      <td>4472-LVYGI</td>\n",
       "      <td>Female</td>\n",
       "      <td>0</td>\n",
       "      <td>Yes</td>\n",
       "      <td>Yes</td>\n",
       "      <td>0</td>\n",
       "      <td>No</td>\n",
       "      <td>No phone service</td>\n",
       "      <td>DSL</td>\n",
       "      <td>Yes</td>\n",
       "      <td>...</td>\n",
       "      <td>Yes</td>\n",
       "      <td>Yes</td>\n",
       "      <td>Yes</td>\n",
       "      <td>No</td>\n",
       "      <td>Two year</td>\n",
       "      <td>Yes</td>\n",
       "      <td>Bank transfer (automatic)</td>\n",
       "      <td>52.55</td>\n",
       "      <td></td>\n",
       "      <td>No</td>\n",
       "    </tr>\n",
       "    <tr>\n",
       "      <th>753</th>\n",
       "      <td>3115-CZMZD</td>\n",
       "      <td>Male</td>\n",
       "      <td>0</td>\n",
       "      <td>No</td>\n",
       "      <td>Yes</td>\n",
       "      <td>0</td>\n",
       "      <td>Yes</td>\n",
       "      <td>No</td>\n",
       "      <td>No</td>\n",
       "      <td>No internet service</td>\n",
       "      <td>...</td>\n",
       "      <td>No internet service</td>\n",
       "      <td>No internet service</td>\n",
       "      <td>No internet service</td>\n",
       "      <td>No internet service</td>\n",
       "      <td>Two year</td>\n",
       "      <td>No</td>\n",
       "      <td>Mailed check</td>\n",
       "      <td>20.25</td>\n",
       "      <td></td>\n",
       "      <td>No</td>\n",
       "    </tr>\n",
       "    <tr>\n",
       "      <th>936</th>\n",
       "      <td>5709-LVOEQ</td>\n",
       "      <td>Female</td>\n",
       "      <td>0</td>\n",
       "      <td>Yes</td>\n",
       "      <td>Yes</td>\n",
       "      <td>0</td>\n",
       "      <td>Yes</td>\n",
       "      <td>No</td>\n",
       "      <td>DSL</td>\n",
       "      <td>Yes</td>\n",
       "      <td>...</td>\n",
       "      <td>Yes</td>\n",
       "      <td>No</td>\n",
       "      <td>Yes</td>\n",
       "      <td>Yes</td>\n",
       "      <td>Two year</td>\n",
       "      <td>No</td>\n",
       "      <td>Mailed check</td>\n",
       "      <td>80.85</td>\n",
       "      <td></td>\n",
       "      <td>No</td>\n",
       "    </tr>\n",
       "    <tr>\n",
       "      <th>1082</th>\n",
       "      <td>4367-NUYAO</td>\n",
       "      <td>Male</td>\n",
       "      <td>0</td>\n",
       "      <td>Yes</td>\n",
       "      <td>Yes</td>\n",
       "      <td>0</td>\n",
       "      <td>Yes</td>\n",
       "      <td>Yes</td>\n",
       "      <td>No</td>\n",
       "      <td>No internet service</td>\n",
       "      <td>...</td>\n",
       "      <td>No internet service</td>\n",
       "      <td>No internet service</td>\n",
       "      <td>No internet service</td>\n",
       "      <td>No internet service</td>\n",
       "      <td>Two year</td>\n",
       "      <td>No</td>\n",
       "      <td>Mailed check</td>\n",
       "      <td>25.75</td>\n",
       "      <td></td>\n",
       "      <td>No</td>\n",
       "    </tr>\n",
       "    <tr>\n",
       "      <th>1340</th>\n",
       "      <td>1371-DWPAZ</td>\n",
       "      <td>Female</td>\n",
       "      <td>0</td>\n",
       "      <td>Yes</td>\n",
       "      <td>Yes</td>\n",
       "      <td>0</td>\n",
       "      <td>No</td>\n",
       "      <td>No phone service</td>\n",
       "      <td>DSL</td>\n",
       "      <td>Yes</td>\n",
       "      <td>...</td>\n",
       "      <td>Yes</td>\n",
       "      <td>Yes</td>\n",
       "      <td>Yes</td>\n",
       "      <td>No</td>\n",
       "      <td>Two year</td>\n",
       "      <td>No</td>\n",
       "      <td>Credit card (automatic)</td>\n",
       "      <td>56.05</td>\n",
       "      <td></td>\n",
       "      <td>No</td>\n",
       "    </tr>\n",
       "    <tr>\n",
       "      <th>3331</th>\n",
       "      <td>7644-OMVMY</td>\n",
       "      <td>Male</td>\n",
       "      <td>0</td>\n",
       "      <td>Yes</td>\n",
       "      <td>Yes</td>\n",
       "      <td>0</td>\n",
       "      <td>Yes</td>\n",
       "      <td>No</td>\n",
       "      <td>No</td>\n",
       "      <td>No internet service</td>\n",
       "      <td>...</td>\n",
       "      <td>No internet service</td>\n",
       "      <td>No internet service</td>\n",
       "      <td>No internet service</td>\n",
       "      <td>No internet service</td>\n",
       "      <td>Two year</td>\n",
       "      <td>No</td>\n",
       "      <td>Mailed check</td>\n",
       "      <td>19.85</td>\n",
       "      <td></td>\n",
       "      <td>No</td>\n",
       "    </tr>\n",
       "    <tr>\n",
       "      <th>3826</th>\n",
       "      <td>3213-VVOLG</td>\n",
       "      <td>Male</td>\n",
       "      <td>0</td>\n",
       "      <td>Yes</td>\n",
       "      <td>Yes</td>\n",
       "      <td>0</td>\n",
       "      <td>Yes</td>\n",
       "      <td>Yes</td>\n",
       "      <td>No</td>\n",
       "      <td>No internet service</td>\n",
       "      <td>...</td>\n",
       "      <td>No internet service</td>\n",
       "      <td>No internet service</td>\n",
       "      <td>No internet service</td>\n",
       "      <td>No internet service</td>\n",
       "      <td>Two year</td>\n",
       "      <td>No</td>\n",
       "      <td>Mailed check</td>\n",
       "      <td>25.35</td>\n",
       "      <td></td>\n",
       "      <td>No</td>\n",
       "    </tr>\n",
       "    <tr>\n",
       "      <th>4380</th>\n",
       "      <td>2520-SGTTA</td>\n",
       "      <td>Female</td>\n",
       "      <td>0</td>\n",
       "      <td>Yes</td>\n",
       "      <td>Yes</td>\n",
       "      <td>0</td>\n",
       "      <td>Yes</td>\n",
       "      <td>No</td>\n",
       "      <td>No</td>\n",
       "      <td>No internet service</td>\n",
       "      <td>...</td>\n",
       "      <td>No internet service</td>\n",
       "      <td>No internet service</td>\n",
       "      <td>No internet service</td>\n",
       "      <td>No internet service</td>\n",
       "      <td>Two year</td>\n",
       "      <td>No</td>\n",
       "      <td>Mailed check</td>\n",
       "      <td>20.00</td>\n",
       "      <td></td>\n",
       "      <td>No</td>\n",
       "    </tr>\n",
       "    <tr>\n",
       "      <th>5218</th>\n",
       "      <td>2923-ARZLG</td>\n",
       "      <td>Male</td>\n",
       "      <td>0</td>\n",
       "      <td>Yes</td>\n",
       "      <td>Yes</td>\n",
       "      <td>0</td>\n",
       "      <td>Yes</td>\n",
       "      <td>No</td>\n",
       "      <td>No</td>\n",
       "      <td>No internet service</td>\n",
       "      <td>...</td>\n",
       "      <td>No internet service</td>\n",
       "      <td>No internet service</td>\n",
       "      <td>No internet service</td>\n",
       "      <td>No internet service</td>\n",
       "      <td>One year</td>\n",
       "      <td>Yes</td>\n",
       "      <td>Mailed check</td>\n",
       "      <td>19.70</td>\n",
       "      <td></td>\n",
       "      <td>No</td>\n",
       "    </tr>\n",
       "    <tr>\n",
       "      <th>6670</th>\n",
       "      <td>4075-WKNIU</td>\n",
       "      <td>Female</td>\n",
       "      <td>0</td>\n",
       "      <td>Yes</td>\n",
       "      <td>Yes</td>\n",
       "      <td>0</td>\n",
       "      <td>Yes</td>\n",
       "      <td>Yes</td>\n",
       "      <td>DSL</td>\n",
       "      <td>No</td>\n",
       "      <td>...</td>\n",
       "      <td>Yes</td>\n",
       "      <td>Yes</td>\n",
       "      <td>Yes</td>\n",
       "      <td>No</td>\n",
       "      <td>Two year</td>\n",
       "      <td>No</td>\n",
       "      <td>Mailed check</td>\n",
       "      <td>73.35</td>\n",
       "      <td></td>\n",
       "      <td>No</td>\n",
       "    </tr>\n",
       "    <tr>\n",
       "      <th>6754</th>\n",
       "      <td>2775-SEFEE</td>\n",
       "      <td>Male</td>\n",
       "      <td>0</td>\n",
       "      <td>No</td>\n",
       "      <td>Yes</td>\n",
       "      <td>0</td>\n",
       "      <td>Yes</td>\n",
       "      <td>Yes</td>\n",
       "      <td>DSL</td>\n",
       "      <td>Yes</td>\n",
       "      <td>...</td>\n",
       "      <td>No</td>\n",
       "      <td>Yes</td>\n",
       "      <td>No</td>\n",
       "      <td>No</td>\n",
       "      <td>Two year</td>\n",
       "      <td>Yes</td>\n",
       "      <td>Bank transfer (automatic)</td>\n",
       "      <td>61.90</td>\n",
       "      <td></td>\n",
       "      <td>No</td>\n",
       "    </tr>\n",
       "  </tbody>\n",
       "</table>\n",
       "<p>11 rows × 21 columns</p>\n",
       "</div>"
      ],
      "text/plain": [
       "      customerID  gender  SeniorCitizen Partner Dependents  tenure  \\\n",
       "488   4472-LVYGI  Female              0     Yes        Yes       0   \n",
       "753   3115-CZMZD    Male              0      No        Yes       0   \n",
       "936   5709-LVOEQ  Female              0     Yes        Yes       0   \n",
       "1082  4367-NUYAO    Male              0     Yes        Yes       0   \n",
       "1340  1371-DWPAZ  Female              0     Yes        Yes       0   \n",
       "3331  7644-OMVMY    Male              0     Yes        Yes       0   \n",
       "3826  3213-VVOLG    Male              0     Yes        Yes       0   \n",
       "4380  2520-SGTTA  Female              0     Yes        Yes       0   \n",
       "5218  2923-ARZLG    Male              0     Yes        Yes       0   \n",
       "6670  4075-WKNIU  Female              0     Yes        Yes       0   \n",
       "6754  2775-SEFEE    Male              0      No        Yes       0   \n",
       "\n",
       "     PhoneService     MultipleLines InternetService       OnlineSecurity  ...  \\\n",
       "488            No  No phone service             DSL                  Yes  ...   \n",
       "753           Yes                No              No  No internet service  ...   \n",
       "936           Yes                No             DSL                  Yes  ...   \n",
       "1082          Yes               Yes              No  No internet service  ...   \n",
       "1340           No  No phone service             DSL                  Yes  ...   \n",
       "3331          Yes                No              No  No internet service  ...   \n",
       "3826          Yes               Yes              No  No internet service  ...   \n",
       "4380          Yes                No              No  No internet service  ...   \n",
       "5218          Yes                No              No  No internet service  ...   \n",
       "6670          Yes               Yes             DSL                   No  ...   \n",
       "6754          Yes               Yes             DSL                  Yes  ...   \n",
       "\n",
       "         DeviceProtection          TechSupport          StreamingTV  \\\n",
       "488                   Yes                  Yes                  Yes   \n",
       "753   No internet service  No internet service  No internet service   \n",
       "936                   Yes                   No                  Yes   \n",
       "1082  No internet service  No internet service  No internet service   \n",
       "1340                  Yes                  Yes                  Yes   \n",
       "3331  No internet service  No internet service  No internet service   \n",
       "3826  No internet service  No internet service  No internet service   \n",
       "4380  No internet service  No internet service  No internet service   \n",
       "5218  No internet service  No internet service  No internet service   \n",
       "6670                  Yes                  Yes                  Yes   \n",
       "6754                   No                  Yes                   No   \n",
       "\n",
       "          StreamingMovies  Contract PaperlessBilling  \\\n",
       "488                    No  Two year              Yes   \n",
       "753   No internet service  Two year               No   \n",
       "936                   Yes  Two year               No   \n",
       "1082  No internet service  Two year               No   \n",
       "1340                   No  Two year               No   \n",
       "3331  No internet service  Two year               No   \n",
       "3826  No internet service  Two year               No   \n",
       "4380  No internet service  Two year               No   \n",
       "5218  No internet service  One year              Yes   \n",
       "6670                   No  Two year               No   \n",
       "6754                   No  Two year              Yes   \n",
       "\n",
       "                  PaymentMethod MonthlyCharges  TotalCharges Churn  \n",
       "488   Bank transfer (automatic)          52.55                  No  \n",
       "753                Mailed check          20.25                  No  \n",
       "936                Mailed check          80.85                  No  \n",
       "1082               Mailed check          25.75                  No  \n",
       "1340    Credit card (automatic)          56.05                  No  \n",
       "3331               Mailed check          19.85                  No  \n",
       "3826               Mailed check          25.35                  No  \n",
       "4380               Mailed check          20.00                  No  \n",
       "5218               Mailed check          19.70                  No  \n",
       "6670               Mailed check          73.35                  No  \n",
       "6754  Bank transfer (automatic)          61.90                  No  \n",
       "\n",
       "[11 rows x 21 columns]"
      ]
     },
     "execution_count": 14,
     "metadata": {},
     "output_type": "execute_result"
    }
   ],
   "source": [
    "df.loc[df['TotalCharges']==\" \"]"
   ]
  },
  {
   "cell_type": "markdown",
   "id": "20fcf40b",
   "metadata": {},
   "source": [
    "After some observation,we saw that some columns have 'Space' as value."
   ]
  },
  {
   "cell_type": "code",
   "execution_count": 15,
   "id": "09ea3635",
   "metadata": {},
   "outputs": [],
   "source": [
    "df['TotalCharges']=df['TotalCharges'].replace(' ',np.nan)"
   ]
  },
  {
   "cell_type": "code",
   "execution_count": 16,
   "id": "5eacf412",
   "metadata": {},
   "outputs": [
    {
     "data": {
      "text/plain": [
       "customerID           0\n",
       "gender               0\n",
       "SeniorCitizen        0\n",
       "Partner              0\n",
       "Dependents           0\n",
       "tenure               0\n",
       "PhoneService         0\n",
       "MultipleLines        0\n",
       "InternetService      0\n",
       "OnlineSecurity       0\n",
       "OnlineBackup         0\n",
       "DeviceProtection     0\n",
       "TechSupport          0\n",
       "StreamingTV          0\n",
       "StreamingMovies      0\n",
       "Contract             0\n",
       "PaperlessBilling     0\n",
       "PaymentMethod        0\n",
       "MonthlyCharges       0\n",
       "TotalCharges        11\n",
       "Churn                0\n",
       "dtype: int64"
      ]
     },
     "execution_count": 16,
     "metadata": {},
     "output_type": "execute_result"
    }
   ],
   "source": [
    "df.isnull().sum()"
   ]
  },
  {
   "cell_type": "markdown",
   "id": "8ccf5732",
   "metadata": {},
   "source": [
    "converting the column type from object to float."
   ]
  },
  {
   "cell_type": "code",
   "execution_count": 17,
   "id": "17cbbfe7",
   "metadata": {},
   "outputs": [],
   "source": [
    "df['TotalCharges']=df['TotalCharges'].astype(float)"
   ]
  },
  {
   "cell_type": "code",
   "execution_count": 18,
   "id": "e7ff2f7c",
   "metadata": {},
   "outputs": [
    {
     "data": {
      "text/plain": [
       "dtype('float64')"
      ]
     },
     "execution_count": 18,
     "metadata": {},
     "output_type": "execute_result"
    }
   ],
   "source": [
    "df.TotalCharges.dtype"
   ]
  },
  {
   "cell_type": "markdown",
   "id": "5c92e0b0",
   "metadata": {},
   "source": [
    "Now we can observe that TotalCharges has some space value which is reaplce by nan values.Now we will handle the nan values."
   ]
  },
  {
   "cell_type": "markdown",
   "id": "75dd5ced",
   "metadata": {},
   "source": [
    "Handling the nan values and replacing with mean values of the column.As the column is continuous in nature."
   ]
  },
  {
   "cell_type": "code",
   "execution_count": 19,
   "id": "606e2b9d",
   "metadata": {},
   "outputs": [
    {
     "data": {
      "text/plain": [
       "2283.3004408418697"
      ]
     },
     "execution_count": 19,
     "metadata": {},
     "output_type": "execute_result"
    }
   ],
   "source": [
    "np.mean(df['TotalCharges'])"
   ]
  },
  {
   "cell_type": "code",
   "execution_count": 20,
   "id": "80ba6c28",
   "metadata": {},
   "outputs": [
    {
     "data": {
      "text/plain": [
       "customerID            4075-WKNIU\n",
       "gender                    Female\n",
       "SeniorCitizen                  0\n",
       "Partner                      Yes\n",
       "Dependents                   Yes\n",
       "tenure                         0\n",
       "PhoneService                 Yes\n",
       "MultipleLines                Yes\n",
       "InternetService              DSL\n",
       "OnlineSecurity                No\n",
       "OnlineBackup                 Yes\n",
       "DeviceProtection             Yes\n",
       "TechSupport                  Yes\n",
       "StreamingTV                  Yes\n",
       "StreamingMovies               No\n",
       "Contract                Two year\n",
       "PaperlessBilling              No\n",
       "PaymentMethod       Mailed check\n",
       "MonthlyCharges             73.35\n",
       "TotalCharges                 NaN\n",
       "Churn                         No\n",
       "Name: 6670, dtype: object"
      ]
     },
     "execution_count": 20,
     "metadata": {},
     "output_type": "execute_result"
    }
   ],
   "source": [
    "df.iloc[6670,:]"
   ]
  },
  {
   "cell_type": "code",
   "execution_count": 21,
   "id": "4e8f78ad",
   "metadata": {},
   "outputs": [],
   "source": [
    "#dependent varaible\n",
    "#df['TotalCharges'] = df['TotalCharges'].fillna(np.mean(df['TotalCharges']))"
   ]
  },
  {
   "cell_type": "code",
   "execution_count": 22,
   "id": "895ccdfe",
   "metadata": {},
   "outputs": [
    {
     "data": {
      "text/plain": [
       "0         29.85\n",
       "1       1889.50\n",
       "2        108.15\n",
       "3       1840.75\n",
       "4        151.65\n",
       "         ...   \n",
       "7038    1990.50\n",
       "7039    7362.90\n",
       "7040     346.45\n",
       "7041     306.60\n",
       "7042    6844.50\n",
       "Name: TotalCharges, Length: 7032, dtype: float64"
      ]
     },
     "execution_count": 22,
     "metadata": {},
     "output_type": "execute_result"
    }
   ],
   "source": [
    "df['TotalCharges'].dropna()"
   ]
  },
  {
   "cell_type": "code",
   "execution_count": 23,
   "id": "d7e2dfff",
   "metadata": {},
   "outputs": [
    {
     "data": {
      "text/plain": [
       "7032"
      ]
     },
     "execution_count": 23,
     "metadata": {},
     "output_type": "execute_result"
    }
   ],
   "source": [
    "len(df['TotalCharges'].dropna())"
   ]
  },
  {
   "cell_type": "code",
   "execution_count": 24,
   "id": "c5bc2999",
   "metadata": {},
   "outputs": [
    {
     "data": {
      "text/html": [
       "<div>\n",
       "<style scoped>\n",
       "    .dataframe tbody tr th:only-of-type {\n",
       "        vertical-align: middle;\n",
       "    }\n",
       "\n",
       "    .dataframe tbody tr th {\n",
       "        vertical-align: top;\n",
       "    }\n",
       "\n",
       "    .dataframe thead th {\n",
       "        text-align: right;\n",
       "    }\n",
       "</style>\n",
       "<table border=\"1\" class=\"dataframe\">\n",
       "  <thead>\n",
       "    <tr style=\"text-align: right;\">\n",
       "      <th></th>\n",
       "      <th>customerID</th>\n",
       "      <th>gender</th>\n",
       "      <th>SeniorCitizen</th>\n",
       "      <th>Partner</th>\n",
       "      <th>Dependents</th>\n",
       "      <th>tenure</th>\n",
       "      <th>PhoneService</th>\n",
       "      <th>MultipleLines</th>\n",
       "      <th>InternetService</th>\n",
       "      <th>OnlineSecurity</th>\n",
       "      <th>...</th>\n",
       "      <th>DeviceProtection</th>\n",
       "      <th>TechSupport</th>\n",
       "      <th>StreamingTV</th>\n",
       "      <th>StreamingMovies</th>\n",
       "      <th>Contract</th>\n",
       "      <th>PaperlessBilling</th>\n",
       "      <th>PaymentMethod</th>\n",
       "      <th>MonthlyCharges</th>\n",
       "      <th>TotalCharges</th>\n",
       "      <th>Churn</th>\n",
       "    </tr>\n",
       "  </thead>\n",
       "  <tbody>\n",
       "    <tr>\n",
       "      <th>0</th>\n",
       "      <td>7590-VHVEG</td>\n",
       "      <td>Female</td>\n",
       "      <td>0</td>\n",
       "      <td>Yes</td>\n",
       "      <td>No</td>\n",
       "      <td>1</td>\n",
       "      <td>No</td>\n",
       "      <td>No phone service</td>\n",
       "      <td>DSL</td>\n",
       "      <td>No</td>\n",
       "      <td>...</td>\n",
       "      <td>No</td>\n",
       "      <td>No</td>\n",
       "      <td>No</td>\n",
       "      <td>No</td>\n",
       "      <td>Month-to-month</td>\n",
       "      <td>Yes</td>\n",
       "      <td>Electronic check</td>\n",
       "      <td>29.85</td>\n",
       "      <td>29.85</td>\n",
       "      <td>No</td>\n",
       "    </tr>\n",
       "    <tr>\n",
       "      <th>1</th>\n",
       "      <td>5575-GNVDE</td>\n",
       "      <td>Male</td>\n",
       "      <td>0</td>\n",
       "      <td>No</td>\n",
       "      <td>No</td>\n",
       "      <td>34</td>\n",
       "      <td>Yes</td>\n",
       "      <td>No</td>\n",
       "      <td>DSL</td>\n",
       "      <td>Yes</td>\n",
       "      <td>...</td>\n",
       "      <td>Yes</td>\n",
       "      <td>No</td>\n",
       "      <td>No</td>\n",
       "      <td>No</td>\n",
       "      <td>One year</td>\n",
       "      <td>No</td>\n",
       "      <td>Mailed check</td>\n",
       "      <td>56.95</td>\n",
       "      <td>1889.50</td>\n",
       "      <td>No</td>\n",
       "    </tr>\n",
       "    <tr>\n",
       "      <th>2</th>\n",
       "      <td>3668-QPYBK</td>\n",
       "      <td>Male</td>\n",
       "      <td>0</td>\n",
       "      <td>No</td>\n",
       "      <td>No</td>\n",
       "      <td>2</td>\n",
       "      <td>Yes</td>\n",
       "      <td>No</td>\n",
       "      <td>DSL</td>\n",
       "      <td>Yes</td>\n",
       "      <td>...</td>\n",
       "      <td>No</td>\n",
       "      <td>No</td>\n",
       "      <td>No</td>\n",
       "      <td>No</td>\n",
       "      <td>Month-to-month</td>\n",
       "      <td>Yes</td>\n",
       "      <td>Mailed check</td>\n",
       "      <td>53.85</td>\n",
       "      <td>108.15</td>\n",
       "      <td>Yes</td>\n",
       "    </tr>\n",
       "    <tr>\n",
       "      <th>3</th>\n",
       "      <td>7795-CFOCW</td>\n",
       "      <td>Male</td>\n",
       "      <td>0</td>\n",
       "      <td>No</td>\n",
       "      <td>No</td>\n",
       "      <td>45</td>\n",
       "      <td>No</td>\n",
       "      <td>No phone service</td>\n",
       "      <td>DSL</td>\n",
       "      <td>Yes</td>\n",
       "      <td>...</td>\n",
       "      <td>Yes</td>\n",
       "      <td>Yes</td>\n",
       "      <td>No</td>\n",
       "      <td>No</td>\n",
       "      <td>One year</td>\n",
       "      <td>No</td>\n",
       "      <td>Bank transfer (automatic)</td>\n",
       "      <td>42.30</td>\n",
       "      <td>1840.75</td>\n",
       "      <td>No</td>\n",
       "    </tr>\n",
       "    <tr>\n",
       "      <th>4</th>\n",
       "      <td>9237-HQITU</td>\n",
       "      <td>Female</td>\n",
       "      <td>0</td>\n",
       "      <td>No</td>\n",
       "      <td>No</td>\n",
       "      <td>2</td>\n",
       "      <td>Yes</td>\n",
       "      <td>No</td>\n",
       "      <td>Fiber optic</td>\n",
       "      <td>No</td>\n",
       "      <td>...</td>\n",
       "      <td>No</td>\n",
       "      <td>No</td>\n",
       "      <td>No</td>\n",
       "      <td>No</td>\n",
       "      <td>Month-to-month</td>\n",
       "      <td>Yes</td>\n",
       "      <td>Electronic check</td>\n",
       "      <td>70.70</td>\n",
       "      <td>151.65</td>\n",
       "      <td>Yes</td>\n",
       "    </tr>\n",
       "    <tr>\n",
       "      <th>...</th>\n",
       "      <td>...</td>\n",
       "      <td>...</td>\n",
       "      <td>...</td>\n",
       "      <td>...</td>\n",
       "      <td>...</td>\n",
       "      <td>...</td>\n",
       "      <td>...</td>\n",
       "      <td>...</td>\n",
       "      <td>...</td>\n",
       "      <td>...</td>\n",
       "      <td>...</td>\n",
       "      <td>...</td>\n",
       "      <td>...</td>\n",
       "      <td>...</td>\n",
       "      <td>...</td>\n",
       "      <td>...</td>\n",
       "      <td>...</td>\n",
       "      <td>...</td>\n",
       "      <td>...</td>\n",
       "      <td>...</td>\n",
       "      <td>...</td>\n",
       "    </tr>\n",
       "    <tr>\n",
       "      <th>7038</th>\n",
       "      <td>6840-RESVB</td>\n",
       "      <td>Male</td>\n",
       "      <td>0</td>\n",
       "      <td>Yes</td>\n",
       "      <td>Yes</td>\n",
       "      <td>24</td>\n",
       "      <td>Yes</td>\n",
       "      <td>Yes</td>\n",
       "      <td>DSL</td>\n",
       "      <td>Yes</td>\n",
       "      <td>...</td>\n",
       "      <td>Yes</td>\n",
       "      <td>Yes</td>\n",
       "      <td>Yes</td>\n",
       "      <td>Yes</td>\n",
       "      <td>One year</td>\n",
       "      <td>Yes</td>\n",
       "      <td>Mailed check</td>\n",
       "      <td>84.80</td>\n",
       "      <td>1990.50</td>\n",
       "      <td>No</td>\n",
       "    </tr>\n",
       "    <tr>\n",
       "      <th>7039</th>\n",
       "      <td>2234-XADUH</td>\n",
       "      <td>Female</td>\n",
       "      <td>0</td>\n",
       "      <td>Yes</td>\n",
       "      <td>Yes</td>\n",
       "      <td>72</td>\n",
       "      <td>Yes</td>\n",
       "      <td>Yes</td>\n",
       "      <td>Fiber optic</td>\n",
       "      <td>No</td>\n",
       "      <td>...</td>\n",
       "      <td>Yes</td>\n",
       "      <td>No</td>\n",
       "      <td>Yes</td>\n",
       "      <td>Yes</td>\n",
       "      <td>One year</td>\n",
       "      <td>Yes</td>\n",
       "      <td>Credit card (automatic)</td>\n",
       "      <td>103.20</td>\n",
       "      <td>7362.90</td>\n",
       "      <td>No</td>\n",
       "    </tr>\n",
       "    <tr>\n",
       "      <th>7040</th>\n",
       "      <td>4801-JZAZL</td>\n",
       "      <td>Female</td>\n",
       "      <td>0</td>\n",
       "      <td>Yes</td>\n",
       "      <td>Yes</td>\n",
       "      <td>11</td>\n",
       "      <td>No</td>\n",
       "      <td>No phone service</td>\n",
       "      <td>DSL</td>\n",
       "      <td>Yes</td>\n",
       "      <td>...</td>\n",
       "      <td>No</td>\n",
       "      <td>No</td>\n",
       "      <td>No</td>\n",
       "      <td>No</td>\n",
       "      <td>Month-to-month</td>\n",
       "      <td>Yes</td>\n",
       "      <td>Electronic check</td>\n",
       "      <td>29.60</td>\n",
       "      <td>346.45</td>\n",
       "      <td>No</td>\n",
       "    </tr>\n",
       "    <tr>\n",
       "      <th>7041</th>\n",
       "      <td>8361-LTMKD</td>\n",
       "      <td>Male</td>\n",
       "      <td>1</td>\n",
       "      <td>Yes</td>\n",
       "      <td>No</td>\n",
       "      <td>4</td>\n",
       "      <td>Yes</td>\n",
       "      <td>Yes</td>\n",
       "      <td>Fiber optic</td>\n",
       "      <td>No</td>\n",
       "      <td>...</td>\n",
       "      <td>No</td>\n",
       "      <td>No</td>\n",
       "      <td>No</td>\n",
       "      <td>No</td>\n",
       "      <td>Month-to-month</td>\n",
       "      <td>Yes</td>\n",
       "      <td>Mailed check</td>\n",
       "      <td>74.40</td>\n",
       "      <td>306.60</td>\n",
       "      <td>Yes</td>\n",
       "    </tr>\n",
       "    <tr>\n",
       "      <th>7042</th>\n",
       "      <td>3186-AJIEK</td>\n",
       "      <td>Male</td>\n",
       "      <td>0</td>\n",
       "      <td>No</td>\n",
       "      <td>No</td>\n",
       "      <td>66</td>\n",
       "      <td>Yes</td>\n",
       "      <td>No</td>\n",
       "      <td>Fiber optic</td>\n",
       "      <td>Yes</td>\n",
       "      <td>...</td>\n",
       "      <td>Yes</td>\n",
       "      <td>Yes</td>\n",
       "      <td>Yes</td>\n",
       "      <td>Yes</td>\n",
       "      <td>Two year</td>\n",
       "      <td>Yes</td>\n",
       "      <td>Bank transfer (automatic)</td>\n",
       "      <td>105.65</td>\n",
       "      <td>6844.50</td>\n",
       "      <td>No</td>\n",
       "    </tr>\n",
       "  </tbody>\n",
       "</table>\n",
       "<p>7032 rows × 21 columns</p>\n",
       "</div>"
      ],
      "text/plain": [
       "      customerID  gender  SeniorCitizen Partner Dependents  tenure  \\\n",
       "0     7590-VHVEG  Female              0     Yes         No       1   \n",
       "1     5575-GNVDE    Male              0      No         No      34   \n",
       "2     3668-QPYBK    Male              0      No         No       2   \n",
       "3     7795-CFOCW    Male              0      No         No      45   \n",
       "4     9237-HQITU  Female              0      No         No       2   \n",
       "...          ...     ...            ...     ...        ...     ...   \n",
       "7038  6840-RESVB    Male              0     Yes        Yes      24   \n",
       "7039  2234-XADUH  Female              0     Yes        Yes      72   \n",
       "7040  4801-JZAZL  Female              0     Yes        Yes      11   \n",
       "7041  8361-LTMKD    Male              1     Yes         No       4   \n",
       "7042  3186-AJIEK    Male              0      No         No      66   \n",
       "\n",
       "     PhoneService     MultipleLines InternetService OnlineSecurity  ...  \\\n",
       "0              No  No phone service             DSL             No  ...   \n",
       "1             Yes                No             DSL            Yes  ...   \n",
       "2             Yes                No             DSL            Yes  ...   \n",
       "3              No  No phone service             DSL            Yes  ...   \n",
       "4             Yes                No     Fiber optic             No  ...   \n",
       "...           ...               ...             ...            ...  ...   \n",
       "7038          Yes               Yes             DSL            Yes  ...   \n",
       "7039          Yes               Yes     Fiber optic             No  ...   \n",
       "7040           No  No phone service             DSL            Yes  ...   \n",
       "7041          Yes               Yes     Fiber optic             No  ...   \n",
       "7042          Yes                No     Fiber optic            Yes  ...   \n",
       "\n",
       "     DeviceProtection TechSupport StreamingTV StreamingMovies        Contract  \\\n",
       "0                  No          No          No              No  Month-to-month   \n",
       "1                 Yes          No          No              No        One year   \n",
       "2                  No          No          No              No  Month-to-month   \n",
       "3                 Yes         Yes          No              No        One year   \n",
       "4                  No          No          No              No  Month-to-month   \n",
       "...               ...         ...         ...             ...             ...   \n",
       "7038              Yes         Yes         Yes             Yes        One year   \n",
       "7039              Yes          No         Yes             Yes        One year   \n",
       "7040               No          No          No              No  Month-to-month   \n",
       "7041               No          No          No              No  Month-to-month   \n",
       "7042              Yes         Yes         Yes             Yes        Two year   \n",
       "\n",
       "     PaperlessBilling              PaymentMethod MonthlyCharges  TotalCharges  \\\n",
       "0                 Yes           Electronic check          29.85         29.85   \n",
       "1                  No               Mailed check          56.95       1889.50   \n",
       "2                 Yes               Mailed check          53.85        108.15   \n",
       "3                  No  Bank transfer (automatic)          42.30       1840.75   \n",
       "4                 Yes           Electronic check          70.70        151.65   \n",
       "...               ...                        ...            ...           ...   \n",
       "7038              Yes               Mailed check          84.80       1990.50   \n",
       "7039              Yes    Credit card (automatic)         103.20       7362.90   \n",
       "7040              Yes           Electronic check          29.60        346.45   \n",
       "7041              Yes               Mailed check          74.40        306.60   \n",
       "7042              Yes  Bank transfer (automatic)         105.65       6844.50   \n",
       "\n",
       "      Churn  \n",
       "0        No  \n",
       "1        No  \n",
       "2       Yes  \n",
       "3        No  \n",
       "4       Yes  \n",
       "...     ...  \n",
       "7038     No  \n",
       "7039     No  \n",
       "7040     No  \n",
       "7041    Yes  \n",
       "7042     No  \n",
       "\n",
       "[7032 rows x 21 columns]"
      ]
     },
     "execution_count": 24,
     "metadata": {},
     "output_type": "execute_result"
    }
   ],
   "source": [
    "df.dropna()"
   ]
  },
  {
   "cell_type": "code",
   "execution_count": 25,
   "id": "7fc76756",
   "metadata": {},
   "outputs": [
    {
     "data": {
      "text/plain": [
       "(7032, 21)"
      ]
     },
     "execution_count": 25,
     "metadata": {},
     "output_type": "execute_result"
    }
   ],
   "source": [
    "df.dropna().shape"
   ]
  },
  {
   "cell_type": "code",
   "execution_count": 26,
   "id": "d3c129b2",
   "metadata": {},
   "outputs": [],
   "source": [
    "df.dropna(inplace=True)"
   ]
  },
  {
   "cell_type": "code",
   "execution_count": 27,
   "id": "a14a1808",
   "metadata": {},
   "outputs": [
    {
     "data": {
      "text/plain": [
       "(7032, 21)"
      ]
     },
     "execution_count": 27,
     "metadata": {},
     "output_type": "execute_result"
    }
   ],
   "source": [
    "df.shape"
   ]
  },
  {
   "cell_type": "code",
   "execution_count": 28,
   "id": "9eff287f",
   "metadata": {},
   "outputs": [
    {
     "data": {
      "text/plain": [
       "customerID            9412-ARGBX\n",
       "gender                    Female\n",
       "SeniorCitizen                  0\n",
       "Partner                       No\n",
       "Dependents                   Yes\n",
       "tenure                        48\n",
       "PhoneService                 Yes\n",
       "MultipleLines                 No\n",
       "InternetService      Fiber optic\n",
       "OnlineSecurity                No\n",
       "OnlineBackup                 Yes\n",
       "DeviceProtection             Yes\n",
       "TechSupport                  Yes\n",
       "StreamingTV                  Yes\n",
       "StreamingMovies               No\n",
       "Contract                Two year\n",
       "PaperlessBilling             Yes\n",
       "PaymentMethod       Mailed check\n",
       "MonthlyCharges              95.5\n",
       "TotalCharges             4627.85\n",
       "Churn                        Yes\n",
       "Name: 6680, dtype: object"
      ]
     },
     "execution_count": 28,
     "metadata": {},
     "output_type": "execute_result"
    }
   ],
   "source": [
    "df.iloc[6670,:]"
   ]
  },
  {
   "cell_type": "code",
   "execution_count": 29,
   "id": "a9d0ea66",
   "metadata": {},
   "outputs": [
    {
     "data": {
      "text/plain": [
       "customerID          0\n",
       "gender              0\n",
       "SeniorCitizen       0\n",
       "Partner             0\n",
       "Dependents          0\n",
       "tenure              0\n",
       "PhoneService        0\n",
       "MultipleLines       0\n",
       "InternetService     0\n",
       "OnlineSecurity      0\n",
       "OnlineBackup        0\n",
       "DeviceProtection    0\n",
       "TechSupport         0\n",
       "StreamingTV         0\n",
       "StreamingMovies     0\n",
       "Contract            0\n",
       "PaperlessBilling    0\n",
       "PaymentMethod       0\n",
       "MonthlyCharges      0\n",
       "TotalCharges        0\n",
       "Churn               0\n",
       "dtype: int64"
      ]
     },
     "execution_count": 29,
     "metadata": {},
     "output_type": "execute_result"
    }
   ],
   "source": [
    "df.isnull().sum()"
   ]
  },
  {
   "cell_type": "code",
   "execution_count": 30,
   "id": "c1cb10ec",
   "metadata": {},
   "outputs": [
    {
     "data": {
      "text/plain": [
       "customerID           object\n",
       "gender               object\n",
       "SeniorCitizen         int64\n",
       "Partner              object\n",
       "Dependents           object\n",
       "tenure                int64\n",
       "PhoneService         object\n",
       "MultipleLines        object\n",
       "InternetService      object\n",
       "OnlineSecurity       object\n",
       "OnlineBackup         object\n",
       "DeviceProtection     object\n",
       "TechSupport          object\n",
       "StreamingTV          object\n",
       "StreamingMovies      object\n",
       "Contract             object\n",
       "PaperlessBilling     object\n",
       "PaymentMethod        object\n",
       "MonthlyCharges      float64\n",
       "TotalCharges        float64\n",
       "Churn                object\n",
       "dtype: object"
      ]
     },
     "execution_count": 30,
     "metadata": {},
     "output_type": "execute_result"
    }
   ],
   "source": [
    "df.dtypes"
   ]
  },
  {
   "cell_type": "markdown",
   "id": "f54baa2e",
   "metadata": {},
   "source": [
    "# Making DataFrame for the Nominal Data"
   ]
  },
  {
   "cell_type": "markdown",
   "id": "ea5e87bf",
   "metadata": {},
   "source": [
    "deep copy=separate reference point + separate memory location\n",
    "shallwo copy=separate reference point + same memory location"
   ]
  },
  {
   "cell_type": "code",
   "execution_count": 31,
   "id": "5802091b",
   "metadata": {},
   "outputs": [],
   "source": [
    "df_visualization_nominal=df[['gender', 'SeniorCitizen', 'Partner', 'Dependents',\n",
    "       'PhoneService', 'MultipleLines', 'InternetService',\n",
    "       'OnlineSecurity', 'OnlineBackup', 'DeviceProtection', 'TechSupport',\n",
    "       'StreamingTV', 'StreamingMovies', 'Contract', 'PaperlessBilling',\n",
    "       'PaymentMethod', 'Churn']].copy()"
   ]
  },
  {
   "cell_type": "code",
   "execution_count": 32,
   "id": "bcd73d27",
   "metadata": {},
   "outputs": [
    {
     "data": {
      "text/plain": [
       "Index(['gender', 'SeniorCitizen', 'Partner', 'Dependents', 'PhoneService',\n",
       "       'MultipleLines', 'InternetService', 'OnlineSecurity', 'OnlineBackup',\n",
       "       'DeviceProtection', 'TechSupport', 'StreamingTV', 'StreamingMovies',\n",
       "       'Contract', 'PaperlessBilling', 'PaymentMethod', 'Churn'],\n",
       "      dtype='object')"
      ]
     },
     "execution_count": 32,
     "metadata": {},
     "output_type": "execute_result"
    }
   ],
   "source": [
    "df_visualization_nominal.columns"
   ]
  },
  {
   "cell_type": "code",
   "execution_count": 33,
   "id": "8bc94ae4",
   "metadata": {},
   "outputs": [
    {
     "data": {
      "text/plain": [
       "1887832046992"
      ]
     },
     "execution_count": 33,
     "metadata": {},
     "output_type": "execute_result"
    }
   ],
   "source": [
    "id(df)#location"
   ]
  },
  {
   "cell_type": "code",
   "execution_count": 34,
   "id": "a68480ef",
   "metadata": {},
   "outputs": [
    {
     "data": {
      "text/plain": [
       "1887831875696"
      ]
     },
     "execution_count": 34,
     "metadata": {},
     "output_type": "execute_result"
    }
   ],
   "source": [
    "id(df_visualization_nominal)"
   ]
  },
  {
   "cell_type": "markdown",
   "id": "58dd5ee3",
   "metadata": {},
   "source": [
    "# visualization of Data"
   ]
  },
  {
   "cell_type": "code",
   "execution_count": 35,
   "id": "a83ee32a",
   "metadata": {},
   "outputs": [],
   "source": [
    "import seaborn as sns"
   ]
  },
  {
   "cell_type": "code",
   "execution_count": 36,
   "id": "ddeb025b",
   "metadata": {},
   "outputs": [
    {
     "name": "stdout",
     "output_type": "stream",
     "text": [
      "Male      3549\n",
      "Female    3483\n",
      "Name: gender, dtype: int64\n"
     ]
    },
    {
     "data": {
      "image/png": "[encoded data removed]",
      "text/plain": [
       "<Figure size 432x288 with 1 Axes>"
      ]
     },
     "metadata": {
      "needs_background": "light"
     },
     "output_type": "display_data"
    }
   ],
   "source": [
    "ax=sns.countplot(x='gender',data=df_visualization_nominal)\n",
    "print(df_visualization_nominal['gender'].value_counts())"
   ]
  },
  {
   "cell_type": "markdown",
   "id": "ba748abb",
   "metadata": {},
   "source": [
    "from above obeservation,total number of male customer is 3549 and female customer is 3483."
   ]
  },
  {
   "cell_type": "code",
   "execution_count": 37,
   "id": "b047eb91",
   "metadata": {},
   "outputs": [
    {
     "name": "stdout",
     "output_type": "stream",
     "text": [
      "0    5890\n",
      "1    1142\n",
      "Name: SeniorCitizen, dtype: int64\n"
     ]
    },
    {
     "data": {
      "image/png": "[encoded data removed]",
      "text/plain": [
       "<Figure size 432x288 with 1 Axes>"
      ]
     },
     "metadata": {
      "needs_background": "light"
     },
     "output_type": "display_data"
    }
   ],
   "source": [
    "ax=sns.countplot(x='SeniorCitizen',data=df_visualization_nominal)\n",
    "print(df_visualization_nominal['SeniorCitizen'].value_counts())"
   ]
  },
  {
   "cell_type": "markdown",
   "id": "7b03e82c",
   "metadata": {},
   "source": [
    "from the above observation,total numbers of young customer is 5890 and seniotcitizen is 1142."
   ]
  },
  {
   "cell_type": "code",
   "execution_count": 38,
   "id": "357f6260",
   "metadata": {},
   "outputs": [
    {
     "name": "stdout",
     "output_type": "stream",
     "text": [
      "No     3639\n",
      "Yes    3393\n",
      "Name: Partner, dtype: int64\n"
     ]
    },
    {
     "data": {
      "image/png": "[encoded data removed]",
      "text/plain": [
       "<Figure size 432x288 with 1 Axes>"
      ]
     },
     "metadata": {
      "needs_background": "light"
     },
     "output_type": "display_data"
    }
   ],
   "source": [
    "ax=sns.countplot(x='Partner',data=df_visualization_nominal)\n",
    "print(df_visualization_nominal['Partner'].value_counts())"
   ]
  },
  {
   "cell_type": "markdown",
   "id": "cf5d184d",
   "metadata": {},
   "source": [
    "from above observation,total number of married customer is 3393 and unmarried is 3639."
   ]
  },
  {
   "cell_type": "code",
   "execution_count": 39,
   "id": "be9445f6",
   "metadata": {},
   "outputs": [
    {
     "name": "stdout",
     "output_type": "stream",
     "text": [
      "No     4933\n",
      "Yes    2099\n",
      "Name: Dependents, dtype: int64\n"
     ]
    },
    {
     "data": {
      "image/png": "[encoded data removed]",
      "text/plain": [
       "<Figure size 432x288 with 1 Axes>"
      ]
     },
     "metadata": {
      "needs_background": "light"
     },
     "output_type": "display_data"
    }
   ],
   "source": [
    "ax=sns.countplot(x='Dependents',data=df_visualization_nominal)\n",
    "print(df_visualization_nominal['Dependents'].value_counts())"
   ]
  },
  {
   "cell_type": "markdown",
   "id": "143256b1",
   "metadata": {},
   "source": [
    "from above observation, total number of dependents customer is 2099 and independent is 4933."
   ]
  },
  {
   "cell_type": "code",
   "execution_count": 40,
   "id": "e28a6153",
   "metadata": {},
   "outputs": [
    {
     "name": "stdout",
     "output_type": "stream",
     "text": [
      "Yes    6352\n",
      "No      680\n",
      "Name: PhoneService, dtype: int64\n"
     ]
    },
    {
     "data": {
      "image/png": "[encoded data removed]",
      "text/plain": [
       "<Figure size 432x288 with 1 Axes>"
      ]
     },
     "metadata": {
      "needs_background": "light"
     },
     "output_type": "display_data"
    }
   ],
   "source": [
    "ax=sns.countplot(x='PhoneService',data=df_visualization_nominal)\n",
    "print(df_visualization_nominal['PhoneService'].value_counts())"
   ]
  },
  {
   "cell_type": "markdown",
   "id": "b4d1ecc5",
   "metadata": {},
   "source": [
    "from above observation,total number of customer using phone service is 6352 and not using 680."
   ]
  },
  {
   "cell_type": "code",
   "execution_count": 41,
   "id": "152c780a",
   "metadata": {},
   "outputs": [
    {
     "name": "stdout",
     "output_type": "stream",
     "text": [
      "No                  3385\n",
      "Yes                 2967\n",
      "No phone service     680\n",
      "Name: MultipleLines, dtype: int64\n"
     ]
    },
    {
     "data": {
      "image/png": "[encoded data removed]",
      "text/plain": [
       "<Figure size 432x288 with 1 Axes>"
      ]
     },
     "metadata": {
      "needs_background": "light"
     },
     "output_type": "display_data"
    }
   ],
   "source": [
    "ax=sns.countplot(x='MultipleLines',data=df_visualization_nominal)\n",
    "print(df_visualization_nominal['MultipleLines'].value_counts())"
   ]
  },
  {
   "cell_type": "markdown",
   "id": "f7150b28",
   "metadata": {},
   "source": [
    "from above observation,total number of customer using multiplelines is 2967,not using multiplelines is 3385 and not usig phone service is 680."
   ]
  },
  {
   "cell_type": "code",
   "execution_count": 42,
   "id": "c249045a",
   "metadata": {},
   "outputs": [
    {
     "name": "stdout",
     "output_type": "stream",
     "text": [
      "Fiber optic    3096\n",
      "DSL            2416\n",
      "No             1520\n",
      "Name: InternetService, dtype: int64\n"
     ]
    },
    {
     "data": {
      "image/png": "[encoded data removed]",
      "text/plain": [
       "<Figure size 432x288 with 1 Axes>"
      ]
     },
     "metadata": {
      "needs_background": "light"
     },
     "output_type": "display_data"
    }
   ],
   "source": [
    "ax=sns.countplot(x='InternetService',data=df_visualization_nominal)\n",
    "print(df_visualization_nominal['InternetService'].value_counts())"
   ]
  },
  {
   "cell_type": "markdown",
   "id": "b3800401",
   "metadata": {},
   "source": [
    "from above observation ,total number of customer using fiber optic  is 3096, using DSL 2416 and not using internet service is 1520."
   ]
  },
  {
   "cell_type": "code",
   "execution_count": 43,
   "id": "26b360bc",
   "metadata": {},
   "outputs": [
    {
     "name": "stdout",
     "output_type": "stream",
     "text": [
      "No                     3497\n",
      "Yes                    2015\n",
      "No internet service    1520\n",
      "Name: OnlineSecurity, dtype: int64\n"
     ]
    },
    {
     "data": {
      "image/png": "[encoded data removed]",
      "text/plain": [
       "<Figure size 432x288 with 1 Axes>"
      ]
     },
     "metadata": {
      "needs_background": "light"
     },
     "output_type": "display_data"
    }
   ],
   "source": [
    "ax=sns.countplot(x='OnlineSecurity',data=df_visualization_nominal)\n",
    "print(df_visualization_nominal['OnlineSecurity'].value_counts())"
   ]
  },
  {
   "cell_type": "markdown",
   "id": "1e87a80c",
   "metadata": {},
   "source": [
    "from above observation,total number of custome is using onlinesecurity is 2015 and not using online Security is 3497 and not using internet service is 1520."
   ]
  },
  {
   "cell_type": "code",
   "execution_count": 44,
   "id": "d580a518",
   "metadata": {},
   "outputs": [
    {
     "name": "stdout",
     "output_type": "stream",
     "text": [
      "No                     3087\n",
      "Yes                    2425\n",
      "No internet service    1520\n",
      "Name: OnlineBackup, dtype: int64\n"
     ]
    },
    {
     "data": {
      "image/png": "[encoded data removed]",
      "text/plain": [
       "<Figure size 432x288 with 1 Axes>"
      ]
     },
     "metadata": {
      "needs_background": "light"
     },
     "output_type": "display_data"
    }
   ],
   "source": [
    "ax=sns.countplot(x='OnlineBackup',data=df_visualization_nominal)\n",
    "print(df_visualization_nominal['OnlineBackup'].value_counts())"
   ]
  },
  {
   "cell_type": "markdown",
   "id": "d063a571",
   "metadata": {},
   "source": [
    "from above observation, total number of customer using onlinebackup is 2425,not using onlinebackup is 3087 and not using internet service is 1520."
   ]
  },
  {
   "cell_type": "code",
   "execution_count": 45,
   "id": "3b9446a1",
   "metadata": {},
   "outputs": [
    {
     "name": "stdout",
     "output_type": "stream",
     "text": [
      "No                     3094\n",
      "Yes                    2418\n",
      "No internet service    1520\n",
      "Name: DeviceProtection, dtype: int64\n"
     ]
    },
    {
     "data": {
      "image/png": "[encoded data removed]",
      "text/plain": [
       "<Figure size 432x288 with 1 Axes>"
      ]
     },
     "metadata": {
      "needs_background": "light"
     },
     "output_type": "display_data"
    }
   ],
   "source": [
    "ax=sns.countplot(x='DeviceProtection',data=df_visualization_nominal)\n",
    "print(df_visualization_nominal['DeviceProtection'].value_counts())"
   ]
  },
  {
   "cell_type": "markdown",
   "id": "0a673c1b",
   "metadata": {},
   "source": [
    "from above observation , total number of customer is using device protection is 2418,not using device protection is 3094 and not using internet service is 1520."
   ]
  },
  {
   "cell_type": "code",
   "execution_count": 46,
   "id": "78e78205",
   "metadata": {},
   "outputs": [
    {
     "name": "stdout",
     "output_type": "stream",
     "text": [
      "No                     3472\n",
      "Yes                    2040\n",
      "No internet service    1520\n",
      "Name: TechSupport, dtype: int64\n"
     ]
    },
    {
     "data": {
      "image/png": "[encoded data removed]",
      "text/plain": [
       "<Figure size 432x288 with 1 Axes>"
      ]
     },
     "metadata": {
      "needs_background": "light"
     },
     "output_type": "display_data"
    }
   ],
   "source": [
    "ax=sns.countplot(x='TechSupport',data=df_visualization_nominal)\n",
    "print(df_visualization_nominal['TechSupport'].value_counts())"
   ]
  },
  {
   "cell_type": "markdown",
   "id": "d002b7ad",
   "metadata": {},
   "source": [
    "from above observation, total number of custome using techsupport is 2040,not using techsupport 3472 and not using internet service is 1520."
   ]
  },
  {
   "cell_type": "code",
   "execution_count": 47,
   "id": "1d1fb176",
   "metadata": {},
   "outputs": [
    {
     "name": "stdout",
     "output_type": "stream",
     "text": [
      "No                     2809\n",
      "Yes                    2703\n",
      "No internet service    1520\n",
      "Name: StreamingTV, dtype: int64\n"
     ]
    },
    {
     "data": {
      "image/png": "[encoded data removed]",
      "text/plain": [
       "<Figure size 432x288 with 1 Axes>"
      ]
     },
     "metadata": {
      "needs_background": "light"
     },
     "output_type": "display_data"
    }
   ],
   "source": [
    "ax=sns.countplot(x='StreamingTV',data=df_visualization_nominal)\n",
    "print(df_visualization_nominal['StreamingTV'].value_counts())"
   ]
  },
  {
   "cell_type": "markdown",
   "id": "80bbebcd",
   "metadata": {},
   "source": [
    "from above observation , total number of custome using streamingTV is 2703 ,not using streamingTV is 2809 and not using internet service is 1520."
   ]
  },
  {
   "cell_type": "code",
   "execution_count": 48,
   "id": "14194b8e",
   "metadata": {},
   "outputs": [
    {
     "name": "stdout",
     "output_type": "stream",
     "text": [
      "No                     2781\n",
      "Yes                    2731\n",
      "No internet service    1520\n",
      "Name: StreamingMovies, dtype: int64\n"
     ]
    },
    {
     "data": {
      "image/png": "[encoded data removed]",
      "text/plain": [
       "<Figure size 432x288 with 1 Axes>"
      ]
     },
     "metadata": {
      "needs_background": "light"
     },
     "output_type": "display_data"
    }
   ],
   "source": [
    "ax=sns.countplot(x='StreamingMovies',data=df_visualization_nominal)\n",
    "print(df_visualization_nominal['StreamingMovies'].value_counts())"
   ]
  },
  {
   "cell_type": "markdown",
   "id": "d17a2807",
   "metadata": {},
   "source": [
    "from above observation,total number of customer using streamingmovies is 2731 , not usig streaming movies is 2781 and not using internet service is 1520."
   ]
  },
  {
   "cell_type": "code",
   "execution_count": 49,
   "id": "7b5d72cb",
   "metadata": {},
   "outputs": [
    {
     "name": "stdout",
     "output_type": "stream",
     "text": [
      "Month-to-month    3875\n",
      "Two year          1685\n",
      "One year          1472\n",
      "Name: Contract, dtype: int64\n"
     ]
    },
    {
     "data": {
      "image/png": "[encoded data removed]",
      "text/plain": [
       "<Figure size 432x288 with 1 Axes>"
      ]
     },
     "metadata": {
      "needs_background": "light"
     },
     "output_type": "display_data"
    }
   ],
   "source": [
    "ax=sns.countplot(x='Contract',data=df_visualization_nominal)\n",
    "print(df_visualization_nominal['Contract'].value_counts())"
   ]
  },
  {
   "cell_type": "markdown",
   "id": "8bcf3779",
   "metadata": {},
   "source": [
    "from above observation, total number of customer having month to month contract is 3875,having two year contract is 1685 and having one year contract is 1472."
   ]
  },
  {
   "cell_type": "code",
   "execution_count": 50,
   "id": "3aa4831d",
   "metadata": {},
   "outputs": [
    {
     "name": "stdout",
     "output_type": "stream",
     "text": [
      "Yes    4168\n",
      "No     2864\n",
      "Name: PaperlessBilling, dtype: int64\n"
     ]
    },
    {
     "data": {
      "image/png": "[encoded data removed]",
      "text/plain": [
       "<Figure size 432x288 with 1 Axes>"
      ]
     },
     "metadata": {
      "needs_background": "light"
     },
     "output_type": "display_data"
    }
   ],
   "source": [
    "ax=sns.countplot(x='PaperlessBilling',data=df_visualization_nominal)\n",
    "print(df_visualization_nominal['PaperlessBilling'].value_counts())"
   ]
  },
  {
   "cell_type": "markdown",
   "id": "2269bc19",
   "metadata": {},
   "source": [
    "from above observation ,total number of customer usig paperlessbilling is 4168 and not using 2864."
   ]
  },
  {
   "cell_type": "code",
   "execution_count": 51,
   "id": "64c27590",
   "metadata": {},
   "outputs": [
    {
     "name": "stdout",
     "output_type": "stream",
     "text": [
      "Electronic check             2365\n",
      "Mailed check                 1604\n",
      "Bank transfer (automatic)    1542\n",
      "Credit card (automatic)      1521\n",
      "Name: PaymentMethod, dtype: int64\n"
     ]
    },
    {
     "data": {
      "image/png": "[encoded data removed]",
      "text/plain": [
       "<Figure size 432x288 with 1 Axes>"
      ]
     },
     "metadata": {
      "needs_background": "light"
     },
     "output_type": "display_data"
    }
   ],
   "source": [
    "ax=sns.countplot(x='PaymentMethod',data=df_visualization_nominal)\n",
    "print(df_visualization_nominal['PaymentMethod'].value_counts())"
   ]
  },
  {
   "cell_type": "markdown",
   "id": "5011a9e8",
   "metadata": {},
   "source": [
    "from above observation , total number of custome using electronic check is 2365,using mailed check is 1604, using Bank transfer is 1542 and using credit card is 1521."
   ]
  },
  {
   "cell_type": "code",
   "execution_count": 52,
   "id": "3f2ab52a",
   "metadata": {},
   "outputs": [
    {
     "name": "stdout",
     "output_type": "stream",
     "text": [
      "No     5163\n",
      "Yes    1869\n",
      "Name: Churn, dtype: int64\n"
     ]
    },
    {
     "data": {
      "image/png": "[encoded data removed]",
      "text/plain": [
       "<Figure size 432x288 with 1 Axes>"
      ]
     },
     "metadata": {
      "needs_background": "light"
     },
     "output_type": "display_data"
    }
   ],
   "source": [
    "ax=sns.countplot(x='Churn',data=df_visualization_nominal)\n",
    "print(df_visualization_nominal['Churn'].value_counts())"
   ]
  },
  {
   "cell_type": "markdown",
   "id": "30635bd2",
   "metadata": {},
   "source": [
    "from above observation ,total nmber of customer is going to be churn is 1869 and not be churn 5163."
   ]
  },
  {
   "cell_type": "markdown",
   "id": "16d372d8",
   "metadata": {},
   "source": [
    "for ordinal categorical data we will use lineplots,it will give the flow of the line of the classes of the columns."
   ]
  },
  {
   "cell_type": "markdown",
   "id": "c4e068aa",
   "metadata": {},
   "source": [
    "# Making dataframe for the ordinal data "
   ]
  },
  {
   "cell_type": "code",
   "execution_count": 53,
   "id": "74ef9cb0",
   "metadata": {},
   "outputs": [],
   "source": [
    "df_visualization_ordinal=df[['customerID','tenure']].copy()"
   ]
  },
  {
   "cell_type": "code",
   "execution_count": 54,
   "id": "5bc19142",
   "metadata": {},
   "outputs": [
    {
     "data": {
      "text/plain": [
       "<seaborn.axisgrid.FacetGrid at 0x1b792765ee0>"
      ]
     },
     "execution_count": 54,
     "metadata": {},
     "output_type": "execute_result"
    },
    {
     "data": {
      "image/png": "[encoded data removed]",
      "text/plain": [
       "<Figure size 360x360 with 1 Axes>"
      ]
     },
     "metadata": {
      "needs_background": "light"
     },
     "output_type": "display_data"
    }
   ],
   "source": [
    "sns.catplot(x='SeniorCitizen', y='tenure',data=df)"
   ]
  },
  {
   "cell_type": "markdown",
   "id": "5091be27",
   "metadata": {},
   "source": [
    "checking the distribution of continuos value of the float type columns"
   ]
  },
  {
   "cell_type": "code",
   "execution_count": 55,
   "id": "67c33f3a",
   "metadata": {},
   "outputs": [],
   "source": [
    "df_visualization_continuous=df[['MonthlyCharges','TotalCharges']].copy()"
   ]
  },
  {
   "cell_type": "code",
   "execution_count": 56,
   "id": "03730eb7",
   "metadata": {},
   "outputs": [
    {
     "data": {
      "text/plain": [
       "<seaborn.axisgrid.FacetGrid at 0x1b79274cd60>"
      ]
     },
     "execution_count": 56,
     "metadata": {},
     "output_type": "execute_result"
    },
    {
     "data": {
      "image/png": "[encoded data removed]",
      "text/plain": [
       "<Figure size 360x360 with 1 Axes>"
      ]
     },
     "metadata": {
      "needs_background": "light"
     },
     "output_type": "display_data"
    }
   ],
   "source": [
    "import seaborn as sns\n",
    "sns.displot(df_visualization_continuous['TotalCharges'],kde=True)"
   ]
  },
  {
   "cell_type": "code",
   "execution_count": 57,
   "id": "9c1839fd",
   "metadata": {},
   "outputs": [
    {
     "data": {
      "text/plain": [
       "<seaborn.axisgrid.FacetGrid at 0x1b792713700>"
      ]
     },
     "execution_count": 57,
     "metadata": {},
     "output_type": "execute_result"
    },
    {
     "data": {
      "image/png": "[encoded data removed]",
      "text/plain": [
       "<Figure size 360x360 with 1 Axes>"
      ]
     },
     "metadata": {
      "needs_background": "light"
     },
     "output_type": "display_data"
    }
   ],
   "source": [
    "sns.displot(df_visualization_continuous['MonthlyCharges'],kde=True)"
   ]
  },
  {
   "cell_type": "markdown",
   "id": "4a25ccd3",
   "metadata": {},
   "source": [
    "since the dataset has a lot of string values.we will use encoding technique to conver the string data to numerical."
   ]
  },
  {
   "cell_type": "markdown",
   "id": "2da5e540",
   "metadata": {},
   "source": [
    "# Encodinf of dataframe"
   ]
  },
  {
   "cell_type": "code",
   "execution_count": 58,
   "id": "b23fa9cd",
   "metadata": {},
   "outputs": [],
   "source": [
    "from sklearn.preprocessing import OrdinalEncoder\n",
    "enc=OrdinalEncoder()"
   ]
  },
  {
   "cell_type": "code",
   "execution_count": 59,
   "id": "980f9b4c",
   "metadata": {},
   "outputs": [],
   "source": [
    "for i in df.columns:\n",
    "    if df[i].dtypes=='object':\n",
    "        df[i]=enc.fit_transform(df[i].values.reshape(-1,1))"
   ]
  },
  {
   "cell_type": "code",
   "execution_count": 60,
   "id": "cd2f1055",
   "metadata": {},
   "outputs": [
    {
     "data": {
      "text/html": [
       "<div>\n",
       "<style scoped>\n",
       "    .dataframe tbody tr th:only-of-type {\n",
       "        vertical-align: middle;\n",
       "    }\n",
       "\n",
       "    .dataframe tbody tr th {\n",
       "        vertical-align: top;\n",
       "    }\n",
       "\n",
       "    .dataframe thead th {\n",
       "        text-align: right;\n",
       "    }\n",
       "</style>\n",
       "<table border=\"1\" class=\"dataframe\">\n",
       "  <thead>\n",
       "    <tr style=\"text-align: right;\">\n",
       "      <th></th>\n",
       "      <th>customerID</th>\n",
       "      <th>gender</th>\n",
       "      <th>SeniorCitizen</th>\n",
       "      <th>Partner</th>\n",
       "      <th>Dependents</th>\n",
       "      <th>tenure</th>\n",
       "      <th>PhoneService</th>\n",
       "      <th>MultipleLines</th>\n",
       "      <th>InternetService</th>\n",
       "      <th>OnlineSecurity</th>\n",
       "      <th>...</th>\n",
       "      <th>DeviceProtection</th>\n",
       "      <th>TechSupport</th>\n",
       "      <th>StreamingTV</th>\n",
       "      <th>StreamingMovies</th>\n",
       "      <th>Contract</th>\n",
       "      <th>PaperlessBilling</th>\n",
       "      <th>PaymentMethod</th>\n",
       "      <th>MonthlyCharges</th>\n",
       "      <th>TotalCharges</th>\n",
       "      <th>Churn</th>\n",
       "    </tr>\n",
       "  </thead>\n",
       "  <tbody>\n",
       "    <tr>\n",
       "      <th>0</th>\n",
       "      <td>5365.0</td>\n",
       "      <td>0.0</td>\n",
       "      <td>0</td>\n",
       "      <td>1.0</td>\n",
       "      <td>0.0</td>\n",
       "      <td>1</td>\n",
       "      <td>0.0</td>\n",
       "      <td>1.0</td>\n",
       "      <td>0.0</td>\n",
       "      <td>0.0</td>\n",
       "      <td>...</td>\n",
       "      <td>0.0</td>\n",
       "      <td>0.0</td>\n",
       "      <td>0.0</td>\n",
       "      <td>0.0</td>\n",
       "      <td>0.0</td>\n",
       "      <td>1.0</td>\n",
       "      <td>2.0</td>\n",
       "      <td>29.85</td>\n",
       "      <td>29.85</td>\n",
       "      <td>0.0</td>\n",
       "    </tr>\n",
       "    <tr>\n",
       "      <th>1</th>\n",
       "      <td>3953.0</td>\n",
       "      <td>1.0</td>\n",
       "      <td>0</td>\n",
       "      <td>0.0</td>\n",
       "      <td>0.0</td>\n",
       "      <td>34</td>\n",
       "      <td>1.0</td>\n",
       "      <td>0.0</td>\n",
       "      <td>0.0</td>\n",
       "      <td>2.0</td>\n",
       "      <td>...</td>\n",
       "      <td>2.0</td>\n",
       "      <td>0.0</td>\n",
       "      <td>0.0</td>\n",
       "      <td>0.0</td>\n",
       "      <td>1.0</td>\n",
       "      <td>0.0</td>\n",
       "      <td>3.0</td>\n",
       "      <td>56.95</td>\n",
       "      <td>1889.50</td>\n",
       "      <td>0.0</td>\n",
       "    </tr>\n",
       "    <tr>\n",
       "      <th>2</th>\n",
       "      <td>2558.0</td>\n",
       "      <td>1.0</td>\n",
       "      <td>0</td>\n",
       "      <td>0.0</td>\n",
       "      <td>0.0</td>\n",
       "      <td>2</td>\n",
       "      <td>1.0</td>\n",
       "      <td>0.0</td>\n",
       "      <td>0.0</td>\n",
       "      <td>2.0</td>\n",
       "      <td>...</td>\n",
       "      <td>0.0</td>\n",
       "      <td>0.0</td>\n",
       "      <td>0.0</td>\n",
       "      <td>0.0</td>\n",
       "      <td>0.0</td>\n",
       "      <td>1.0</td>\n",
       "      <td>3.0</td>\n",
       "      <td>53.85</td>\n",
       "      <td>108.15</td>\n",
       "      <td>1.0</td>\n",
       "    </tr>\n",
       "    <tr>\n",
       "      <th>3</th>\n",
       "      <td>5524.0</td>\n",
       "      <td>1.0</td>\n",
       "      <td>0</td>\n",
       "      <td>0.0</td>\n",
       "      <td>0.0</td>\n",
       "      <td>45</td>\n",
       "      <td>0.0</td>\n",
       "      <td>1.0</td>\n",
       "      <td>0.0</td>\n",
       "      <td>2.0</td>\n",
       "      <td>...</td>\n",
       "      <td>2.0</td>\n",
       "      <td>2.0</td>\n",
       "      <td>0.0</td>\n",
       "      <td>0.0</td>\n",
       "      <td>1.0</td>\n",
       "      <td>0.0</td>\n",
       "      <td>0.0</td>\n",
       "      <td>42.30</td>\n",
       "      <td>1840.75</td>\n",
       "      <td>0.0</td>\n",
       "    </tr>\n",
       "    <tr>\n",
       "      <th>4</th>\n",
       "      <td>6500.0</td>\n",
       "      <td>0.0</td>\n",
       "      <td>0</td>\n",
       "      <td>0.0</td>\n",
       "      <td>0.0</td>\n",
       "      <td>2</td>\n",
       "      <td>1.0</td>\n",
       "      <td>0.0</td>\n",
       "      <td>1.0</td>\n",
       "      <td>0.0</td>\n",
       "      <td>...</td>\n",
       "      <td>0.0</td>\n",
       "      <td>0.0</td>\n",
       "      <td>0.0</td>\n",
       "      <td>0.0</td>\n",
       "      <td>0.0</td>\n",
       "      <td>1.0</td>\n",
       "      <td>2.0</td>\n",
       "      <td>70.70</td>\n",
       "      <td>151.65</td>\n",
       "      <td>1.0</td>\n",
       "    </tr>\n",
       "    <tr>\n",
       "      <th>...</th>\n",
       "      <td>...</td>\n",
       "      <td>...</td>\n",
       "      <td>...</td>\n",
       "      <td>...</td>\n",
       "      <td>...</td>\n",
       "      <td>...</td>\n",
       "      <td>...</td>\n",
       "      <td>...</td>\n",
       "      <td>...</td>\n",
       "      <td>...</td>\n",
       "      <td>...</td>\n",
       "      <td>...</td>\n",
       "      <td>...</td>\n",
       "      <td>...</td>\n",
       "      <td>...</td>\n",
       "      <td>...</td>\n",
       "      <td>...</td>\n",
       "      <td>...</td>\n",
       "      <td>...</td>\n",
       "      <td>...</td>\n",
       "      <td>...</td>\n",
       "    </tr>\n",
       "    <tr>\n",
       "      <th>7038</th>\n",
       "      <td>4843.0</td>\n",
       "      <td>1.0</td>\n",
       "      <td>0</td>\n",
       "      <td>1.0</td>\n",
       "      <td>1.0</td>\n",
       "      <td>24</td>\n",
       "      <td>1.0</td>\n",
       "      <td>2.0</td>\n",
       "      <td>0.0</td>\n",
       "      <td>2.0</td>\n",
       "      <td>...</td>\n",
       "      <td>2.0</td>\n",
       "      <td>2.0</td>\n",
       "      <td>2.0</td>\n",
       "      <td>2.0</td>\n",
       "      <td>1.0</td>\n",
       "      <td>1.0</td>\n",
       "      <td>3.0</td>\n",
       "      <td>84.80</td>\n",
       "      <td>1990.50</td>\n",
       "      <td>0.0</td>\n",
       "    </tr>\n",
       "    <tr>\n",
       "      <th>7039</th>\n",
       "      <td>1524.0</td>\n",
       "      <td>0.0</td>\n",
       "      <td>0</td>\n",
       "      <td>1.0</td>\n",
       "      <td>1.0</td>\n",
       "      <td>72</td>\n",
       "      <td>1.0</td>\n",
       "      <td>2.0</td>\n",
       "      <td>1.0</td>\n",
       "      <td>0.0</td>\n",
       "      <td>...</td>\n",
       "      <td>2.0</td>\n",
       "      <td>0.0</td>\n",
       "      <td>2.0</td>\n",
       "      <td>2.0</td>\n",
       "      <td>1.0</td>\n",
       "      <td>1.0</td>\n",
       "      <td>1.0</td>\n",
       "      <td>103.20</td>\n",
       "      <td>7362.90</td>\n",
       "      <td>0.0</td>\n",
       "    </tr>\n",
       "    <tr>\n",
       "      <th>7040</th>\n",
       "      <td>3358.0</td>\n",
       "      <td>0.0</td>\n",
       "      <td>0</td>\n",
       "      <td>1.0</td>\n",
       "      <td>1.0</td>\n",
       "      <td>11</td>\n",
       "      <td>0.0</td>\n",
       "      <td>1.0</td>\n",
       "      <td>0.0</td>\n",
       "      <td>2.0</td>\n",
       "      <td>...</td>\n",
       "      <td>0.0</td>\n",
       "      <td>0.0</td>\n",
       "      <td>0.0</td>\n",
       "      <td>0.0</td>\n",
       "      <td>0.0</td>\n",
       "      <td>1.0</td>\n",
       "      <td>2.0</td>\n",
       "      <td>29.60</td>\n",
       "      <td>346.45</td>\n",
       "      <td>0.0</td>\n",
       "    </tr>\n",
       "    <tr>\n",
       "      <th>7041</th>\n",
       "      <td>5923.0</td>\n",
       "      <td>1.0</td>\n",
       "      <td>1</td>\n",
       "      <td>1.0</td>\n",
       "      <td>0.0</td>\n",
       "      <td>4</td>\n",
       "      <td>1.0</td>\n",
       "      <td>2.0</td>\n",
       "      <td>1.0</td>\n",
       "      <td>0.0</td>\n",
       "      <td>...</td>\n",
       "      <td>0.0</td>\n",
       "      <td>0.0</td>\n",
       "      <td>0.0</td>\n",
       "      <td>0.0</td>\n",
       "      <td>0.0</td>\n",
       "      <td>1.0</td>\n",
       "      <td>3.0</td>\n",
       "      <td>74.40</td>\n",
       "      <td>306.60</td>\n",
       "      <td>1.0</td>\n",
       "    </tr>\n",
       "    <tr>\n",
       "      <th>7042</th>\n",
       "      <td>2221.0</td>\n",
       "      <td>1.0</td>\n",
       "      <td>0</td>\n",
       "      <td>0.0</td>\n",
       "      <td>0.0</td>\n",
       "      <td>66</td>\n",
       "      <td>1.0</td>\n",
       "      <td>0.0</td>\n",
       "      <td>1.0</td>\n",
       "      <td>2.0</td>\n",
       "      <td>...</td>\n",
       "      <td>2.0</td>\n",
       "      <td>2.0</td>\n",
       "      <td>2.0</td>\n",
       "      <td>2.0</td>\n",
       "      <td>2.0</td>\n",
       "      <td>1.0</td>\n",
       "      <td>0.0</td>\n",
       "      <td>105.65</td>\n",
       "      <td>6844.50</td>\n",
       "      <td>0.0</td>\n",
       "    </tr>\n",
       "  </tbody>\n",
       "</table>\n",
       "<p>7032 rows × 21 columns</p>\n",
       "</div>"
      ],
      "text/plain": [
       "      customerID  gender  SeniorCitizen  Partner  Dependents  tenure  \\\n",
       "0         5365.0     0.0              0      1.0         0.0       1   \n",
       "1         3953.0     1.0              0      0.0         0.0      34   \n",
       "2         2558.0     1.0              0      0.0         0.0       2   \n",
       "3         5524.0     1.0              0      0.0         0.0      45   \n",
       "4         6500.0     0.0              0      0.0         0.0       2   \n",
       "...          ...     ...            ...      ...         ...     ...   \n",
       "7038      4843.0     1.0              0      1.0         1.0      24   \n",
       "7039      1524.0     0.0              0      1.0         1.0      72   \n",
       "7040      3358.0     0.0              0      1.0         1.0      11   \n",
       "7041      5923.0     1.0              1      1.0         0.0       4   \n",
       "7042      2221.0     1.0              0      0.0         0.0      66   \n",
       "\n",
       "      PhoneService  MultipleLines  InternetService  OnlineSecurity  ...  \\\n",
       "0              0.0            1.0              0.0             0.0  ...   \n",
       "1              1.0            0.0              0.0             2.0  ...   \n",
       "2              1.0            0.0              0.0             2.0  ...   \n",
       "3              0.0            1.0              0.0             2.0  ...   \n",
       "4              1.0            0.0              1.0             0.0  ...   \n",
       "...            ...            ...              ...             ...  ...   \n",
       "7038           1.0            2.0              0.0             2.0  ...   \n",
       "7039           1.0            2.0              1.0             0.0  ...   \n",
       "7040           0.0            1.0              0.0             2.0  ...   \n",
       "7041           1.0            2.0              1.0             0.0  ...   \n",
       "7042           1.0            0.0              1.0             2.0  ...   \n",
       "\n",
       "      DeviceProtection  TechSupport  StreamingTV  StreamingMovies  Contract  \\\n",
       "0                  0.0          0.0          0.0              0.0       0.0   \n",
       "1                  2.0          0.0          0.0              0.0       1.0   \n",
       "2                  0.0          0.0          0.0              0.0       0.0   \n",
       "3                  2.0          2.0          0.0              0.0       1.0   \n",
       "4                  0.0          0.0          0.0              0.0       0.0   \n",
       "...                ...          ...          ...              ...       ...   \n",
       "7038               2.0          2.0          2.0              2.0       1.0   \n",
       "7039               2.0          0.0          2.0              2.0       1.0   \n",
       "7040               0.0          0.0          0.0              0.0       0.0   \n",
       "7041               0.0          0.0          0.0              0.0       0.0   \n",
       "7042               2.0          2.0          2.0              2.0       2.0   \n",
       "\n",
       "      PaperlessBilling  PaymentMethod  MonthlyCharges  TotalCharges  Churn  \n",
       "0                  1.0            2.0           29.85         29.85    0.0  \n",
       "1                  0.0            3.0           56.95       1889.50    0.0  \n",
       "2                  1.0            3.0           53.85        108.15    1.0  \n",
       "3                  0.0            0.0           42.30       1840.75    0.0  \n",
       "4                  1.0            2.0           70.70        151.65    1.0  \n",
       "...                ...            ...             ...           ...    ...  \n",
       "7038               1.0            3.0           84.80       1990.50    0.0  \n",
       "7039               1.0            1.0          103.20       7362.90    0.0  \n",
       "7040               1.0            2.0           29.60        346.45    0.0  \n",
       "7041               1.0            3.0           74.40        306.60    1.0  \n",
       "7042               1.0            0.0          105.65       6844.50    0.0  \n",
       "\n",
       "[7032 rows x 21 columns]"
      ]
     },
     "execution_count": 60,
     "metadata": {},
     "output_type": "execute_result"
    }
   ],
   "source": [
    "df"
   ]
  },
  {
   "cell_type": "code",
   "execution_count": 61,
   "id": "ff076360",
   "metadata": {},
   "outputs": [
    {
     "data": {
      "text/plain": [
       "customerID          float64\n",
       "gender              float64\n",
       "SeniorCitizen         int64\n",
       "Partner             float64\n",
       "Dependents          float64\n",
       "tenure                int64\n",
       "PhoneService        float64\n",
       "MultipleLines       float64\n",
       "InternetService     float64\n",
       "OnlineSecurity      float64\n",
       "OnlineBackup        float64\n",
       "DeviceProtection    float64\n",
       "TechSupport         float64\n",
       "StreamingTV         float64\n",
       "StreamingMovies     float64\n",
       "Contract            float64\n",
       "PaperlessBilling    float64\n",
       "PaymentMethod       float64\n",
       "MonthlyCharges      float64\n",
       "TotalCharges        float64\n",
       "Churn               float64\n",
       "dtype: object"
      ]
     },
     "execution_count": 61,
     "metadata": {},
     "output_type": "execute_result"
    }
   ],
   "source": [
    "df.dtypes"
   ]
  },
  {
   "cell_type": "markdown",
   "id": "d008b7a2",
   "metadata": {},
   "source": [
    "describe the dataset"
   ]
  },
  {
   "cell_type": "code",
   "execution_count": 62,
   "id": "1229b71d",
   "metadata": {},
   "outputs": [
    {
     "data": {
      "text/html": [
       "<div>\n",
       "<style scoped>\n",
       "    .dataframe tbody tr th:only-of-type {\n",
       "        vertical-align: middle;\n",
       "    }\n",
       "\n",
       "    .dataframe tbody tr th {\n",
       "        vertical-align: top;\n",
       "    }\n",
       "\n",
       "    .dataframe thead th {\n",
       "        text-align: right;\n",
       "    }\n",
       "</style>\n",
       "<table border=\"1\" class=\"dataframe\">\n",
       "  <thead>\n",
       "    <tr style=\"text-align: right;\">\n",
       "      <th></th>\n",
       "      <th>customerID</th>\n",
       "      <th>gender</th>\n",
       "      <th>SeniorCitizen</th>\n",
       "      <th>Partner</th>\n",
       "      <th>Dependents</th>\n",
       "      <th>tenure</th>\n",
       "      <th>PhoneService</th>\n",
       "      <th>MultipleLines</th>\n",
       "      <th>InternetService</th>\n",
       "      <th>OnlineSecurity</th>\n",
       "      <th>...</th>\n",
       "      <th>DeviceProtection</th>\n",
       "      <th>TechSupport</th>\n",
       "      <th>StreamingTV</th>\n",
       "      <th>StreamingMovies</th>\n",
       "      <th>Contract</th>\n",
       "      <th>PaperlessBilling</th>\n",
       "      <th>PaymentMethod</th>\n",
       "      <th>MonthlyCharges</th>\n",
       "      <th>TotalCharges</th>\n",
       "      <th>Churn</th>\n",
       "    </tr>\n",
       "  </thead>\n",
       "  <tbody>\n",
       "    <tr>\n",
       "      <th>count</th>\n",
       "      <td>7032.000000</td>\n",
       "      <td>7032.000000</td>\n",
       "      <td>7032.000000</td>\n",
       "      <td>7032.000000</td>\n",
       "      <td>7032.000000</td>\n",
       "      <td>7032.000000</td>\n",
       "      <td>7032.000000</td>\n",
       "      <td>7032.000000</td>\n",
       "      <td>7032.000000</td>\n",
       "      <td>7032.000000</td>\n",
       "      <td>...</td>\n",
       "      <td>7032.000000</td>\n",
       "      <td>7032.000000</td>\n",
       "      <td>7032.000000</td>\n",
       "      <td>7032.000000</td>\n",
       "      <td>7032.000000</td>\n",
       "      <td>7032.000000</td>\n",
       "      <td>7032.000000</td>\n",
       "      <td>7032.000000</td>\n",
       "      <td>7032.000000</td>\n",
       "      <td>7032.000000</td>\n",
       "    </tr>\n",
       "    <tr>\n",
       "      <th>mean</th>\n",
       "      <td>3515.500000</td>\n",
       "      <td>0.504693</td>\n",
       "      <td>0.162400</td>\n",
       "      <td>0.482509</td>\n",
       "      <td>0.298493</td>\n",
       "      <td>32.421786</td>\n",
       "      <td>0.903299</td>\n",
       "      <td>0.940557</td>\n",
       "      <td>0.872582</td>\n",
       "      <td>0.789249</td>\n",
       "      <td>...</td>\n",
       "      <td>0.903868</td>\n",
       "      <td>0.796359</td>\n",
       "      <td>0.984926</td>\n",
       "      <td>0.992890</td>\n",
       "      <td>0.688567</td>\n",
       "      <td>0.592719</td>\n",
       "      <td>1.573237</td>\n",
       "      <td>64.798208</td>\n",
       "      <td>2283.300441</td>\n",
       "      <td>0.265785</td>\n",
       "    </tr>\n",
       "    <tr>\n",
       "      <th>std</th>\n",
       "      <td>2030.107879</td>\n",
       "      <td>0.500014</td>\n",
       "      <td>0.368844</td>\n",
       "      <td>0.499729</td>\n",
       "      <td>0.457629</td>\n",
       "      <td>24.545260</td>\n",
       "      <td>0.295571</td>\n",
       "      <td>0.948627</td>\n",
       "      <td>0.737271</td>\n",
       "      <td>0.859962</td>\n",
       "      <td>...</td>\n",
       "      <td>0.880178</td>\n",
       "      <td>0.861674</td>\n",
       "      <td>0.885285</td>\n",
       "      <td>0.885385</td>\n",
       "      <td>0.832934</td>\n",
       "      <td>0.491363</td>\n",
       "      <td>1.067504</td>\n",
       "      <td>30.085974</td>\n",
       "      <td>2266.771362</td>\n",
       "      <td>0.441782</td>\n",
       "    </tr>\n",
       "    <tr>\n",
       "      <th>min</th>\n",
       "      <td>0.000000</td>\n",
       "      <td>0.000000</td>\n",
       "      <td>0.000000</td>\n",
       "      <td>0.000000</td>\n",
       "      <td>0.000000</td>\n",
       "      <td>1.000000</td>\n",
       "      <td>0.000000</td>\n",
       "      <td>0.000000</td>\n",
       "      <td>0.000000</td>\n",
       "      <td>0.000000</td>\n",
       "      <td>...</td>\n",
       "      <td>0.000000</td>\n",
       "      <td>0.000000</td>\n",
       "      <td>0.000000</td>\n",
       "      <td>0.000000</td>\n",
       "      <td>0.000000</td>\n",
       "      <td>0.000000</td>\n",
       "      <td>0.000000</td>\n",
       "      <td>18.250000</td>\n",
       "      <td>18.800000</td>\n",
       "      <td>0.000000</td>\n",
       "    </tr>\n",
       "    <tr>\n",
       "      <th>25%</th>\n",
       "      <td>1757.750000</td>\n",
       "      <td>0.000000</td>\n",
       "      <td>0.000000</td>\n",
       "      <td>0.000000</td>\n",
       "      <td>0.000000</td>\n",
       "      <td>9.000000</td>\n",
       "      <td>1.000000</td>\n",
       "      <td>0.000000</td>\n",
       "      <td>0.000000</td>\n",
       "      <td>0.000000</td>\n",
       "      <td>...</td>\n",
       "      <td>0.000000</td>\n",
       "      <td>0.000000</td>\n",
       "      <td>0.000000</td>\n",
       "      <td>0.000000</td>\n",
       "      <td>0.000000</td>\n",
       "      <td>0.000000</td>\n",
       "      <td>1.000000</td>\n",
       "      <td>35.587500</td>\n",
       "      <td>401.450000</td>\n",
       "      <td>0.000000</td>\n",
       "    </tr>\n",
       "    <tr>\n",
       "      <th>50%</th>\n",
       "      <td>3515.500000</td>\n",
       "      <td>1.000000</td>\n",
       "      <td>0.000000</td>\n",
       "      <td>0.000000</td>\n",
       "      <td>0.000000</td>\n",
       "      <td>29.000000</td>\n",
       "      <td>1.000000</td>\n",
       "      <td>1.000000</td>\n",
       "      <td>1.000000</td>\n",
       "      <td>1.000000</td>\n",
       "      <td>...</td>\n",
       "      <td>1.000000</td>\n",
       "      <td>1.000000</td>\n",
       "      <td>1.000000</td>\n",
       "      <td>1.000000</td>\n",
       "      <td>0.000000</td>\n",
       "      <td>1.000000</td>\n",
       "      <td>2.000000</td>\n",
       "      <td>70.350000</td>\n",
       "      <td>1397.475000</td>\n",
       "      <td>0.000000</td>\n",
       "    </tr>\n",
       "    <tr>\n",
       "      <th>75%</th>\n",
       "      <td>5273.250000</td>\n",
       "      <td>1.000000</td>\n",
       "      <td>0.000000</td>\n",
       "      <td>1.000000</td>\n",
       "      <td>1.000000</td>\n",
       "      <td>55.000000</td>\n",
       "      <td>1.000000</td>\n",
       "      <td>2.000000</td>\n",
       "      <td>1.000000</td>\n",
       "      <td>2.000000</td>\n",
       "      <td>...</td>\n",
       "      <td>2.000000</td>\n",
       "      <td>2.000000</td>\n",
       "      <td>2.000000</td>\n",
       "      <td>2.000000</td>\n",
       "      <td>1.000000</td>\n",
       "      <td>1.000000</td>\n",
       "      <td>2.000000</td>\n",
       "      <td>89.862500</td>\n",
       "      <td>3794.737500</td>\n",
       "      <td>1.000000</td>\n",
       "    </tr>\n",
       "    <tr>\n",
       "      <th>max</th>\n",
       "      <td>7031.000000</td>\n",
       "      <td>1.000000</td>\n",
       "      <td>1.000000</td>\n",
       "      <td>1.000000</td>\n",
       "      <td>1.000000</td>\n",
       "      <td>72.000000</td>\n",
       "      <td>1.000000</td>\n",
       "      <td>2.000000</td>\n",
       "      <td>2.000000</td>\n",
       "      <td>2.000000</td>\n",
       "      <td>...</td>\n",
       "      <td>2.000000</td>\n",
       "      <td>2.000000</td>\n",
       "      <td>2.000000</td>\n",
       "      <td>2.000000</td>\n",
       "      <td>2.000000</td>\n",
       "      <td>1.000000</td>\n",
       "      <td>3.000000</td>\n",
       "      <td>118.750000</td>\n",
       "      <td>8684.800000</td>\n",
       "      <td>1.000000</td>\n",
       "    </tr>\n",
       "  </tbody>\n",
       "</table>\n",
       "<p>8 rows × 21 columns</p>\n",
       "</div>"
      ],
      "text/plain": [
       "        customerID       gender  SeniorCitizen      Partner   Dependents  \\\n",
       "count  7032.000000  7032.000000    7032.000000  7032.000000  7032.000000   \n",
       "mean   3515.500000     0.504693       0.162400     0.482509     0.298493   \n",
       "std    2030.107879     0.500014       0.368844     0.499729     0.457629   \n",
       "min       0.000000     0.000000       0.000000     0.000000     0.000000   \n",
       "25%    1757.750000     0.000000       0.000000     0.000000     0.000000   \n",
       "50%    3515.500000     1.000000       0.000000     0.000000     0.000000   \n",
       "75%    5273.250000     1.000000       0.000000     1.000000     1.000000   \n",
       "max    7031.000000     1.000000       1.000000     1.000000     1.000000   \n",
       "\n",
       "            tenure  PhoneService  MultipleLines  InternetService  \\\n",
       "count  7032.000000   7032.000000    7032.000000      7032.000000   \n",
       "mean     32.421786      0.903299       0.940557         0.872582   \n",
       "std      24.545260      0.295571       0.948627         0.737271   \n",
       "min       1.000000      0.000000       0.000000         0.000000   \n",
       "25%       9.000000      1.000000       0.000000         0.000000   \n",
       "50%      29.000000      1.000000       1.000000         1.000000   \n",
       "75%      55.000000      1.000000       2.000000         1.000000   \n",
       "max      72.000000      1.000000       2.000000         2.000000   \n",
       "\n",
       "       OnlineSecurity  ...  DeviceProtection  TechSupport  StreamingTV  \\\n",
       "count     7032.000000  ...       7032.000000  7032.000000  7032.000000   \n",
       "mean         0.789249  ...          0.903868     0.796359     0.984926   \n",
       "std          0.859962  ...          0.880178     0.861674     0.885285   \n",
       "min          0.000000  ...          0.000000     0.000000     0.000000   \n",
       "25%          0.000000  ...          0.000000     0.000000     0.000000   \n",
       "50%          1.000000  ...          1.000000     1.000000     1.000000   \n",
       "75%          2.000000  ...          2.000000     2.000000     2.000000   \n",
       "max          2.000000  ...          2.000000     2.000000     2.000000   \n",
       "\n",
       "       StreamingMovies     Contract  PaperlessBilling  PaymentMethod  \\\n",
       "count      7032.000000  7032.000000       7032.000000    7032.000000   \n",
       "mean          0.992890     0.688567          0.592719       1.573237   \n",
       "std           0.885385     0.832934          0.491363       1.067504   \n",
       "min           0.000000     0.000000          0.000000       0.000000   \n",
       "25%           0.000000     0.000000          0.000000       1.000000   \n",
       "50%           1.000000     0.000000          1.000000       2.000000   \n",
       "75%           2.000000     1.000000          1.000000       2.000000   \n",
       "max           2.000000     2.000000          1.000000       3.000000   \n",
       "\n",
       "       MonthlyCharges  TotalCharges        Churn  \n",
       "count     7032.000000   7032.000000  7032.000000  \n",
       "mean        64.798208   2283.300441     0.265785  \n",
       "std         30.085974   2266.771362     0.441782  \n",
       "min         18.250000     18.800000     0.000000  \n",
       "25%         35.587500    401.450000     0.000000  \n",
       "50%         70.350000   1397.475000     0.000000  \n",
       "75%         89.862500   3794.737500     1.000000  \n",
       "max        118.750000   8684.800000     1.000000  \n",
       "\n",
       "[8 rows x 21 columns]"
      ]
     },
     "execution_count": 62,
     "metadata": {},
     "output_type": "execute_result"
    }
   ],
   "source": [
    "#only continuous columns\n",
    "df.describe()"
   ]
  },
  {
   "cell_type": "code",
   "execution_count": 63,
   "id": "089579a9",
   "metadata": {},
   "outputs": [
    {
     "data": {
      "text/html": [
       "<div>\n",
       "<style scoped>\n",
       "    .dataframe tbody tr th:only-of-type {\n",
       "        vertical-align: middle;\n",
       "    }\n",
       "\n",
       "    .dataframe tbody tr th {\n",
       "        vertical-align: top;\n",
       "    }\n",
       "\n",
       "    .dataframe thead th {\n",
       "        text-align: right;\n",
       "    }\n",
       "</style>\n",
       "<table border=\"1\" class=\"dataframe\">\n",
       "  <thead>\n",
       "    <tr style=\"text-align: right;\">\n",
       "      <th></th>\n",
       "      <th>count</th>\n",
       "      <th>mean</th>\n",
       "      <th>std</th>\n",
       "      <th>min</th>\n",
       "      <th>25%</th>\n",
       "      <th>50%</th>\n",
       "      <th>75%</th>\n",
       "      <th>max</th>\n",
       "    </tr>\n",
       "  </thead>\n",
       "  <tbody>\n",
       "    <tr>\n",
       "      <th>customerID</th>\n",
       "      <td>7032.0</td>\n",
       "      <td>3515.500000</td>\n",
       "      <td>2030.107879</td>\n",
       "      <td>0.00</td>\n",
       "      <td>1757.7500</td>\n",
       "      <td>3515.500</td>\n",
       "      <td>5273.2500</td>\n",
       "      <td>7031.00</td>\n",
       "    </tr>\n",
       "    <tr>\n",
       "      <th>gender</th>\n",
       "      <td>7032.0</td>\n",
       "      <td>0.504693</td>\n",
       "      <td>0.500014</td>\n",
       "      <td>0.00</td>\n",
       "      <td>0.0000</td>\n",
       "      <td>1.000</td>\n",
       "      <td>1.0000</td>\n",
       "      <td>1.00</td>\n",
       "    </tr>\n",
       "    <tr>\n",
       "      <th>SeniorCitizen</th>\n",
       "      <td>7032.0</td>\n",
       "      <td>0.162400</td>\n",
       "      <td>0.368844</td>\n",
       "      <td>0.00</td>\n",
       "      <td>0.0000</td>\n",
       "      <td>0.000</td>\n",
       "      <td>0.0000</td>\n",
       "      <td>1.00</td>\n",
       "    </tr>\n",
       "    <tr>\n",
       "      <th>Partner</th>\n",
       "      <td>7032.0</td>\n",
       "      <td>0.482509</td>\n",
       "      <td>0.499729</td>\n",
       "      <td>0.00</td>\n",
       "      <td>0.0000</td>\n",
       "      <td>0.000</td>\n",
       "      <td>1.0000</td>\n",
       "      <td>1.00</td>\n",
       "    </tr>\n",
       "    <tr>\n",
       "      <th>Dependents</th>\n",
       "      <td>7032.0</td>\n",
       "      <td>0.298493</td>\n",
       "      <td>0.457629</td>\n",
       "      <td>0.00</td>\n",
       "      <td>0.0000</td>\n",
       "      <td>0.000</td>\n",
       "      <td>1.0000</td>\n",
       "      <td>1.00</td>\n",
       "    </tr>\n",
       "    <tr>\n",
       "      <th>tenure</th>\n",
       "      <td>7032.0</td>\n",
       "      <td>32.421786</td>\n",
       "      <td>24.545260</td>\n",
       "      <td>1.00</td>\n",
       "      <td>9.0000</td>\n",
       "      <td>29.000</td>\n",
       "      <td>55.0000</td>\n",
       "      <td>72.00</td>\n",
       "    </tr>\n",
       "    <tr>\n",
       "      <th>PhoneService</th>\n",
       "      <td>7032.0</td>\n",
       "      <td>0.903299</td>\n",
       "      <td>0.295571</td>\n",
       "      <td>0.00</td>\n",
       "      <td>1.0000</td>\n",
       "      <td>1.000</td>\n",
       "      <td>1.0000</td>\n",
       "      <td>1.00</td>\n",
       "    </tr>\n",
       "    <tr>\n",
       "      <th>MultipleLines</th>\n",
       "      <td>7032.0</td>\n",
       "      <td>0.940557</td>\n",
       "      <td>0.948627</td>\n",
       "      <td>0.00</td>\n",
       "      <td>0.0000</td>\n",
       "      <td>1.000</td>\n",
       "      <td>2.0000</td>\n",
       "      <td>2.00</td>\n",
       "    </tr>\n",
       "    <tr>\n",
       "      <th>InternetService</th>\n",
       "      <td>7032.0</td>\n",
       "      <td>0.872582</td>\n",
       "      <td>0.737271</td>\n",
       "      <td>0.00</td>\n",
       "      <td>0.0000</td>\n",
       "      <td>1.000</td>\n",
       "      <td>1.0000</td>\n",
       "      <td>2.00</td>\n",
       "    </tr>\n",
       "    <tr>\n",
       "      <th>OnlineSecurity</th>\n",
       "      <td>7032.0</td>\n",
       "      <td>0.789249</td>\n",
       "      <td>0.859962</td>\n",
       "      <td>0.00</td>\n",
       "      <td>0.0000</td>\n",
       "      <td>1.000</td>\n",
       "      <td>2.0000</td>\n",
       "      <td>2.00</td>\n",
       "    </tr>\n",
       "    <tr>\n",
       "      <th>OnlineBackup</th>\n",
       "      <td>7032.0</td>\n",
       "      <td>0.905859</td>\n",
       "      <td>0.880394</td>\n",
       "      <td>0.00</td>\n",
       "      <td>0.0000</td>\n",
       "      <td>1.000</td>\n",
       "      <td>2.0000</td>\n",
       "      <td>2.00</td>\n",
       "    </tr>\n",
       "    <tr>\n",
       "      <th>DeviceProtection</th>\n",
       "      <td>7032.0</td>\n",
       "      <td>0.903868</td>\n",
       "      <td>0.880178</td>\n",
       "      <td>0.00</td>\n",
       "      <td>0.0000</td>\n",
       "      <td>1.000</td>\n",
       "      <td>2.0000</td>\n",
       "      <td>2.00</td>\n",
       "    </tr>\n",
       "    <tr>\n",
       "      <th>TechSupport</th>\n",
       "      <td>7032.0</td>\n",
       "      <td>0.796359</td>\n",
       "      <td>0.861674</td>\n",
       "      <td>0.00</td>\n",
       "      <td>0.0000</td>\n",
       "      <td>1.000</td>\n",
       "      <td>2.0000</td>\n",
       "      <td>2.00</td>\n",
       "    </tr>\n",
       "    <tr>\n",
       "      <th>StreamingTV</th>\n",
       "      <td>7032.0</td>\n",
       "      <td>0.984926</td>\n",
       "      <td>0.885285</td>\n",
       "      <td>0.00</td>\n",
       "      <td>0.0000</td>\n",
       "      <td>1.000</td>\n",
       "      <td>2.0000</td>\n",
       "      <td>2.00</td>\n",
       "    </tr>\n",
       "    <tr>\n",
       "      <th>StreamingMovies</th>\n",
       "      <td>7032.0</td>\n",
       "      <td>0.992890</td>\n",
       "      <td>0.885385</td>\n",
       "      <td>0.00</td>\n",
       "      <td>0.0000</td>\n",
       "      <td>1.000</td>\n",
       "      <td>2.0000</td>\n",
       "      <td>2.00</td>\n",
       "    </tr>\n",
       "    <tr>\n",
       "      <th>Contract</th>\n",
       "      <td>7032.0</td>\n",
       "      <td>0.688567</td>\n",
       "      <td>0.832934</td>\n",
       "      <td>0.00</td>\n",
       "      <td>0.0000</td>\n",
       "      <td>0.000</td>\n",
       "      <td>1.0000</td>\n",
       "      <td>2.00</td>\n",
       "    </tr>\n",
       "    <tr>\n",
       "      <th>PaperlessBilling</th>\n",
       "      <td>7032.0</td>\n",
       "      <td>0.592719</td>\n",
       "      <td>0.491363</td>\n",
       "      <td>0.00</td>\n",
       "      <td>0.0000</td>\n",
       "      <td>1.000</td>\n",
       "      <td>1.0000</td>\n",
       "      <td>1.00</td>\n",
       "    </tr>\n",
       "    <tr>\n",
       "      <th>PaymentMethod</th>\n",
       "      <td>7032.0</td>\n",
       "      <td>1.573237</td>\n",
       "      <td>1.067504</td>\n",
       "      <td>0.00</td>\n",
       "      <td>1.0000</td>\n",
       "      <td>2.000</td>\n",
       "      <td>2.0000</td>\n",
       "      <td>3.00</td>\n",
       "    </tr>\n",
       "    <tr>\n",
       "      <th>MonthlyCharges</th>\n",
       "      <td>7032.0</td>\n",
       "      <td>64.798208</td>\n",
       "      <td>30.085974</td>\n",
       "      <td>18.25</td>\n",
       "      <td>35.5875</td>\n",
       "      <td>70.350</td>\n",
       "      <td>89.8625</td>\n",
       "      <td>118.75</td>\n",
       "    </tr>\n",
       "    <tr>\n",
       "      <th>TotalCharges</th>\n",
       "      <td>7032.0</td>\n",
       "      <td>2283.300441</td>\n",
       "      <td>2266.771362</td>\n",
       "      <td>18.80</td>\n",
       "      <td>401.4500</td>\n",
       "      <td>1397.475</td>\n",
       "      <td>3794.7375</td>\n",
       "      <td>8684.80</td>\n",
       "    </tr>\n",
       "    <tr>\n",
       "      <th>Churn</th>\n",
       "      <td>7032.0</td>\n",
       "      <td>0.265785</td>\n",
       "      <td>0.441782</td>\n",
       "      <td>0.00</td>\n",
       "      <td>0.0000</td>\n",
       "      <td>0.000</td>\n",
       "      <td>1.0000</td>\n",
       "      <td>1.00</td>\n",
       "    </tr>\n",
       "  </tbody>\n",
       "</table>\n",
       "</div>"
      ],
      "text/plain": [
       "                   count         mean          std    min        25%  \\\n",
       "customerID        7032.0  3515.500000  2030.107879   0.00  1757.7500   \n",
       "gender            7032.0     0.504693     0.500014   0.00     0.0000   \n",
       "SeniorCitizen     7032.0     0.162400     0.368844   0.00     0.0000   \n",
       "Partner           7032.0     0.482509     0.499729   0.00     0.0000   \n",
       "Dependents        7032.0     0.298493     0.457629   0.00     0.0000   \n",
       "tenure            7032.0    32.421786    24.545260   1.00     9.0000   \n",
       "PhoneService      7032.0     0.903299     0.295571   0.00     1.0000   \n",
       "MultipleLines     7032.0     0.940557     0.948627   0.00     0.0000   \n",
       "InternetService   7032.0     0.872582     0.737271   0.00     0.0000   \n",
       "OnlineSecurity    7032.0     0.789249     0.859962   0.00     0.0000   \n",
       "OnlineBackup      7032.0     0.905859     0.880394   0.00     0.0000   \n",
       "DeviceProtection  7032.0     0.903868     0.880178   0.00     0.0000   \n",
       "TechSupport       7032.0     0.796359     0.861674   0.00     0.0000   \n",
       "StreamingTV       7032.0     0.984926     0.885285   0.00     0.0000   \n",
       "StreamingMovies   7032.0     0.992890     0.885385   0.00     0.0000   \n",
       "Contract          7032.0     0.688567     0.832934   0.00     0.0000   \n",
       "PaperlessBilling  7032.0     0.592719     0.491363   0.00     0.0000   \n",
       "PaymentMethod     7032.0     1.573237     1.067504   0.00     1.0000   \n",
       "MonthlyCharges    7032.0    64.798208    30.085974  18.25    35.5875   \n",
       "TotalCharges      7032.0  2283.300441  2266.771362  18.80   401.4500   \n",
       "Churn             7032.0     0.265785     0.441782   0.00     0.0000   \n",
       "\n",
       "                       50%        75%      max  \n",
       "customerID        3515.500  5273.2500  7031.00  \n",
       "gender               1.000     1.0000     1.00  \n",
       "SeniorCitizen        0.000     0.0000     1.00  \n",
       "Partner              0.000     1.0000     1.00  \n",
       "Dependents           0.000     1.0000     1.00  \n",
       "tenure              29.000    55.0000    72.00  \n",
       "PhoneService         1.000     1.0000     1.00  \n",
       "MultipleLines        1.000     2.0000     2.00  \n",
       "InternetService      1.000     1.0000     2.00  \n",
       "OnlineSecurity       1.000     2.0000     2.00  \n",
       "OnlineBackup         1.000     2.0000     2.00  \n",
       "DeviceProtection     1.000     2.0000     2.00  \n",
       "TechSupport          1.000     2.0000     2.00  \n",
       "StreamingTV          1.000     2.0000     2.00  \n",
       "StreamingMovies      1.000     2.0000     2.00  \n",
       "Contract             0.000     1.0000     2.00  \n",
       "PaperlessBilling     1.000     1.0000     1.00  \n",
       "PaymentMethod        2.000     2.0000     3.00  \n",
       "MonthlyCharges      70.350    89.8625   118.75  \n",
       "TotalCharges      1397.475  3794.7375  8684.80  \n",
       "Churn                0.000     1.0000     1.00  "
      ]
     },
     "execution_count": 63,
     "metadata": {},
     "output_type": "execute_result"
    }
   ],
   "source": [
    "df.describe().transpose()"
   ]
  },
  {
   "cell_type": "code",
   "execution_count": 64,
   "id": "6786cd55",
   "metadata": {},
   "outputs": [
    {
     "data": {
      "text/plain": [
       "<AxesSubplot:>"
      ]
     },
     "execution_count": 64,
     "metadata": {},
     "output_type": "execute_result"
    },
    {
     "data": {
      "image/png": "[encoded data removed]",
      "text/plain": [
       "<Figure size 1584x504 with 2 Axes>"
      ]
     },
     "metadata": {
      "needs_background": "light"
     },
     "output_type": "display_data"
    }
   ],
   "source": [
    "import matplotlib.pyplot as plt\n",
    "plt.figure(figsize=(22,7))\n",
    "sns.heatmap(df.describe(),annot=True,linewidth=0.1,linecolor='black',fmt='0.2f')"
   ]
  },
  {
   "cell_type": "code",
   "execution_count": 65,
   "id": "4c0c957f",
   "metadata": {},
   "outputs": [
    {
     "data": {
      "text/plain": [
       "<AxesSubplot:>"
      ]
     },
     "execution_count": 65,
     "metadata": {},
     "output_type": "execute_result"
    },
    {
     "data": {
      "image/png": "[encoded data removed]",
      "text/plain": [
       "<Figure size 1584x504 with 2 Axes>"
      ]
     },
     "metadata": {
      "needs_background": "light"
     },
     "output_type": "display_data"
    }
   ],
   "source": [
    "plt.figure(figsize=(22,7))\n",
    "sns.heatmap(df.describe()[:].transpose(),annot=True,linewidth=0.1,linecolor='white',fmt='0.2f')"
   ]
  },
  {
   "cell_type": "markdown",
   "id": "154352d4",
   "metadata": {},
   "source": [
    "correlation of the columns with target columns"
   ]
  },
  {
   "cell_type": "code",
   "execution_count": 66,
   "id": "7101155f",
   "metadata": {},
   "outputs": [
    {
     "data": {
      "text/plain": [
       "PaymentMethod      -0.330594\n",
       "Churn              -0.199484\n",
       "InternetService    -0.175691\n",
       "customerID         -0.000263\n",
       "gender              0.000048\n",
       "Dependents          0.064653\n",
       "SeniorCitizen       0.102411\n",
       "PhoneService        0.113008\n",
       "PaperlessBilling    0.157830\n",
       "OnlineSecurity      0.254473\n",
       "TechSupport         0.276890\n",
       "Partner             0.319072\n",
       "OnlineBackup        0.375556\n",
       "DeviceProtection    0.389066\n",
       "StreamingTV         0.392472\n",
       "StreamingMovies     0.398088\n",
       "Contract            0.450306\n",
       "MultipleLines       0.453202\n",
       "MonthlyCharges      0.651065\n",
       "tenure              0.825880\n",
       "TotalCharges        1.000000\n",
       "Name: TotalCharges, dtype: float64"
      ]
     },
     "execution_count": 66,
     "metadata": {},
     "output_type": "execute_result"
    }
   ],
   "source": [
    "df.corr()['TotalCharges'].sort_values()"
   ]
  },
  {
   "cell_type": "code",
   "execution_count": 67,
   "id": "33ce6782",
   "metadata": {},
   "outputs": [
    {
     "data": {
      "text/plain": [
       "<AxesSubplot:>"
      ]
     },
     "execution_count": 67,
     "metadata": {},
     "output_type": "execute_result"
    },
    {
     "data": {
      "image/png": "[encoded data removed]",
      "text/plain": [
       "<Figure size 1584x504 with 2 Axes>"
      ]
     },
     "metadata": {
      "needs_background": "light"
     },
     "output_type": "display_data"
    }
   ],
   "source": [
    "plt.figure(figsize=(22,7))\n",
    "sns.heatmap(df.corr(),annot=True,linewidth=0.1,linecolor='black',fmt='0.2f')"
   ]
  },
  {
   "cell_type": "markdown",
   "id": "c2109292",
   "metadata": {},
   "source": [
    "checking the columns which are positvely and negatively correlated with target columns."
   ]
  },
  {
   "cell_type": "code",
   "execution_count": 69,
   "id": "7b44f087",
   "metadata": {},
   "outputs": [
    {
     "data": {
      "image/png": "[encoded data removed]",
      "text/plain": [
       "<Figure size 1584x504 with 1 Axes>"
      ]
     },
     "metadata": {
      "needs_background": "light"
     },
     "output_type": "display_data"
    }
   ],
   "source": [
    "plt.figure(figsize=(22,7))\n",
    "df.corr()['TotalCharges'].sort_values(ascending=False).drop(['TotalCharges']).plot(kind='bar',color='c')\n",
    "plt.xlabel('feature',fontsize=14)\n",
    "plt.ylabel('column with target names',fontsize=14)\n",
    "plt.title('correlation',fontsize=18)\n",
    "plt.show()"
   ]
  },
  {
   "cell_type": "code",
   "execution_count": 71,
   "id": "b2804ee9",
   "metadata": {},
   "outputs": [
    {
     "data": {
      "text/plain": [
       "PhoneService       -2.729727\n",
       "PaperlessBilling   -0.377503\n",
       "MonthlyCharges     -0.222103\n",
       "PaymentMethod      -0.169388\n",
       "gender             -0.018776\n",
       "customerID          0.000000\n",
       "StreamingMovies     0.013851\n",
       "StreamingTV         0.029366\n",
       "Partner             0.070024\n",
       "MultipleLines       0.118623\n",
       "OnlineBackup        0.184089\n",
       "DeviceProtection    0.188013\n",
       "InternetService     0.205704\n",
       "tenure              0.237731\n",
       "TechSupport         0.403966\n",
       "OnlineSecurity      0.418619\n",
       "Contract            0.635149\n",
       "Dependents          0.880908\n",
       "TotalCharges        0.961642\n",
       "Churn               1.060622\n",
       "SeniorCitizen       1.831103\n",
       "dtype: float64"
      ]
     },
     "execution_count": 71,
     "metadata": {},
     "output_type": "execute_result"
    }
   ],
   "source": [
    "df.skew().sort_values()"
   ]
  },
  {
   "cell_type": "markdown",
   "id": "fca30bfc",
   "metadata": {},
   "source": [
    "keeping +/-0.5 as the range for skewness,here are the columns which does not lie in this range.\n",
    "\n",
    ".seniorcitizen - categorical\n",
    ".Dependents - categorical\n",
    ".phoneservice- categorical\n",
    ".contract - categorical\n",
    ".TotalCharges- target variable\n",
    ".Churn - categorical"
   ]
  },
  {
   "cell_type": "markdown",
   "id": "963e591c",
   "metadata": {},
   "source": [
    "since,no column has skewness,we will not treat that."
   ]
  },
  {
   "cell_type": "markdown",
   "id": "28f28c08",
   "metadata": {},
   "source": [
    "# Outliers check:"
   ]
  },
  {
   "cell_type": "code",
   "execution_count": 72,
   "id": "83c3ac5b",
   "metadata": {},
   "outputs": [
    {
     "data": {
      "text/plain": [
       "customerID          float64\n",
       "gender              float64\n",
       "SeniorCitizen         int64\n",
       "Partner             float64\n",
       "Dependents          float64\n",
       "tenure                int64\n",
       "PhoneService        float64\n",
       "MultipleLines       float64\n",
       "InternetService     float64\n",
       "OnlineSecurity      float64\n",
       "OnlineBackup        float64\n",
       "DeviceProtection    float64\n",
       "TechSupport         float64\n",
       "StreamingTV         float64\n",
       "StreamingMovies     float64\n",
       "Contract            float64\n",
       "PaperlessBilling    float64\n",
       "PaymentMethod       float64\n",
       "MonthlyCharges      float64\n",
       "TotalCharges        float64\n",
       "Churn               float64\n",
       "dtype: object"
      ]
     },
     "execution_count": 72,
     "metadata": {},
     "output_type": "execute_result"
    }
   ],
   "source": [
    "df.dtypes"
   ]
  },
  {
   "cell_type": "markdown",
   "id": "790fab06",
   "metadata": {},
   "source": [
    "checking the outliers on the int and float types of columns."
   ]
  },
  {
   "cell_type": "code",
   "execution_count": 73,
   "id": "e60e193f",
   "metadata": {},
   "outputs": [
    {
     "data": {
      "text/plain": [
       "<AxesSubplot:>"
      ]
     },
     "execution_count": 73,
     "metadata": {},
     "output_type": "execute_result"
    },
    {
     "data": {
      "image/png": "[encoded data removed]",
      "text/plain": [
       "<Figure size 432x288 with 1 Axes>"
      ]
     },
     "metadata": {
      "needs_background": "light"
     },
     "output_type": "display_data"
    }
   ],
   "source": [
    "df['SeniorCitizen'].plot.box()"
   ]
  },
  {
   "cell_type": "code",
   "execution_count": 74,
   "id": "48b94736",
   "metadata": {},
   "outputs": [
    {
     "data": {
      "text/plain": [
       "<AxesSubplot:>"
      ]
     },
     "execution_count": 74,
     "metadata": {},
     "output_type": "execute_result"
    },
    {
     "data": {
      "image/png": "[encoded data removed]",
      "text/plain": [
       "<Figure size 432x288 with 1 Axes>"
      ]
     },
     "metadata": {
      "needs_background": "light"
     },
     "output_type": "display_data"
    }
   ],
   "source": [
    "df['TotalCharges'].plot.box()"
   ]
  },
  {
   "cell_type": "code",
   "execution_count": 75,
   "id": "2573cfa1",
   "metadata": {},
   "outputs": [
    {
     "data": {
      "text/plain": [
       "<AxesSubplot:>"
      ]
     },
     "execution_count": 75,
     "metadata": {},
     "output_type": "execute_result"
    },
    {
     "data": {
      "image/png": "[encoded data removed]",
      "text/plain": [
       "<Figure size 432x288 with 1 Axes>"
      ]
     },
     "metadata": {
      "needs_background": "light"
     },
     "output_type": "display_data"
    }
   ],
   "source": [
    "df['MonthlyCharges'].plot.box()"
   ]
  },
  {
   "cell_type": "code",
   "execution_count": 76,
   "id": "7fa27afb",
   "metadata": {},
   "outputs": [
    {
     "data": {
      "text/plain": [
       "<AxesSubplot:>"
      ]
     },
     "execution_count": 76,
     "metadata": {},
     "output_type": "execute_result"
    },
    {
     "data": {
      "image/png": "[encoded data removed]",
      "text/plain": [
       "<Figure size 432x288 with 1 Axes>"
      ]
     },
     "metadata": {
      "needs_background": "light"
     },
     "output_type": "display_data"
    }
   ],
   "source": [
    "df['tenure'].plot.box()"
   ]
  },
  {
   "cell_type": "code",
   "execution_count": 77,
   "id": "31e49fe0",
   "metadata": {},
   "outputs": [
    {
     "data": {
      "text/plain": [
       "array([0, 1], dtype=int64)"
      ]
     },
     "execution_count": 77,
     "metadata": {},
     "output_type": "execute_result"
    }
   ],
   "source": [
    "df['SeniorCitizen'].unique()"
   ]
  },
  {
   "cell_type": "markdown",
   "id": "cf96dd08",
   "metadata": {},
   "source": [
    "since the column seniorcitizen has nominal type,we cannot consider its datapoint as outlier."
   ]
  },
  {
   "cell_type": "markdown",
   "id": "5dd9320e",
   "metadata": {},
   "source": [
    "considering the outlier removal."
   ]
  },
  {
   "cell_type": "code",
   "execution_count": 78,
   "id": "e304d885",
   "metadata": {},
   "outputs": [
    {
     "data": {
      "text/plain": [
       "(7032, 21)"
      ]
     },
     "execution_count": 78,
     "metadata": {},
     "output_type": "execute_result"
    }
   ],
   "source": [
    "df.shape"
   ]
  },
  {
   "cell_type": "code",
   "execution_count": 79,
   "id": "0a7bb9c5",
   "metadata": {},
   "outputs": [
    {
     "data": {
      "text/plain": [
       "(array([   0,    3,    7,   20,   27,   62,   81,   89,  103,  105,  107,\n",
       "         114,  116,  129,  131,  133,  168,  180,  185,  187,  206,  211,\n",
       "         215,  216,  217,  225,  236,  252,  255,  259,  260,  263,  272,\n",
       "         278,  303,  321,  324,  328,  348,  354,  358,  372,  376,  382,\n",
       "         387,  398,  424,  431,  435,  452,  465,  481,  494,  497,  543,\n",
       "         568,  595,  609,  615,  619,  633,  659,  666,  668,  673,  676,\n",
       "         687,  715,  717,  734,  763,  774,  782,  788,  792,  811,  827,\n",
       "         841,  845,  857,  864,  871,  873,  875,  882,  891,  915,  932,\n",
       "         938,  940,  957,  970, 1008, 1015, 1034, 1047, 1048, 1050, 1069,\n",
       "        1106, 1115, 1118, 1140, 1142, 1146, 1157, 1165, 1178, 1200, 1217,\n",
       "        1221, 1238, 1251, 1253, 1267, 1274, 1294, 1307, 1322, 1327, 1329,\n",
       "        1330, 1344, 1347, 1360, 1374, 1397, 1402, 1411, 1447, 1474, 1475,\n",
       "        1476, 1495, 1501, 1508, 1514, 1555, 1557, 1576, 1579, 1609, 1615,\n",
       "        1629, 1632, 1647, 1684, 1687, 1689, 1698, 1717, 1729, 1784, 1797,\n",
       "        1798, 1814, 1822, 1827, 1840, 1846, 1849, 1857, 1876, 1884, 1887,\n",
       "        1889, 1901, 1905, 1939, 1954, 1964, 1980, 1984, 1993, 1997, 2026,\n",
       "        2041, 2045, 2082, 2084, 2085, 2112, 2119, 2122, 2126, 2183, 2210,\n",
       "        2220, 2221, 2232, 2234, 2285, 2290, 2305, 2335, 2339, 2343, 2357,\n",
       "        2377, 2378, 2380, 2393, 2394, 2404, 2407, 2408, 2412, 2415, 2416,\n",
       "        2421, 2422, 2426, 2428, 2460, 2463, 2487, 2528, 2533, 2536, 2542,\n",
       "        2557, 2603, 2605, 2621, 2632, 2639, 2656, 2657, 2676, 2691, 2695,\n",
       "        2704, 2707, 2713, 2720, 2723, 2743, 2746, 2747, 2749, 2756, 2768,\n",
       "        2776, 2799, 2804, 2809, 2836, 2837, 2884, 2893, 2894, 2898, 2908,\n",
       "        2910, 2911, 2913, 2914, 2924, 2935, 2939, 2957, 2961, 2967, 2985,\n",
       "        2987, 2989, 2990, 3015, 3023, 3031, 3034, 3037, 3038, 3055, 3057,\n",
       "        3065, 3068, 3075, 3087, 3091, 3121, 3122, 3128, 3134, 3145, 3155,\n",
       "        3169, 3172, 3178, 3180, 3185, 3186, 3189, 3208, 3216, 3218, 3228,\n",
       "        3230, 3238, 3253, 3285, 3287, 3306, 3311, 3313, 3336, 3348, 3357,\n",
       "        3364, 3408, 3416, 3438, 3448, 3486, 3496, 3499, 3535, 3536, 3551,\n",
       "        3569, 3577, 3580, 3588, 3607, 3608, 3611, 3614, 3615, 3646, 3647,\n",
       "        3654, 3671, 3674, 3679, 3684, 3716, 3727, 3732, 3747, 3750, 3767,\n",
       "        3813, 3853, 3863, 3866, 3870, 3895, 3898, 3919, 3927, 3933, 3938,\n",
       "        3939, 3948, 3954, 3966, 3969, 3976, 3982, 4001, 4013, 4017, 4020,\n",
       "        4022, 4033, 4034, 4036, 4041, 4045, 4047, 4048, 4049, 4064, 4068,\n",
       "        4078, 4092, 4102, 4121, 4123, 4125, 4134, 4142, 4144, 4155, 4161,\n",
       "        4167, 4171, 4173, 4176, 4193, 4200, 4201, 4226, 4232, 4244, 4274,\n",
       "        4283, 4302, 4303, 4304, 4331, 4362, 4388, 4392, 4394, 4401, 4403,\n",
       "        4416, 4424, 4457, 4466, 4473, 4513, 4529, 4549, 4557, 4595, 4604,\n",
       "        4633, 4645, 4649, 4657, 4662, 4694, 4702, 4718, 4720, 4721, 4732,\n",
       "        4742, 4757, 4765, 4813, 4820, 4823, 4832, 4837, 4841, 4846, 4849,\n",
       "        4852, 4874, 4875, 4889, 4890, 4907, 4911, 4916, 4925, 4941, 4957,\n",
       "        4960, 4962, 4966, 4968, 4973, 4975, 4981, 4984, 4985, 4994, 5005,\n",
       "        5006, 5009, 5026, 5052, 5054, 5056, 5058, 5065, 5077, 5083, 5109,\n",
       "        5122, 5136, 5139, 5155, 5168, 5172, 5178, 5196, 5199, 5202, 5204,\n",
       "        5208, 5240, 5254, 5255, 5275, 5281, 5283, 5287, 5294, 5305, 5320,\n",
       "        5322, 5329, 5334, 5339, 5347, 5350, 5373, 5378, 5382, 5383, 5402,\n",
       "        5447, 5480, 5488, 5492, 5496, 5522, 5527, 5537, 5550, 5556, 5592,\n",
       "        5598, 5622, 5627, 5639, 5656, 5657, 5665, 5673, 5674, 5681, 5708,\n",
       "        5731, 5752, 5779, 5781, 5787, 5790, 5820, 5824, 5828, 5832, 5871,\n",
       "        5875, 5880, 5882, 5891, 5902, 5930, 5932, 5933, 5940, 5941, 5945,\n",
       "        5952, 5958, 5967, 5974, 5992, 5997, 5998, 6011, 6021, 6022, 6030,\n",
       "        6034, 6050, 6055, 6058, 6065, 6071, 6078, 6084, 6099, 6120, 6123,\n",
       "        6124, 6136, 6140, 6153, 6165, 6174, 6195, 6200, 6203, 6209, 6210,\n",
       "        6211, 6226, 6239, 6243, 6244, 6247, 6251, 6254, 6260, 6276, 6287,\n",
       "        6301, 6310, 6317, 6322, 6358, 6368, 6374, 6383, 6397, 6406, 6407,\n",
       "        6415, 6416, 6426, 6446, 6448, 6450, 6484, 6485, 6491, 6494, 6500,\n",
       "        6505, 6506, 6513, 6514, 6521, 6527, 6538, 6544, 6561, 6564, 6584,\n",
       "        6591, 6598, 6615, 6631, 6644, 6652, 6653, 6656, 6667, 6669, 6673,\n",
       "        6674, 6681, 6683, 6693, 6717, 6737, 6740, 6742, 6746, 6766, 6768,\n",
       "        6772, 6780, 6799, 6800, 6802, 6823, 6853, 6870, 6873, 6880, 6884,\n",
       "        6893, 6894, 6926, 6929, 6930, 6932, 6935, 6938, 6953, 6955, 6968,\n",
       "        6969, 6973, 6974, 6988, 6992, 6996, 7018, 7025, 7029], dtype=int64),\n",
       " array([6, 6, 6, 6, 6, 6, 6, 6, 6, 6, 6, 6, 6, 6, 6, 6, 6, 6, 6, 6, 6, 6,\n",
       "        6, 6, 6, 6, 6, 6, 6, 6, 6, 6, 6, 6, 6, 6, 6, 6, 6, 6, 6, 6, 6, 6,\n",
       "        6, 6, 6, 6, 6, 6, 6, 6, 6, 6, 6, 6, 6, 6, 6, 6, 6, 6, 6, 6, 6, 6,\n",
       "        6, 6, 6, 6, 6, 6, 6, 6, 6, 6, 6, 6, 6, 6, 6, 6, 6, 6, 6, 6, 6, 6,\n",
       "        6, 6, 6, 6, 6, 6, 6, 6, 6, 6, 6, 6, 6, 6, 6, 6, 6, 6, 6, 6, 6, 6,\n",
       "        6, 6, 6, 6, 6, 6, 6, 6, 6, 6, 6, 6, 6, 6, 6, 6, 6, 6, 6, 6, 6, 6,\n",
       "        6, 6, 6, 6, 6, 6, 6, 6, 6, 6, 6, 6, 6, 6, 6, 6, 6, 6, 6, 6, 6, 6,\n",
       "        6, 6, 6, 6, 6, 6, 6, 6, 6, 6, 6, 6, 6, 6, 6, 6, 6, 6, 6, 6, 6, 6,\n",
       "        6, 6, 6, 6, 6, 6, 6, 6, 6, 6, 6, 6, 6, 6, 6, 6, 6, 6, 6, 6, 6, 6,\n",
       "        6, 6, 6, 6, 6, 6, 6, 6, 6, 6, 6, 6, 6, 6, 6, 6, 6, 6, 6, 6, 6, 6,\n",
       "        6, 6, 6, 6, 6, 6, 6, 6, 6, 6, 6, 6, 6, 6, 6, 6, 6, 6, 6, 6, 6, 6,\n",
       "        6, 6, 6, 6, 6, 6, 6, 6, 6, 6, 6, 6, 6, 6, 6, 6, 6, 6, 6, 6, 6, 6,\n",
       "        6, 6, 6, 6, 6, 6, 6, 6, 6, 6, 6, 6, 6, 6, 6, 6, 6, 6, 6, 6, 6, 6,\n",
       "        6, 6, 6, 6, 6, 6, 6, 6, 6, 6, 6, 6, 6, 6, 6, 6, 6, 6, 6, 6, 6, 6,\n",
       "        6, 6, 6, 6, 6, 6, 6, 6, 6, 6, 6, 6, 6, 6, 6, 6, 6, 6, 6, 6, 6, 6,\n",
       "        6, 6, 6, 6, 6, 6, 6, 6, 6, 6, 6, 6, 6, 6, 6, 6, 6, 6, 6, 6, 6, 6,\n",
       "        6, 6, 6, 6, 6, 6, 6, 6, 6, 6, 6, 6, 6, 6, 6, 6, 6, 6, 6, 6, 6, 6,\n",
       "        6, 6, 6, 6, 6, 6, 6, 6, 6, 6, 6, 6, 6, 6, 6, 6, 6, 6, 6, 6, 6, 6,\n",
       "        6, 6, 6, 6, 6, 6, 6, 6, 6, 6, 6, 6, 6, 6, 6, 6, 6, 6, 6, 6, 6, 6,\n",
       "        6, 6, 6, 6, 6, 6, 6, 6, 6, 6, 6, 6, 6, 6, 6, 6, 6, 6, 6, 6, 6, 6,\n",
       "        6, 6, 6, 6, 6, 6, 6, 6, 6, 6, 6, 6, 6, 6, 6, 6, 6, 6, 6, 6, 6, 6,\n",
       "        6, 6, 6, 6, 6, 6, 6, 6, 6, 6, 6, 6, 6, 6, 6, 6, 6, 6, 6, 6, 6, 6,\n",
       "        6, 6, 6, 6, 6, 6, 6, 6, 6, 6, 6, 6, 6, 6, 6, 6, 6, 6, 6, 6, 6, 6,\n",
       "        6, 6, 6, 6, 6, 6, 6, 6, 6, 6, 6, 6, 6, 6, 6, 6, 6, 6, 6, 6, 6, 6,\n",
       "        6, 6, 6, 6, 6, 6, 6, 6, 6, 6, 6, 6, 6, 6, 6, 6, 6, 6, 6, 6, 6, 6,\n",
       "        6, 6, 6, 6, 6, 6, 6, 6, 6, 6, 6, 6, 6, 6, 6, 6, 6, 6, 6, 6, 6, 6,\n",
       "        6, 6, 6, 6, 6, 6, 6, 6, 6, 6, 6, 6, 6, 6, 6, 6, 6, 6, 6, 6, 6, 6,\n",
       "        6, 6, 6, 6, 6, 6, 6, 6, 6, 6, 6, 6, 6, 6, 6, 6, 6, 6, 6, 6, 6, 6,\n",
       "        6, 6, 6, 6, 6, 6, 6, 6, 6, 6, 6, 6, 6, 6, 6, 6, 6, 6, 6, 6, 6, 6,\n",
       "        6, 6, 6, 6, 6, 6, 6, 6, 6, 6, 6, 6, 6, 6, 6, 6, 6, 6, 6, 6, 6, 6,\n",
       "        6, 6, 6, 6, 6, 6, 6, 6, 6, 6, 6, 6, 6, 6, 6, 6, 6, 6, 6, 6],\n",
       "       dtype=int64))"
      ]
     },
     "execution_count": 79,
     "metadata": {},
     "output_type": "execute_result"
    }
   ],
   "source": [
    "from scipy.stats import zscore\n",
    "import numpy as np\n",
    "z=np.abs(zscore(df))\n",
    "threshold=3\n",
    "np.where(z>3)"
   ]
  },
  {
   "cell_type": "code",
   "execution_count": 81,
   "id": "ae3b8f52",
   "metadata": {},
   "outputs": [
    {
     "data": {
      "text/plain": [
       "array([0., 1.])"
      ]
     },
     "execution_count": 81,
     "metadata": {},
     "output_type": "execute_result"
    }
   ],
   "source": [
    "df['PhoneService'].unique()"
   ]
  },
  {
   "cell_type": "markdown",
   "id": "074fa709",
   "metadata": {},
   "source": [
    "separating the columns into features and target"
   ]
  },
  {
   "cell_type": "code",
   "execution_count": 82,
   "id": "159171de",
   "metadata": {},
   "outputs": [],
   "source": [
    "features=df.drop('TotalCharges',axis=1)\n",
    "target=df['TotalCharges']"
   ]
  },
  {
   "cell_type": "markdown",
   "id": "b682253b",
   "metadata": {},
   "source": [
    "scaling the data using min-max scaler"
   ]
  },
  {
   "cell_type": "code",
   "execution_count": 84,
   "id": "a88d4420",
   "metadata": {},
   "outputs": [],
   "source": [
    "from sklearn.preprocessing import MinMaxScaler\n",
    "mms=MinMaxScaler()\n",
    "from sklearn.linear_model import LinearRegression\n",
    "lr=LinearRegression()\n",
    "from sklearn.metrics import r2_score\n",
    "from sklearn.model_selection import train_test_split"
   ]
  },
  {
   "cell_type": "code",
   "execution_count": 85,
   "id": "a98c738c",
   "metadata": {},
   "outputs": [],
   "source": [
    "import warnings\n",
    "warnings.filterwarnings('ignore')"
   ]
  },
  {
   "cell_type": "code",
   "execution_count": 87,
   "id": "02575768",
   "metadata": {},
   "outputs": [
    {
     "name": "stdout",
     "output_type": "stream",
     "text": [
      "At random state 0, the training accuracy is:- 0.9078230851610491\n",
      "At random state 0, the testing accuracy is:- 0.9019350681812429\n",
      "\n",
      "\n",
      "At random state 1, the training accuracy is:- 0.9079565858548316\n",
      "At random state 1, the testing accuracy is:- 0.9008829074307736\n",
      "\n",
      "\n",
      "At random state 2, the training accuracy is:- 0.9063273036929633\n",
      "At random state 2, the testing accuracy is:- 0.9079110655042171\n",
      "\n",
      "\n",
      "At random state 3, the training accuracy is:- 0.9072540285854458\n",
      "At random state 3, the testing accuracy is:- 0.9038939143430855\n",
      "\n",
      "\n",
      "At random state 4, the training accuracy is:- 0.9085350497474927\n",
      "At random state 4, the testing accuracy is:- 0.8983071339834157\n",
      "\n",
      "\n",
      "At random state 5, the training accuracy is:- 0.9078141009722713\n",
      "At random state 5, the testing accuracy is:- 0.9012496112418962\n",
      "\n",
      "\n",
      "At random state 6, the training accuracy is:- 0.9065655306190831\n",
      "At random state 6, the testing accuracy is:- 0.9067989147246636\n",
      "\n",
      "\n",
      "At random state 7, the training accuracy is:- 0.9060680146120199\n",
      "At random state 7, the testing accuracy is:- 0.9088086051710736\n",
      "\n",
      "\n",
      "At random state 8, the training accuracy is:- 0.9069092254428388\n",
      "At random state 8, the testing accuracy is:- 0.9054803118177258\n",
      "\n",
      "\n",
      "At random state 9, the training accuracy is:- 0.9071563785274704\n",
      "At random state 9, the testing accuracy is:- 0.9043541950734495\n",
      "\n",
      "\n",
      "At random state 10, the training accuracy is:- 0.9066571994801993\n",
      "At random state 10, the testing accuracy is:- 0.9061918353308167\n",
      "\n",
      "\n",
      "At random state 11, the training accuracy is:- 0.9063964455873964\n",
      "At random state 11, the testing accuracy is:- 0.9075565369865092\n",
      "\n",
      "\n",
      "At random state 12, the training accuracy is:- 0.9070958454930367\n",
      "At random state 12, the testing accuracy is:- 0.9046238705777879\n",
      "\n",
      "\n",
      "At random state 13, the training accuracy is:- 0.9068624040259815\n",
      "At random state 13, the testing accuracy is:- 0.9055785656912889\n",
      "\n",
      "\n",
      "At random state 14, the training accuracy is:- 0.9060340339463934\n",
      "At random state 14, the testing accuracy is:- 0.9087690236101356\n",
      "\n",
      "\n",
      "At random state 15, the training accuracy is:- 0.9061663472440422\n",
      "At random state 15, the testing accuracy is:- 0.9081095071747132\n",
      "\n",
      "\n",
      "At random state 16, the training accuracy is:- 0.907033473286678\n",
      "At random state 16, the testing accuracy is:- 0.9048932735529217\n",
      "\n",
      "\n",
      "At random state 17, the training accuracy is:- 0.9066379636270242\n",
      "At random state 17, the testing accuracy is:- 0.9063290000165106\n",
      "\n",
      "\n",
      "At random state 18, the training accuracy is:- 0.9052621025757711\n",
      "At random state 18, the testing accuracy is:- 0.9116538586633587\n",
      "\n",
      "\n",
      "At random state 19, the training accuracy is:- 0.9066877578144527\n",
      "At random state 19, the testing accuracy is:- 0.9062897746304086\n",
      "\n",
      "\n",
      "At random state 20, the training accuracy is:- 0.9062186667795604\n",
      "At random state 20, the testing accuracy is:- 0.9081813425842596\n",
      "\n",
      "\n",
      "At random state 21, the training accuracy is:- 0.9058290418209418\n",
      "At random state 21, the testing accuracy is:- 0.9096687633216757\n",
      "\n",
      "\n",
      "At random state 22, the training accuracy is:- 0.9069616879252969\n",
      "At random state 22, the testing accuracy is:- 0.9051837415561046\n",
      "\n",
      "\n",
      "At random state 23, the training accuracy is:- 0.9074508085950646\n",
      "At random state 23, the testing accuracy is:- 0.9031042242819985\n",
      "\n",
      "\n",
      "At random state 24, the training accuracy is:- 0.9091627953422844\n",
      "At random state 24, the testing accuracy is:- 0.8946295990762804\n",
      "\n",
      "\n",
      "At random state 25, the training accuracy is:- 0.9076483667362266\n",
      "At random state 25, the testing accuracy is:- 0.9024424759806537\n",
      "\n",
      "\n",
      "At random state 26, the training accuracy is:- 0.9062586749131856\n",
      "At random state 26, the testing accuracy is:- 0.9079785017219822\n",
      "\n",
      "\n",
      "At random state 27, the training accuracy is:- 0.906555359061402\n",
      "At random state 27, the testing accuracy is:- 0.9069554999793672\n",
      "\n",
      "\n",
      "At random state 28, the training accuracy is:- 0.9070995632808977\n",
      "At random state 28, the testing accuracy is:- 0.9041641065380124\n",
      "\n",
      "\n",
      "At random state 29, the training accuracy is:- 0.9068177877168171\n",
      "At random state 29, the testing accuracy is:- 0.9058668661090747\n",
      "\n",
      "\n",
      "At random state 30, the training accuracy is:- 0.9064952015529736\n",
      "At random state 30, the testing accuracy is:- 0.906883503686665\n",
      "\n",
      "\n",
      "At random state 31, the training accuracy is:- 0.907387470298956\n",
      "At random state 31, the testing accuracy is:- 0.9035213667143647\n",
      "\n",
      "\n",
      "At random state 32, the training accuracy is:- 0.9078151568229175\n",
      "At random state 32, the testing accuracy is:- 0.9014340803135915\n",
      "\n",
      "\n",
      "At random state 33, the training accuracy is:- 0.9075161281365972\n",
      "At random state 33, the testing accuracy is:- 0.9029845791715471\n",
      "\n",
      "\n",
      "At random state 34, the training accuracy is:- 0.9061163469327236\n",
      "At random state 34, the testing accuracy is:- 0.9085497916273446\n",
      "\n",
      "\n",
      "At random state 35, the training accuracy is:- 0.9062395440951018\n",
      "At random state 35, the testing accuracy is:- 0.9079932829542506\n",
      "\n",
      "\n",
      "At random state 36, the training accuracy is:- 0.9069563794464153\n",
      "At random state 36, the testing accuracy is:- 0.905152056865172\n",
      "\n",
      "\n",
      "At random state 37, the training accuracy is:- 0.9061481261215442\n",
      "At random state 37, the testing accuracy is:- 0.9085256142169067\n",
      "\n",
      "\n",
      "At random state 38, the training accuracy is:- 0.9076879483501402\n",
      "At random state 38, the testing accuracy is:- 0.9015181866967176\n",
      "\n",
      "\n",
      "At random state 39, the training accuracy is:- 0.907051045504311\n",
      "At random state 39, the testing accuracy is:- 0.9047423370132481\n",
      "\n",
      "\n",
      "At random state 40, the training accuracy is:- 0.9078762470876572\n",
      "At random state 40, the testing accuracy is:- 0.9010096030548386\n",
      "\n",
      "\n",
      "At random state 41, the training accuracy is:- 0.9062063359631639\n",
      "At random state 41, the testing accuracy is:- 0.908246770441855\n",
      "\n",
      "\n",
      "At random state 42, the training accuracy is:- 0.9054689511592098\n",
      "At random state 42, the testing accuracy is:- 0.911210104202907\n",
      "\n",
      "\n",
      "At random state 43, the training accuracy is:- 0.9057068706253707\n",
      "At random state 43, the testing accuracy is:- 0.9101495068144507\n",
      "\n",
      "\n",
      "At random state 44, the training accuracy is:- 0.9057859238004777\n",
      "At random state 44, the testing accuracy is:- 0.9099005065752523\n",
      "\n",
      "\n",
      "At random state 45, the training accuracy is:- 0.9063518263051115\n",
      "At random state 45, the testing accuracy is:- 0.9076760819266743\n",
      "\n",
      "\n",
      "At random state 46, the training accuracy is:- 0.904920179701749\n",
      "At random state 46, the testing accuracy is:- 0.912684346072841\n",
      "\n",
      "\n",
      "At random state 47, the training accuracy is:- 0.9065539835223126\n",
      "At random state 47, the testing accuracy is:- 0.9069711981188981\n",
      "\n",
      "\n",
      "At random state 48, the training accuracy is:- 0.9069948643949733\n",
      "At random state 48, the testing accuracy is:- 0.9051239790217736\n",
      "\n",
      "\n",
      "At random state 49, the training accuracy is:- 0.9061999567589828\n",
      "At random state 49, the testing accuracy is:- 0.9080994682913258\n",
      "\n",
      "\n",
      "At random state 50, the training accuracy is:- 0.9052076549961909\n",
      "At random state 50, the testing accuracy is:- 0.9119916210156042\n",
      "\n",
      "\n",
      "At random state 51, the training accuracy is:- 0.9068780935474909\n",
      "At random state 51, the testing accuracy is:- 0.9056655842536837\n",
      "\n",
      "\n",
      "At random state 52, the training accuracy is:- 0.906283523440782\n",
      "At random state 52, the testing accuracy is:- 0.9081500761731065\n",
      "\n",
      "\n",
      "At random state 53, the training accuracy is:- 0.9061881973589554\n",
      "At random state 53, the testing accuracy is:- 0.9081252674957758\n",
      "\n",
      "\n",
      "At random state 54, the training accuracy is:- 0.9071032272699259\n",
      "At random state 54, the testing accuracy is:- 0.9048113819750713\n",
      "\n",
      "\n",
      "At random state 55, the training accuracy is:- 0.9070045561772699\n",
      "At random state 55, the testing accuracy is:- 0.9049405610102867\n",
      "\n",
      "\n",
      "At random state 56, the training accuracy is:- 0.9080800168834247\n",
      "At random state 56, the testing accuracy is:- 0.9000610844068583\n",
      "\n",
      "\n",
      "At random state 57, the training accuracy is:- 0.9066366982454255\n",
      "At random state 57, the testing accuracy is:- 0.9066768083991243\n",
      "\n",
      "\n",
      "At random state 58, the training accuracy is:- 0.907593294459023\n",
      "At random state 58, the testing accuracy is:- 0.9029099199998581\n",
      "\n",
      "\n",
      "At random state 59, the training accuracy is:- 0.9064650961456885\n",
      "At random state 59, the testing accuracy is:- 0.9073015912513561\n",
      "\n",
      "\n",
      "At random state 60, the training accuracy is:- 0.9068925540829774\n",
      "At random state 60, the testing accuracy is:- 0.9054562467209047\n",
      "\n",
      "\n",
      "At random state 61, the training accuracy is:- 0.90613607379683\n",
      "At random state 61, the testing accuracy is:- 0.9084694368266779\n",
      "\n",
      "\n",
      "At random state 62, the training accuracy is:- 0.9066185575009174\n",
      "At random state 62, the testing accuracy is:- 0.9066286233993178\n",
      "\n",
      "\n",
      "At random state 63, the training accuracy is:- 0.9068669368768449\n",
      "At random state 63, the testing accuracy is:- 0.9056763445467158\n",
      "\n",
      "\n",
      "At random state 64, the training accuracy is:- 0.9072537606894564\n",
      "At random state 64, the testing accuracy is:- 0.9039479483743004\n",
      "\n",
      "\n",
      "At random state 65, the training accuracy is:- 0.9062367913804157\n"
     ]
    },
    {
     "name": "stdout",
     "output_type": "stream",
     "text": [
      "At random state 65, the testing accuracy is:- 0.9081439215352546\n",
      "\n",
      "\n",
      "At random state 66, the training accuracy is:- 0.9065282143647411\n",
      "At random state 66, the testing accuracy is:- 0.9069169725549321\n",
      "\n",
      "\n",
      "At random state 67, the training accuracy is:- 0.9069554203887461\n",
      "At random state 67, the testing accuracy is:- 0.9052452249650176\n",
      "\n",
      "\n",
      "At random state 68, the training accuracy is:- 0.9069432637340366\n",
      "At random state 68, the testing accuracy is:- 0.9054534853998477\n",
      "\n",
      "\n",
      "At random state 69, the training accuracy is:- 0.907254094998999\n",
      "At random state 69, the testing accuracy is:- 0.9040100706365358\n",
      "\n",
      "\n",
      "At random state 70, the training accuracy is:- 0.906046081675353\n",
      "At random state 70, the testing accuracy is:- 0.9088551539046299\n",
      "\n",
      "\n",
      "At random state 71, the training accuracy is:- 0.9064367331116585\n",
      "At random state 71, the testing accuracy is:- 0.9074852203680155\n",
      "\n",
      "\n",
      "At random state 72, the training accuracy is:- 0.9081816093421038\n",
      "At random state 72, the testing accuracy is:- 0.9001530175165442\n",
      "\n",
      "\n",
      "At random state 73, the training accuracy is:- 0.9056255340578607\n",
      "At random state 73, the testing accuracy is:- 0.9105675410933817\n",
      "\n",
      "\n",
      "At random state 74, the training accuracy is:- 0.9078484682138381\n",
      "At random state 74, the testing accuracy is:- 0.9015413742690725\n",
      "\n",
      "\n",
      "At random state 75, the training accuracy is:- 0.9056616797300472\n",
      "At random state 75, the testing accuracy is:- 0.9105093922588008\n",
      "\n",
      "\n",
      "At random state 76, the training accuracy is:- 0.9069274977651812\n",
      "At random state 76, the testing accuracy is:- 0.9053256779739036\n",
      "\n",
      "\n",
      "At random state 77, the training accuracy is:- 0.9082073455590706\n",
      "At random state 77, the testing accuracy is:- 0.9000612902495518\n",
      "\n",
      "\n",
      "At random state 78, the training accuracy is:- 0.9067063064595662\n",
      "At random state 78, the testing accuracy is:- 0.9062551570481346\n",
      "\n",
      "\n",
      "At random state 79, the training accuracy is:- 0.9068665996625509\n",
      "At random state 79, the testing accuracy is:- 0.9054744270621286\n",
      "\n",
      "\n",
      "At random state 80, the training accuracy is:- 0.9071053490865889\n",
      "At random state 80, the testing accuracy is:- 0.904718102430997\n",
      "\n",
      "\n",
      "At random state 81, the training accuracy is:- 0.9074429387192614\n",
      "At random state 81, the testing accuracy is:- 0.9033271923069551\n",
      "\n",
      "\n",
      "At random state 82, the training accuracy is:- 0.9065371318308763\n",
      "At random state 82, the testing accuracy is:- 0.9069550366161389\n",
      "\n",
      "\n",
      "At random state 83, the training accuracy is:- 0.9072271528828688\n",
      "At random state 83, the testing accuracy is:- 0.9040641444318118\n",
      "\n",
      "\n",
      "At random state 84, the training accuracy is:- 0.9081401920028399\n",
      "At random state 84, the testing accuracy is:- 0.8995030365843005\n",
      "\n",
      "\n",
      "At random state 85, the training accuracy is:- 0.90630285435844\n",
      "At random state 85, the testing accuracy is:- 0.9080956248917066\n",
      "\n",
      "\n",
      "At random state 86, the training accuracy is:- 0.9065944879597367\n",
      "At random state 86, the testing accuracy is:- 0.9067495364902232\n",
      "\n",
      "\n",
      "At random state 87, the training accuracy is:- 0.9076897924661267\n",
      "At random state 87, the testing accuracy is:- 0.9021395197206199\n",
      "\n",
      "\n",
      "At random state 88, the training accuracy is:- 0.9059240907382193\n",
      "At random state 88, the testing accuracy is:- 0.9093677003021667\n",
      "\n",
      "\n",
      "At random state 89, the training accuracy is:- 0.9073726066741076\n",
      "At random state 89, the testing accuracy is:- 0.9034771828150172\n",
      "\n",
      "\n",
      "At random state 90, the training accuracy is:- 0.9058310500789339\n",
      "At random state 90, the testing accuracy is:- 0.9096147732431439\n",
      "\n",
      "\n",
      "At random state 91, the training accuracy is:- 0.9073087322001415\n",
      "At random state 91, the testing accuracy is:- 0.9037305743552184\n",
      "\n",
      "\n",
      "At random state 92, the training accuracy is:- 0.9065578293167407\n",
      "At random state 92, the testing accuracy is:- 0.906812807408657\n",
      "\n",
      "\n",
      "At random state 93, the training accuracy is:- 0.9059095042028324\n",
      "At random state 93, the testing accuracy is:- 0.9092073540313987\n",
      "\n",
      "\n",
      "At random state 94, the training accuracy is:- 0.9085862949356202\n",
      "At random state 94, the testing accuracy is:- 0.8977524270750356\n",
      "\n",
      "\n",
      "At random state 95, the training accuracy is:- 0.9046828909014608\n",
      "At random state 95, the testing accuracy is:- 0.9142157444750211\n",
      "\n",
      "\n",
      "At random state 96, the training accuracy is:- 0.9079924965315143\n",
      "At random state 96, the testing accuracy is:- 0.9010330834686279\n",
      "\n",
      "\n",
      "At random state 97, the training accuracy is:- 0.9056300082585194\n",
      "At random state 97, the testing accuracy is:- 0.910248096478396\n",
      "\n",
      "\n",
      "At random state 98, the training accuracy is:- 0.9069720052088371\n",
      "At random state 98, the testing accuracy is:- 0.9051348237376833\n",
      "\n",
      "\n",
      "At random state 99, the training accuracy is:- 0.9059345500555674\n",
      "At random state 99, the testing accuracy is:- 0.9089644205451939\n",
      "\n",
      "\n"
     ]
    }
   ],
   "source": [
    "for i in range(0,100):\n",
    "    features_train,features_test,target_train,target_test=train_test_split(features,target,test_size=0.2,random_state=i)\n",
    "    lr.fit(features_train,target_train)\n",
    "    pred_train=lr.predict(features_train)\n",
    "    pred_test=lr.predict(features_test)\n",
    "    print(f\"At random state {i}, the training accuracy is:- {r2_score(target_train,pred_train)}\")\n",
    "    print(f\"At random state {i}, the testing accuracy is:- {r2_score(target_test,pred_test)}\")\n",
    "    print(\"\\n\")"
   ]
  },
  {
   "cell_type": "code",
   "execution_count": 88,
   "id": "693ab404",
   "metadata": {},
   "outputs": [],
   "source": [
    "features_train,features_test,target_train,target_test=train_test_split(features,target,test_size=0.2,random_state=12)"
   ]
  },
  {
   "cell_type": "code",
   "execution_count": 89,
   "id": "76ddd100",
   "metadata": {},
   "outputs": [
    {
     "data": {
      "text/plain": [
       "LinearRegression()"
      ]
     },
     "execution_count": 89,
     "metadata": {},
     "output_type": "execute_result"
    }
   ],
   "source": [
    "#trainig the model\n",
    "lr.fit(features_train,target_train)"
   ]
  },
  {
   "cell_type": "code",
   "execution_count": 90,
   "id": "9b7d0925",
   "metadata": {},
   "outputs": [],
   "source": [
    "pred_test=lr.predict(features_test)"
   ]
  },
  {
   "cell_type": "code",
   "execution_count": 91,
   "id": "84290e2c",
   "metadata": {},
   "outputs": [
    {
     "name": "stdout",
     "output_type": "stream",
     "text": [
      "0.9046238705777879\n"
     ]
    }
   ],
   "source": [
    "print(r2_score(target_test,pred_test))"
   ]
  },
  {
   "cell_type": "markdown",
   "id": "56d130bf",
   "metadata": {},
   "source": [
    "# cross validation of the model"
   ]
  },
  {
   "cell_type": "code",
   "execution_count": 93,
   "id": "9401d7ad",
   "metadata": {},
   "outputs": [
    {
     "name": "stdout",
     "output_type": "stream",
     "text": [
      "At cross fold 2 the cv score is 0.9056853759998242 and accuracy score for training is -0.8612455915647186 and accuracy for the testing 0.9046238705777879\n",
      "\n",
      "\n",
      "At cross fold 3 the cv score is 0.9060689054485597 and accuracy score for training is -0.8612455915647186 and accuracy for the testing 0.9046238705777879\n",
      "\n",
      "\n",
      "At cross fold 4 the cv score is 0.906052281618998 and accuracy score for training is -0.8612455915647186 and accuracy for the testing 0.9046238705777879\n",
      "\n",
      "\n",
      "At cross fold 5 the cv score is 0.9060785914102271 and accuracy score for training is -0.8612455915647186 and accuracy for the testing 0.9046238705777879\n",
      "\n",
      "\n",
      "At cross fold 6 the cv score is 0.9061171892115527 and accuracy score for training is -0.8612455915647186 and accuracy for the testing 0.9046238705777879\n",
      "\n",
      "\n",
      "At cross fold 7 the cv score is 0.9059910991780916 and accuracy score for training is -0.8612455915647186 and accuracy for the testing 0.9046238705777879\n",
      "\n",
      "\n",
      "At cross fold 8 the cv score is 0.9059336238398121 and accuracy score for training is -0.8612455915647186 and accuracy for the testing 0.9046238705777879\n",
      "\n",
      "\n",
      "At cross fold 9 the cv score is 0.9059940804058441 and accuracy score for training is -0.8612455915647186 and accuracy for the testing 0.9046238705777879\n",
      "\n",
      "\n"
     ]
    }
   ],
   "source": [
    "train_accuracy=r2_score(target_train,pred_train)\n",
    "test_accuracy=r2_score(target_test,pred_test)\n",
    "\n",
    "from sklearn.model_selection import cross_val_score\n",
    "for j in range(2,10):\n",
    "    cv_score=cross_val_score(lr,features,target,cv=j)\n",
    "    cv_mean=cv_score.mean()\n",
    "    print(f\"At cross fold {j} the cv score is {cv_mean} and accuracy score for training is {train_accuracy} and accuracy for the testing {test_accuracy}\")\n",
    "    print(\"\\n\")"
   ]
  },
  {
   "cell_type": "markdown",
   "id": "c16bd469",
   "metadata": {},
   "source": [
    "since the number of folds do not have such impact on the accuracy and cv_score.so cv=6 selected."
   ]
  },
  {
   "cell_type": "markdown",
   "id": "10ec5db7",
   "metadata": {},
   "source": [
    "here we have handle the problem of the overfitting and the underfitting by checking the training and testing score."
   ]
  },
  {
   "cell_type": "code",
   "execution_count": 95,
   "id": "bc483451",
   "metadata": {},
   "outputs": [
    {
     "data": {
      "image/png": "[encoded data removed]",
      "text/plain": [
       "<Figure size 576x432 with 1 Axes>"
      ]
     },
     "metadata": {
      "needs_background": "light"
     },
     "output_type": "display_data"
    }
   ],
   "source": [
    "import matplotlib.pyplot as plt\n",
    "plt.figure(figsize=(8,6))\n",
    "plt.scatter(x=target_test,y=pred_test,color='r')\n",
    "plt.plot(target_test,target_test,color='b')\n",
    "plt.xlabel('Actual Charges',fontsize=14)\n",
    "plt.ylabel('Predicted Charges',fontsize=14)\n",
    "plt.title('Linear Regression',fontsize=18)\n",
    "plt.show()"
   ]
  },
  {
   "cell_type": "markdown",
   "id": "199a853b",
   "metadata": {},
   "source": [
    "Best fit line is covering the most of the datapoints which shows good fit for our model."
   ]
  },
  {
   "cell_type": "markdown",
   "id": "15b0f371",
   "metadata": {},
   "source": [
    "# Regularization"
   ]
  },
  {
   "cell_type": "code",
   "execution_count": 96,
   "id": "c4ea35b1",
   "metadata": {},
   "outputs": [],
   "source": [
    "from sklearn.model_selection import GridSearchCV\n",
    "from sklearn.model_selection import cross_val_score\n",
    "import warnings\n",
    "warnings.filterwarnings('ignore')"
   ]
  },
  {
   "cell_type": "code",
   "execution_count": 97,
   "id": "4413cc22",
   "metadata": {},
   "outputs": [
    {
     "name": "stdout",
     "output_type": "stream",
     "text": [
      "{'alpha': 1, 'random_state': 0}\n"
     ]
    }
   ],
   "source": [
    "from sklearn.linear_model import Lasso\n",
    "parameters={'alpha':[.0001,.001,.01,.1,1,10],\n",
    "           'random_state':list(range(0,10))}\n",
    "\n",
    "ls=Lasso()\n",
    "clf=GridSearchCV(ls,parameters)\n",
    "clf.fit(features_train,target_train)\n",
    "\n",
    "print(clf.best_params_)\n"
   ]
  },
  {
   "cell_type": "code",
   "execution_count": 99,
   "id": "c273b6f7",
   "metadata": {},
   "outputs": [
    {
     "data": {
      "text/plain": [
       "90.708551259518"
      ]
     },
     "execution_count": 99,
     "metadata": {},
     "output_type": "execute_result"
    }
   ],
   "source": [
    "#final model trainig\n",
    "ls=Lasso(alpha=1,random_state=0)\n",
    "ls.fit(features_train,target_train)\n",
    "ls_score_training=ls.score(features_train,target_train)\n",
    "pred_ls=ls.predict(features_test)\n",
    "ls_score_training*100"
   ]
  },
  {
   "cell_type": "code",
   "execution_count": 100,
   "id": "460d890a",
   "metadata": {},
   "outputs": [],
   "source": [
    "pred_ls=ls.predict(features_test)"
   ]
  },
  {
   "cell_type": "code",
   "execution_count": 101,
   "id": "aeebe36d",
   "metadata": {},
   "outputs": [],
   "source": [
    "lss=r2_score(target_test,pred_ls)"
   ]
  },
  {
   "cell_type": "code",
   "execution_count": 102,
   "id": "b8c2a60a",
   "metadata": {},
   "outputs": [
    {
     "data": {
      "text/plain": [
       "90.45396929310161"
      ]
     },
     "execution_count": 102,
     "metadata": {},
     "output_type": "execute_result"
    }
   ],
   "source": [
    "lss*100"
   ]
  },
  {
   "cell_type": "code",
   "execution_count": 103,
   "id": "832fc88c",
   "metadata": {},
   "outputs": [
    {
     "data": {
      "text/plain": [
       "90.60742480797772"
      ]
     },
     "execution_count": 103,
     "metadata": {},
     "output_type": "execute_result"
    }
   ],
   "source": [
    "cv_score=cross_val_score(ls,features,target,cv=5)\n",
    "cv_mean=cv_score.mean()\n",
    "cv_mean*100"
   ]
  },
  {
   "cell_type": "markdown",
   "id": "774d6de6",
   "metadata": {},
   "source": [
    "# Ensemble technique"
   ]
  },
  {
   "cell_type": "code",
   "execution_count": 104,
   "id": "11e9a2a4",
   "metadata": {},
   "outputs": [
    {
     "name": "stdout",
     "output_type": "stream",
     "text": [
      "{'criterion': 'mae', 'max_features': 'auto'}\n"
     ]
    }
   ],
   "source": [
    "from sklearn.model_selection import GridSearchCV\n",
    "from sklearn.ensemble import RandomForestRegressor\n",
    "\n",
    "parameters= {'criterion':['mse','mae'],\n",
    "            'max_features':['auto','sqrt','log2']}\n",
    "\n",
    "rf=RandomForestRegressor()\n",
    "clf=GridSearchCV(rf,parameters)\n",
    "clf.fit(features_train,target_train)\n",
    "\n",
    "print(clf.best_params_)"
   ]
  },
  {
   "cell_type": "code",
   "execution_count": 105,
   "id": "c6b90a14",
   "metadata": {},
   "outputs": [
    {
     "name": "stdout",
     "output_type": "stream",
     "text": [
      "training r2 0.9998184464613604\n",
      "R2 score: 99.87113058553041\n",
      "cross val scor 99.87641314489511\n"
     ]
    }
   ],
   "source": [
    "rf=RandomForestRegressor(criterion='mae',max_features='auto')\n",
    "rf.fit(features_train,target_train)\n",
    "training_r2=rf.score(features_train,target_train)\n",
    "pred_decision=rf.predict(features_test)\n",
    "\n",
    "print('training r2',training_r2)\n",
    "\n",
    "rfs=r2_score(target_test,pred_decision)\n",
    "print('R2 score:',rfs*100)\n",
    "\n",
    "rfscore=cross_val_score(rf,features,target,cv=5)\n",
    "rfc=rfscore.mean()\n",
    "\n",
    "print('cross val scor',rfc*100)"
   ]
  },
  {
   "cell_type": "code",
   "execution_count": null,
   "id": "9e8ca4d0",
   "metadata": {},
   "outputs": [],
   "source": [
    "we are getting model accuracy and cross validation both as 99.8% which shows our model is performing extremely well."
   ]
  },
  {
   "cell_type": "code",
   "execution_count": 106,
   "id": "b5c90a16",
   "metadata": {},
   "outputs": [],
   "source": [
    "#saving model\n",
    "import pickle\n",
    "filename='Churn.pkl'\n",
    "pickle.dump(rf,open(filename,'wb'))"
   ]
  },
  {
   "cell_type": "markdown",
   "id": "5a2017a2",
   "metadata": {},
   "source": [
    "# Conclusion"
   ]
  },
  {
   "cell_type": "code",
   "execution_count": 107,
   "id": "b64a44d4",
   "metadata": {},
   "outputs": [
    {
     "name": "stdout",
     "output_type": "stream",
     "text": [
      "99.87113058553041\n"
     ]
    }
   ],
   "source": [
    "loaded_model=pickle.load(open('Churn.pkl','rb'))\n",
    "result=loaded_model.score(features_test,target_test)\n",
    "print(result*100)"
   ]
  },
  {
   "cell_type": "code",
   "execution_count": 108,
   "id": "cb8939f9",
   "metadata": {},
   "outputs": [],
   "source": [
    "conclusion=pd.DataFrame([loaded_model.predict(features_test)[:],pred_decision[:]],index=['predicted','original'])"
   ]
  },
  {
   "cell_type": "code",
   "execution_count": 110,
   "id": "180ff858",
   "metadata": {},
   "outputs": [
    {
     "data": {
      "text/html": [
       "<div>\n",
       "<style scoped>\n",
       "    .dataframe tbody tr th:only-of-type {\n",
       "        vertical-align: middle;\n",
       "    }\n",
       "\n",
       "    .dataframe tbody tr th {\n",
       "        vertical-align: top;\n",
       "    }\n",
       "\n",
       "    .dataframe thead th {\n",
       "        text-align: right;\n",
       "    }\n",
       "</style>\n",
       "<table border=\"1\" class=\"dataframe\">\n",
       "  <thead>\n",
       "    <tr style=\"text-align: right;\">\n",
       "      <th></th>\n",
       "      <th>predicted</th>\n",
       "      <th>original</th>\n",
       "    </tr>\n",
       "  </thead>\n",
       "  <tbody>\n",
       "    <tr>\n",
       "      <th>0</th>\n",
       "      <td>1713.1760</td>\n",
       "      <td>1713.1760</td>\n",
       "    </tr>\n",
       "    <tr>\n",
       "      <th>1</th>\n",
       "      <td>321.0265</td>\n",
       "      <td>321.0265</td>\n",
       "    </tr>\n",
       "    <tr>\n",
       "      <th>2</th>\n",
       "      <td>912.7425</td>\n",
       "      <td>912.7425</td>\n",
       "    </tr>\n",
       "    <tr>\n",
       "      <th>3</th>\n",
       "      <td>18.9220</td>\n",
       "      <td>18.9220</td>\n",
       "    </tr>\n",
       "    <tr>\n",
       "      <th>4</th>\n",
       "      <td>230.3735</td>\n",
       "      <td>230.3735</td>\n",
       "    </tr>\n",
       "    <tr>\n",
       "      <th>...</th>\n",
       "      <td>...</td>\n",
       "      <td>...</td>\n",
       "    </tr>\n",
       "    <tr>\n",
       "      <th>1402</th>\n",
       "      <td>142.8980</td>\n",
       "      <td>142.8980</td>\n",
       "    </tr>\n",
       "    <tr>\n",
       "      <th>1403</th>\n",
       "      <td>3129.9345</td>\n",
       "      <td>3129.9345</td>\n",
       "    </tr>\n",
       "    <tr>\n",
       "      <th>1404</th>\n",
       "      <td>6315.2390</td>\n",
       "      <td>6315.2390</td>\n",
       "    </tr>\n",
       "    <tr>\n",
       "      <th>1405</th>\n",
       "      <td>935.0695</td>\n",
       "      <td>935.0695</td>\n",
       "    </tr>\n",
       "    <tr>\n",
       "      <th>1406</th>\n",
       "      <td>489.4840</td>\n",
       "      <td>489.4840</td>\n",
       "    </tr>\n",
       "  </tbody>\n",
       "</table>\n",
       "<p>1407 rows × 2 columns</p>\n",
       "</div>"
      ],
      "text/plain": [
       "      predicted   original\n",
       "0     1713.1760  1713.1760\n",
       "1      321.0265   321.0265\n",
       "2      912.7425   912.7425\n",
       "3       18.9220    18.9220\n",
       "4      230.3735   230.3735\n",
       "...         ...        ...\n",
       "1402   142.8980   142.8980\n",
       "1403  3129.9345  3129.9345\n",
       "1404  6315.2390  6315.2390\n",
       "1405   935.0695   935.0695\n",
       "1406   489.4840   489.4840\n",
       "\n",
       "[1407 rows x 2 columns]"
      ]
     },
     "execution_count": 110,
     "metadata": {},
     "output_type": "execute_result"
    }
   ],
   "source": [
    "conclusion.transpose()"
   ]
  },
  {
   "cell_type": "code",
   "execution_count": null,
   "id": "cc99d7e9",
   "metadata": {},
   "outputs": [],
   "source": []
  }
 ],
 "metadata": {
  "kernelspec": {
   "display_name": "Python 3 (ipykernel)",
   "language": "python",
   "name": "python3"
  },
  "language_info": {
   "codemirror_mode": {
    "name": "ipython",
    "version": 3
   },
   "file_extension": ".py",
   "mimetype": "text/x-python",
   "name": "python",
   "nbconvert_exporter": "python",
   "pygments_lexer": "ipython3",
   "version": "3.9.7"
  }
 },
 "nbformat": 4,
 "nbformat_minor": 5
}
